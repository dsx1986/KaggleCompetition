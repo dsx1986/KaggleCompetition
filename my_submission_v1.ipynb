{
 "cells": [
  {
   "cell_type": "markdown",
   "metadata": {},
   "source": [
    "# Kaggle competition : Santander Customer Satisfaction\n",
    "- - - \n",
    "Kaggle competition \n",
    "[link](https://www.kaggle.com/c/santander-customer-satisfaction): \n",
    "\n",
    "From frontline support teams to C-suites, customer satisfaction is a key measure of success. Unhappy customers don't stick around. What's more, unhappy customers rarely voice their dissatisfaction before leaving.\n",
    "\n",
    "Santander Bank is asking Kagglers to help them identify dissatisfied customers early in their relationship. Doing so would allow Santander to take proactive steps to improve a customer's happiness before it's too late.\n",
    "\n",
    "In this competition, you'll work with hundreds of anonymized features to predict if a customer is satisfied or dissatisfied with their banking experience.\n",
    "\n",
    "\n",
    "\n",
    "Started: 7:43 pm, Wednesday 2 March 2016 UTC \n",
    "Ends: 11:59 pm, Monday 2 May 2016 UTC (61 total days) \n",
    "Points: this competition awards standard ranking points \n",
    "Tiers: this competition counts towards tiers"
   ]
  },
  {
   "cell_type": "markdown",
   "metadata": {},
   "source": [
    "We found data:\n",
    "1. sparse\n",
    "2. strong correlation of neighbours\n",
    "3. satisfied(true) skew, 10%"
   ]
  },
  {
   "cell_type": "markdown",
   "metadata": {},
   "source": [
    "## import library and data\n",
    "- - - \n",
    "basic data cleaning, including:\n",
    "1. find duplicates\n",
    "2. encode catogorical values\n",
    "3. fill missing values\n",
    "4. shift data range \n",
    "5. normalization\n",
    "6. polynomial features\n",
    "7. transform"
   ]
  },
  {
   "cell_type": "code",
   "execution_count": null,
   "metadata": {
    "collapsed": true
   },
   "outputs": [],
   "source": []
  },
  {
   "cell_type": "code",
   "execution_count": 60,
   "metadata": {
    "collapsed": false
   },
   "outputs": [],
   "source": [
    "import numpy as np\n",
    "import pandas as pd\n",
    "import matplotlib.pyplot as plt\n",
    "plt.rcParams['figure.figsize'] = (12, 6)\n",
    "%matplotlib inline"
   ]
  },
  {
   "cell_type": "code",
   "execution_count": 61,
   "metadata": {
    "collapsed": false
   },
   "outputs": [
    {
     "name": "stdout",
     "output_type": "stream",
     "text": [
      "test.csv\n",
      "train.csv\n",
      "\n"
     ]
    }
   ],
   "source": [
    "from subprocess import check_output\n",
    "print check_output([\"ls\",\"input\"]).decode(\"utf8\")"
   ]
  },
  {
   "cell_type": "code",
   "execution_count": 62,
   "metadata": {
    "collapsed": false
   },
   "outputs": [],
   "source": [
    "train = pd.read_csv(\"input/train.csv\",index_col=0)\n",
    "test = pd.read_csv(\"input/test.csv\",index_col=0)"
   ]
  },
  {
   "cell_type": "code",
   "execution_count": 63,
   "metadata": {
    "collapsed": false
   },
   "outputs": [
    {
     "name": "stdout",
     "output_type": "stream",
     "text": [
      "(76020, 370)\n",
      "(75818, 369)\n"
     ]
    }
   ],
   "source": [
    "print(train.shape)\n",
    "print(test.shape)"
   ]
  },
  {
   "cell_type": "code",
   "execution_count": 64,
   "metadata": {
    "collapsed": false
   },
   "outputs": [
    {
     "data": {
      "text/html": [
       "<div>\n",
       "<table border=\"1\" class=\"dataframe\">\n",
       "  <thead>\n",
       "    <tr style=\"text-align: right;\">\n",
       "      <th></th>\n",
       "      <th>var3</th>\n",
       "      <th>var15</th>\n",
       "      <th>imp_ent_var16_ult1</th>\n",
       "      <th>imp_op_var39_comer_ult1</th>\n",
       "      <th>imp_op_var39_comer_ult3</th>\n",
       "      <th>imp_op_var40_comer_ult1</th>\n",
       "      <th>imp_op_var40_comer_ult3</th>\n",
       "      <th>imp_op_var40_efect_ult1</th>\n",
       "      <th>imp_op_var40_efect_ult3</th>\n",
       "      <th>imp_op_var40_ult1</th>\n",
       "      <th>...</th>\n",
       "      <th>saldo_medio_var33_hace2</th>\n",
       "      <th>saldo_medio_var33_hace3</th>\n",
       "      <th>saldo_medio_var33_ult1</th>\n",
       "      <th>saldo_medio_var33_ult3</th>\n",
       "      <th>saldo_medio_var44_hace2</th>\n",
       "      <th>saldo_medio_var44_hace3</th>\n",
       "      <th>saldo_medio_var44_ult1</th>\n",
       "      <th>saldo_medio_var44_ult3</th>\n",
       "      <th>var38</th>\n",
       "      <th>TARGET</th>\n",
       "    </tr>\n",
       "    <tr>\n",
       "      <th>ID</th>\n",
       "      <th></th>\n",
       "      <th></th>\n",
       "      <th></th>\n",
       "      <th></th>\n",
       "      <th></th>\n",
       "      <th></th>\n",
       "      <th></th>\n",
       "      <th></th>\n",
       "      <th></th>\n",
       "      <th></th>\n",
       "      <th></th>\n",
       "      <th></th>\n",
       "      <th></th>\n",
       "      <th></th>\n",
       "      <th></th>\n",
       "      <th></th>\n",
       "      <th></th>\n",
       "      <th></th>\n",
       "      <th></th>\n",
       "      <th></th>\n",
       "      <th></th>\n",
       "    </tr>\n",
       "  </thead>\n",
       "  <tbody>\n",
       "    <tr>\n",
       "      <th>1</th>\n",
       "      <td>2</td>\n",
       "      <td>23</td>\n",
       "      <td>0.0</td>\n",
       "      <td>0.0</td>\n",
       "      <td>0.0</td>\n",
       "      <td>0.0</td>\n",
       "      <td>0.0</td>\n",
       "      <td>0.0</td>\n",
       "      <td>0.0</td>\n",
       "      <td>0.0</td>\n",
       "      <td>...</td>\n",
       "      <td>0.0</td>\n",
       "      <td>0.0</td>\n",
       "      <td>0.0</td>\n",
       "      <td>0.0</td>\n",
       "      <td>0.0</td>\n",
       "      <td>0.0</td>\n",
       "      <td>0.0</td>\n",
       "      <td>0.0</td>\n",
       "      <td>39205.170000</td>\n",
       "      <td>0</td>\n",
       "    </tr>\n",
       "    <tr>\n",
       "      <th>3</th>\n",
       "      <td>2</td>\n",
       "      <td>34</td>\n",
       "      <td>0.0</td>\n",
       "      <td>0.0</td>\n",
       "      <td>0.0</td>\n",
       "      <td>0.0</td>\n",
       "      <td>0.0</td>\n",
       "      <td>0.0</td>\n",
       "      <td>0.0</td>\n",
       "      <td>0.0</td>\n",
       "      <td>...</td>\n",
       "      <td>0.0</td>\n",
       "      <td>0.0</td>\n",
       "      <td>0.0</td>\n",
       "      <td>0.0</td>\n",
       "      <td>0.0</td>\n",
       "      <td>0.0</td>\n",
       "      <td>0.0</td>\n",
       "      <td>0.0</td>\n",
       "      <td>49278.030000</td>\n",
       "      <td>0</td>\n",
       "    </tr>\n",
       "    <tr>\n",
       "      <th>4</th>\n",
       "      <td>2</td>\n",
       "      <td>23</td>\n",
       "      <td>0.0</td>\n",
       "      <td>0.0</td>\n",
       "      <td>0.0</td>\n",
       "      <td>0.0</td>\n",
       "      <td>0.0</td>\n",
       "      <td>0.0</td>\n",
       "      <td>0.0</td>\n",
       "      <td>0.0</td>\n",
       "      <td>...</td>\n",
       "      <td>0.0</td>\n",
       "      <td>0.0</td>\n",
       "      <td>0.0</td>\n",
       "      <td>0.0</td>\n",
       "      <td>0.0</td>\n",
       "      <td>0.0</td>\n",
       "      <td>0.0</td>\n",
       "      <td>0.0</td>\n",
       "      <td>67333.770000</td>\n",
       "      <td>0</td>\n",
       "    </tr>\n",
       "    <tr>\n",
       "      <th>8</th>\n",
       "      <td>2</td>\n",
       "      <td>37</td>\n",
       "      <td>0.0</td>\n",
       "      <td>195.0</td>\n",
       "      <td>195.0</td>\n",
       "      <td>0.0</td>\n",
       "      <td>0.0</td>\n",
       "      <td>0.0</td>\n",
       "      <td>0.0</td>\n",
       "      <td>0.0</td>\n",
       "      <td>...</td>\n",
       "      <td>0.0</td>\n",
       "      <td>0.0</td>\n",
       "      <td>0.0</td>\n",
       "      <td>0.0</td>\n",
       "      <td>0.0</td>\n",
       "      <td>0.0</td>\n",
       "      <td>0.0</td>\n",
       "      <td>0.0</td>\n",
       "      <td>64007.970000</td>\n",
       "      <td>0</td>\n",
       "    </tr>\n",
       "    <tr>\n",
       "      <th>10</th>\n",
       "      <td>2</td>\n",
       "      <td>39</td>\n",
       "      <td>0.0</td>\n",
       "      <td>0.0</td>\n",
       "      <td>0.0</td>\n",
       "      <td>0.0</td>\n",
       "      <td>0.0</td>\n",
       "      <td>0.0</td>\n",
       "      <td>0.0</td>\n",
       "      <td>0.0</td>\n",
       "      <td>...</td>\n",
       "      <td>0.0</td>\n",
       "      <td>0.0</td>\n",
       "      <td>0.0</td>\n",
       "      <td>0.0</td>\n",
       "      <td>0.0</td>\n",
       "      <td>0.0</td>\n",
       "      <td>0.0</td>\n",
       "      <td>0.0</td>\n",
       "      <td>117310.979016</td>\n",
       "      <td>0</td>\n",
       "    </tr>\n",
       "  </tbody>\n",
       "</table>\n",
       "<p>5 rows × 370 columns</p>\n",
       "</div>"
      ],
      "text/plain": [
       "    var3  var15  imp_ent_var16_ult1  imp_op_var39_comer_ult1  \\\n",
       "ID                                                             \n",
       "1      2     23                 0.0                      0.0   \n",
       "3      2     34                 0.0                      0.0   \n",
       "4      2     23                 0.0                      0.0   \n",
       "8      2     37                 0.0                    195.0   \n",
       "10     2     39                 0.0                      0.0   \n",
       "\n",
       "    imp_op_var39_comer_ult3  imp_op_var40_comer_ult1  imp_op_var40_comer_ult3  \\\n",
       "ID                                                                              \n",
       "1                       0.0                      0.0                      0.0   \n",
       "3                       0.0                      0.0                      0.0   \n",
       "4                       0.0                      0.0                      0.0   \n",
       "8                     195.0                      0.0                      0.0   \n",
       "10                      0.0                      0.0                      0.0   \n",
       "\n",
       "    imp_op_var40_efect_ult1  imp_op_var40_efect_ult3  imp_op_var40_ult1  \\\n",
       "ID                                                                        \n",
       "1                       0.0                      0.0                0.0   \n",
       "3                       0.0                      0.0                0.0   \n",
       "4                       0.0                      0.0                0.0   \n",
       "8                       0.0                      0.0                0.0   \n",
       "10                      0.0                      0.0                0.0   \n",
       "\n",
       "     ...    saldo_medio_var33_hace2  saldo_medio_var33_hace3  \\\n",
       "ID   ...                                                       \n",
       "1    ...                        0.0                      0.0   \n",
       "3    ...                        0.0                      0.0   \n",
       "4    ...                        0.0                      0.0   \n",
       "8    ...                        0.0                      0.0   \n",
       "10   ...                        0.0                      0.0   \n",
       "\n",
       "    saldo_medio_var33_ult1  saldo_medio_var33_ult3  saldo_medio_var44_hace2  \\\n",
       "ID                                                                            \n",
       "1                      0.0                     0.0                      0.0   \n",
       "3                      0.0                     0.0                      0.0   \n",
       "4                      0.0                     0.0                      0.0   \n",
       "8                      0.0                     0.0                      0.0   \n",
       "10                     0.0                     0.0                      0.0   \n",
       "\n",
       "    saldo_medio_var44_hace3  saldo_medio_var44_ult1  saldo_medio_var44_ult3  \\\n",
       "ID                                                                            \n",
       "1                       0.0                     0.0                     0.0   \n",
       "3                       0.0                     0.0                     0.0   \n",
       "4                       0.0                     0.0                     0.0   \n",
       "8                       0.0                     0.0                     0.0   \n",
       "10                      0.0                     0.0                     0.0   \n",
       "\n",
       "            var38  TARGET  \n",
       "ID                         \n",
       "1    39205.170000       0  \n",
       "3    49278.030000       0  \n",
       "4    67333.770000       0  \n",
       "8    64007.970000       0  \n",
       "10  117310.979016       0  \n",
       "\n",
       "[5 rows x 370 columns]"
      ]
     },
     "execution_count": 64,
     "metadata": {},
     "output_type": "execute_result"
    }
   ],
   "source": [
    "train.head()"
   ]
  },
  {
   "cell_type": "code",
   "execution_count": 65,
   "metadata": {
    "collapsed": false
   },
   "outputs": [
    {
     "data": {
      "text/html": [
       "<div>\n",
       "<table border=\"1\" class=\"dataframe\">\n",
       "  <thead>\n",
       "    <tr style=\"text-align: right;\">\n",
       "      <th></th>\n",
       "      <th>var3</th>\n",
       "      <th>var15</th>\n",
       "      <th>imp_ent_var16_ult1</th>\n",
       "      <th>imp_op_var39_comer_ult1</th>\n",
       "      <th>imp_op_var39_comer_ult3</th>\n",
       "      <th>imp_op_var40_comer_ult1</th>\n",
       "      <th>imp_op_var40_comer_ult3</th>\n",
       "      <th>imp_op_var40_efect_ult1</th>\n",
       "      <th>imp_op_var40_efect_ult3</th>\n",
       "      <th>imp_op_var40_ult1</th>\n",
       "      <th>...</th>\n",
       "      <th>saldo_medio_var29_ult3</th>\n",
       "      <th>saldo_medio_var33_hace2</th>\n",
       "      <th>saldo_medio_var33_hace3</th>\n",
       "      <th>saldo_medio_var33_ult1</th>\n",
       "      <th>saldo_medio_var33_ult3</th>\n",
       "      <th>saldo_medio_var44_hace2</th>\n",
       "      <th>saldo_medio_var44_hace3</th>\n",
       "      <th>saldo_medio_var44_ult1</th>\n",
       "      <th>saldo_medio_var44_ult3</th>\n",
       "      <th>var38</th>\n",
       "    </tr>\n",
       "    <tr>\n",
       "      <th>ID</th>\n",
       "      <th></th>\n",
       "      <th></th>\n",
       "      <th></th>\n",
       "      <th></th>\n",
       "      <th></th>\n",
       "      <th></th>\n",
       "      <th></th>\n",
       "      <th></th>\n",
       "      <th></th>\n",
       "      <th></th>\n",
       "      <th></th>\n",
       "      <th></th>\n",
       "      <th></th>\n",
       "      <th></th>\n",
       "      <th></th>\n",
       "      <th></th>\n",
       "      <th></th>\n",
       "      <th></th>\n",
       "      <th></th>\n",
       "      <th></th>\n",
       "      <th></th>\n",
       "    </tr>\n",
       "  </thead>\n",
       "  <tbody>\n",
       "    <tr>\n",
       "      <th>2</th>\n",
       "      <td>2</td>\n",
       "      <td>32</td>\n",
       "      <td>0.0</td>\n",
       "      <td>0.0</td>\n",
       "      <td>0.0</td>\n",
       "      <td>0.0</td>\n",
       "      <td>0.0</td>\n",
       "      <td>0.0</td>\n",
       "      <td>0.0</td>\n",
       "      <td>0.0</td>\n",
       "      <td>...</td>\n",
       "      <td>0.0</td>\n",
       "      <td>0.0</td>\n",
       "      <td>0.0</td>\n",
       "      <td>0.0</td>\n",
       "      <td>0.0</td>\n",
       "      <td>0.0</td>\n",
       "      <td>0.0</td>\n",
       "      <td>0.0</td>\n",
       "      <td>0.0</td>\n",
       "      <td>40532.10</td>\n",
       "    </tr>\n",
       "    <tr>\n",
       "      <th>5</th>\n",
       "      <td>2</td>\n",
       "      <td>35</td>\n",
       "      <td>0.0</td>\n",
       "      <td>0.0</td>\n",
       "      <td>0.0</td>\n",
       "      <td>0.0</td>\n",
       "      <td>0.0</td>\n",
       "      <td>0.0</td>\n",
       "      <td>0.0</td>\n",
       "      <td>0.0</td>\n",
       "      <td>...</td>\n",
       "      <td>0.0</td>\n",
       "      <td>0.0</td>\n",
       "      <td>0.0</td>\n",
       "      <td>0.0</td>\n",
       "      <td>0.0</td>\n",
       "      <td>0.0</td>\n",
       "      <td>0.0</td>\n",
       "      <td>0.0</td>\n",
       "      <td>0.0</td>\n",
       "      <td>45486.72</td>\n",
       "    </tr>\n",
       "    <tr>\n",
       "      <th>6</th>\n",
       "      <td>2</td>\n",
       "      <td>23</td>\n",
       "      <td>0.0</td>\n",
       "      <td>0.0</td>\n",
       "      <td>0.0</td>\n",
       "      <td>0.0</td>\n",
       "      <td>0.0</td>\n",
       "      <td>0.0</td>\n",
       "      <td>0.0</td>\n",
       "      <td>0.0</td>\n",
       "      <td>...</td>\n",
       "      <td>0.0</td>\n",
       "      <td>0.0</td>\n",
       "      <td>0.0</td>\n",
       "      <td>0.0</td>\n",
       "      <td>0.0</td>\n",
       "      <td>0.0</td>\n",
       "      <td>0.0</td>\n",
       "      <td>0.0</td>\n",
       "      <td>0.0</td>\n",
       "      <td>46993.95</td>\n",
       "    </tr>\n",
       "    <tr>\n",
       "      <th>7</th>\n",
       "      <td>2</td>\n",
       "      <td>24</td>\n",
       "      <td>0.0</td>\n",
       "      <td>0.0</td>\n",
       "      <td>0.0</td>\n",
       "      <td>0.0</td>\n",
       "      <td>0.0</td>\n",
       "      <td>0.0</td>\n",
       "      <td>0.0</td>\n",
       "      <td>0.0</td>\n",
       "      <td>...</td>\n",
       "      <td>0.0</td>\n",
       "      <td>0.0</td>\n",
       "      <td>0.0</td>\n",
       "      <td>0.0</td>\n",
       "      <td>0.0</td>\n",
       "      <td>0.0</td>\n",
       "      <td>0.0</td>\n",
       "      <td>0.0</td>\n",
       "      <td>0.0</td>\n",
       "      <td>187898.61</td>\n",
       "    </tr>\n",
       "    <tr>\n",
       "      <th>9</th>\n",
       "      <td>2</td>\n",
       "      <td>23</td>\n",
       "      <td>0.0</td>\n",
       "      <td>0.0</td>\n",
       "      <td>0.0</td>\n",
       "      <td>0.0</td>\n",
       "      <td>0.0</td>\n",
       "      <td>0.0</td>\n",
       "      <td>0.0</td>\n",
       "      <td>0.0</td>\n",
       "      <td>...</td>\n",
       "      <td>0.0</td>\n",
       "      <td>0.0</td>\n",
       "      <td>0.0</td>\n",
       "      <td>0.0</td>\n",
       "      <td>0.0</td>\n",
       "      <td>0.0</td>\n",
       "      <td>0.0</td>\n",
       "      <td>0.0</td>\n",
       "      <td>0.0</td>\n",
       "      <td>73649.73</td>\n",
       "    </tr>\n",
       "  </tbody>\n",
       "</table>\n",
       "<p>5 rows × 369 columns</p>\n",
       "</div>"
      ],
      "text/plain": [
       "    var3  var15  imp_ent_var16_ult1  imp_op_var39_comer_ult1  \\\n",
       "ID                                                             \n",
       "2      2     32                 0.0                      0.0   \n",
       "5      2     35                 0.0                      0.0   \n",
       "6      2     23                 0.0                      0.0   \n",
       "7      2     24                 0.0                      0.0   \n",
       "9      2     23                 0.0                      0.0   \n",
       "\n",
       "    imp_op_var39_comer_ult3  imp_op_var40_comer_ult1  imp_op_var40_comer_ult3  \\\n",
       "ID                                                                              \n",
       "2                       0.0                      0.0                      0.0   \n",
       "5                       0.0                      0.0                      0.0   \n",
       "6                       0.0                      0.0                      0.0   \n",
       "7                       0.0                      0.0                      0.0   \n",
       "9                       0.0                      0.0                      0.0   \n",
       "\n",
       "    imp_op_var40_efect_ult1  imp_op_var40_efect_ult3  imp_op_var40_ult1  \\\n",
       "ID                                                                        \n",
       "2                       0.0                      0.0                0.0   \n",
       "5                       0.0                      0.0                0.0   \n",
       "6                       0.0                      0.0                0.0   \n",
       "7                       0.0                      0.0                0.0   \n",
       "9                       0.0                      0.0                0.0   \n",
       "\n",
       "      ...      saldo_medio_var29_ult3  saldo_medio_var33_hace2  \\\n",
       "ID    ...                                                        \n",
       "2     ...                         0.0                      0.0   \n",
       "5     ...                         0.0                      0.0   \n",
       "6     ...                         0.0                      0.0   \n",
       "7     ...                         0.0                      0.0   \n",
       "9     ...                         0.0                      0.0   \n",
       "\n",
       "    saldo_medio_var33_hace3  saldo_medio_var33_ult1  saldo_medio_var33_ult3  \\\n",
       "ID                                                                            \n",
       "2                       0.0                     0.0                     0.0   \n",
       "5                       0.0                     0.0                     0.0   \n",
       "6                       0.0                     0.0                     0.0   \n",
       "7                       0.0                     0.0                     0.0   \n",
       "9                       0.0                     0.0                     0.0   \n",
       "\n",
       "    saldo_medio_var44_hace2  saldo_medio_var44_hace3  saldo_medio_var44_ult1  \\\n",
       "ID                                                                             \n",
       "2                       0.0                      0.0                     0.0   \n",
       "5                       0.0                      0.0                     0.0   \n",
       "6                       0.0                      0.0                     0.0   \n",
       "7                       0.0                      0.0                     0.0   \n",
       "9                       0.0                      0.0                     0.0   \n",
       "\n",
       "    saldo_medio_var44_ult3      var38  \n",
       "ID                                     \n",
       "2                      0.0   40532.10  \n",
       "5                      0.0   45486.72  \n",
       "6                      0.0   46993.95  \n",
       "7                      0.0  187898.61  \n",
       "9                      0.0   73649.73  \n",
       "\n",
       "[5 rows x 369 columns]"
      ]
     },
     "execution_count": 65,
     "metadata": {},
     "output_type": "execute_result"
    }
   ],
   "source": [
    "test.head()"
   ]
  },
  {
   "cell_type": "code",
   "execution_count": 66,
   "metadata": {
    "collapsed": false,
    "scrolled": true
   },
   "outputs": [
    {
     "name": "stdout",
     "output_type": "stream",
     "text": [
      "<class 'pandas.core.frame.DataFrame'>\n",
      "Int64Index: 76020 entries, 1 to 151838\n",
      "Columns: 370 entries, var3 to TARGET\n",
      "dtypes: float64(111), int64(259)\n",
      "memory usage: 215.2 MB\n",
      "None\n",
      "Index([u'var3', u'var15', u'imp_ent_var16_ult1', u'imp_op_var39_comer_ult1',\n",
      "       u'imp_op_var39_comer_ult3', u'imp_op_var40_comer_ult1',\n",
      "       u'imp_op_var40_comer_ult3', u'imp_op_var40_efect_ult1',\n",
      "       u'imp_op_var40_efect_ult3', u'imp_op_var40_ult1',\n",
      "       ...\n",
      "       u'saldo_medio_var33_hace2', u'saldo_medio_var33_hace3',\n",
      "       u'saldo_medio_var33_ult1', u'saldo_medio_var33_ult3',\n",
      "       u'saldo_medio_var44_hace2', u'saldo_medio_var44_hace3',\n",
      "       u'saldo_medio_var44_ult1', u'saldo_medio_var44_ult3', u'var38',\n",
      "       u'TARGET'],\n",
      "      dtype='object', length=370)\n"
     ]
    }
   ],
   "source": [
    "print(train.info())\n",
    "print(train.columns)"
   ]
  },
  {
   "cell_type": "markdown",
   "metadata": {},
   "source": [
    "## Data Cleaning"
   ]
  },
  {
   "cell_type": "markdown",
   "metadata": {},
   "source": [
    "Remove empty columns"
   ]
  },
  {
   "cell_type": "code",
   "execution_count": 67,
   "metadata": {
    "collapsed": false
   },
   "outputs": [
    {
     "name": "stdout",
     "output_type": "stream",
     "text": [
      "['ind_var2_0', 'ind_var2', 'ind_var27_0', 'ind_var28_0', 'ind_var28', 'ind_var27', 'ind_var41', 'ind_var46_0', 'ind_var46', 'num_var27_0', 'num_var28_0', 'num_var28', 'num_var27', 'num_var41', 'num_var46_0', 'num_var46', 'saldo_var28', 'saldo_var27', 'saldo_var41', 'saldo_var46', 'imp_amort_var18_hace3', 'imp_amort_var34_hace3', 'imp_reemb_var13_hace3', 'imp_reemb_var33_hace3', 'imp_trasp_var17_out_hace3', 'imp_trasp_var33_out_hace3', 'num_var2_0_ult1', 'num_var2_ult1', 'num_reemb_var13_hace3', 'num_reemb_var33_hace3', 'num_trasp_var17_out_hace3', 'num_trasp_var33_out_hace3', 'saldo_var2_ult1', 'saldo_medio_var13_medio_hace3']\n",
      "<class 'pandas.sparse.frame.SparseDataFrame'>\n",
      "Int64Index: 76020 entries, 1 to 151838\n",
      "Columns: 336 entries, var3 to TARGET\n",
      "dtypes: float64(336)\n",
      "memory usage: 20.1 MB\n",
      "None\n",
      "<class 'pandas.sparse.frame.SparseDataFrame'>\n",
      "Int64Index: 75818 entries, 2 to 151837\n",
      "Columns: 335 entries, var3 to var38\n",
      "dtypes: float64(335)\n",
      "memory usage: 20.0 MB\n",
      "None\n"
     ]
    }
   ],
   "source": [
    "remove = []\n",
    "for col in train.columns:\n",
    "    if train[col].std() == 0:\n",
    "        remove.append(col)\n",
    "\n",
    "print remove\n",
    "train.drop(remove,axis=1,inplace=True)\n",
    "test.drop(remove,axis=1,inplace=True)\n",
    "print(train.replace(0,np.nan).to_sparse().info())\n",
    "print(test.replace(0,np.nan).to_sparse().info())"
   ]
  },
  {
   "cell_type": "code",
   "execution_count": 68,
   "metadata": {
    "collapsed": false
   },
   "outputs": [
    {
     "data": {
      "text/html": [
       "<div>\n",
       "<table border=\"1\" class=\"dataframe\">\n",
       "  <thead>\n",
       "    <tr style=\"text-align: right;\">\n",
       "      <th></th>\n",
       "      <th>var3</th>\n",
       "      <th>var15</th>\n",
       "      <th>imp_ent_var16_ult1</th>\n",
       "      <th>imp_op_var39_comer_ult1</th>\n",
       "      <th>imp_op_var39_comer_ult3</th>\n",
       "      <th>imp_op_var40_comer_ult1</th>\n",
       "      <th>imp_op_var40_comer_ult3</th>\n",
       "      <th>imp_op_var40_efect_ult1</th>\n",
       "      <th>imp_op_var40_efect_ult3</th>\n",
       "      <th>imp_op_var40_ult1</th>\n",
       "      <th>...</th>\n",
       "      <th>saldo_medio_var33_hace2</th>\n",
       "      <th>saldo_medio_var33_hace3</th>\n",
       "      <th>saldo_medio_var33_ult1</th>\n",
       "      <th>saldo_medio_var33_ult3</th>\n",
       "      <th>saldo_medio_var44_hace2</th>\n",
       "      <th>saldo_medio_var44_hace3</th>\n",
       "      <th>saldo_medio_var44_ult1</th>\n",
       "      <th>saldo_medio_var44_ult3</th>\n",
       "      <th>var38</th>\n",
       "      <th>TARGET</th>\n",
       "    </tr>\n",
       "    <tr>\n",
       "      <th>ID</th>\n",
       "      <th></th>\n",
       "      <th></th>\n",
       "      <th></th>\n",
       "      <th></th>\n",
       "      <th></th>\n",
       "      <th></th>\n",
       "      <th></th>\n",
       "      <th></th>\n",
       "      <th></th>\n",
       "      <th></th>\n",
       "      <th></th>\n",
       "      <th></th>\n",
       "      <th></th>\n",
       "      <th></th>\n",
       "      <th></th>\n",
       "      <th></th>\n",
       "      <th></th>\n",
       "      <th></th>\n",
       "      <th></th>\n",
       "      <th></th>\n",
       "      <th></th>\n",
       "    </tr>\n",
       "  </thead>\n",
       "  <tbody>\n",
       "    <tr>\n",
       "      <th>1</th>\n",
       "      <td>2</td>\n",
       "      <td>23</td>\n",
       "      <td>0.0</td>\n",
       "      <td>0.0</td>\n",
       "      <td>0.0</td>\n",
       "      <td>0.0</td>\n",
       "      <td>0.0</td>\n",
       "      <td>0.0</td>\n",
       "      <td>0.0</td>\n",
       "      <td>0.0</td>\n",
       "      <td>...</td>\n",
       "      <td>0.0</td>\n",
       "      <td>0.0</td>\n",
       "      <td>0.0</td>\n",
       "      <td>0.0</td>\n",
       "      <td>0.0</td>\n",
       "      <td>0.0</td>\n",
       "      <td>0.0</td>\n",
       "      <td>0.0</td>\n",
       "      <td>39205.170000</td>\n",
       "      <td>0</td>\n",
       "    </tr>\n",
       "    <tr>\n",
       "      <th>3</th>\n",
       "      <td>2</td>\n",
       "      <td>34</td>\n",
       "      <td>0.0</td>\n",
       "      <td>0.0</td>\n",
       "      <td>0.0</td>\n",
       "      <td>0.0</td>\n",
       "      <td>0.0</td>\n",
       "      <td>0.0</td>\n",
       "      <td>0.0</td>\n",
       "      <td>0.0</td>\n",
       "      <td>...</td>\n",
       "      <td>0.0</td>\n",
       "      <td>0.0</td>\n",
       "      <td>0.0</td>\n",
       "      <td>0.0</td>\n",
       "      <td>0.0</td>\n",
       "      <td>0.0</td>\n",
       "      <td>0.0</td>\n",
       "      <td>0.0</td>\n",
       "      <td>49278.030000</td>\n",
       "      <td>0</td>\n",
       "    </tr>\n",
       "    <tr>\n",
       "      <th>4</th>\n",
       "      <td>2</td>\n",
       "      <td>23</td>\n",
       "      <td>0.0</td>\n",
       "      <td>0.0</td>\n",
       "      <td>0.0</td>\n",
       "      <td>0.0</td>\n",
       "      <td>0.0</td>\n",
       "      <td>0.0</td>\n",
       "      <td>0.0</td>\n",
       "      <td>0.0</td>\n",
       "      <td>...</td>\n",
       "      <td>0.0</td>\n",
       "      <td>0.0</td>\n",
       "      <td>0.0</td>\n",
       "      <td>0.0</td>\n",
       "      <td>0.0</td>\n",
       "      <td>0.0</td>\n",
       "      <td>0.0</td>\n",
       "      <td>0.0</td>\n",
       "      <td>67333.770000</td>\n",
       "      <td>0</td>\n",
       "    </tr>\n",
       "    <tr>\n",
       "      <th>8</th>\n",
       "      <td>2</td>\n",
       "      <td>37</td>\n",
       "      <td>0.0</td>\n",
       "      <td>195.0</td>\n",
       "      <td>195.0</td>\n",
       "      <td>0.0</td>\n",
       "      <td>0.0</td>\n",
       "      <td>0.0</td>\n",
       "      <td>0.0</td>\n",
       "      <td>0.0</td>\n",
       "      <td>...</td>\n",
       "      <td>0.0</td>\n",
       "      <td>0.0</td>\n",
       "      <td>0.0</td>\n",
       "      <td>0.0</td>\n",
       "      <td>0.0</td>\n",
       "      <td>0.0</td>\n",
       "      <td>0.0</td>\n",
       "      <td>0.0</td>\n",
       "      <td>64007.970000</td>\n",
       "      <td>0</td>\n",
       "    </tr>\n",
       "    <tr>\n",
       "      <th>10</th>\n",
       "      <td>2</td>\n",
       "      <td>39</td>\n",
       "      <td>0.0</td>\n",
       "      <td>0.0</td>\n",
       "      <td>0.0</td>\n",
       "      <td>0.0</td>\n",
       "      <td>0.0</td>\n",
       "      <td>0.0</td>\n",
       "      <td>0.0</td>\n",
       "      <td>0.0</td>\n",
       "      <td>...</td>\n",
       "      <td>0.0</td>\n",
       "      <td>0.0</td>\n",
       "      <td>0.0</td>\n",
       "      <td>0.0</td>\n",
       "      <td>0.0</td>\n",
       "      <td>0.0</td>\n",
       "      <td>0.0</td>\n",
       "      <td>0.0</td>\n",
       "      <td>117310.979016</td>\n",
       "      <td>0</td>\n",
       "    </tr>\n",
       "  </tbody>\n",
       "</table>\n",
       "<p>5 rows × 336 columns</p>\n",
       "</div>"
      ],
      "text/plain": [
       "    var3  var15  imp_ent_var16_ult1  imp_op_var39_comer_ult1  \\\n",
       "ID                                                             \n",
       "1      2     23                 0.0                      0.0   \n",
       "3      2     34                 0.0                      0.0   \n",
       "4      2     23                 0.0                      0.0   \n",
       "8      2     37                 0.0                    195.0   \n",
       "10     2     39                 0.0                      0.0   \n",
       "\n",
       "    imp_op_var39_comer_ult3  imp_op_var40_comer_ult1  imp_op_var40_comer_ult3  \\\n",
       "ID                                                                              \n",
       "1                       0.0                      0.0                      0.0   \n",
       "3                       0.0                      0.0                      0.0   \n",
       "4                       0.0                      0.0                      0.0   \n",
       "8                     195.0                      0.0                      0.0   \n",
       "10                      0.0                      0.0                      0.0   \n",
       "\n",
       "    imp_op_var40_efect_ult1  imp_op_var40_efect_ult3  imp_op_var40_ult1  \\\n",
       "ID                                                                        \n",
       "1                       0.0                      0.0                0.0   \n",
       "3                       0.0                      0.0                0.0   \n",
       "4                       0.0                      0.0                0.0   \n",
       "8                       0.0                      0.0                0.0   \n",
       "10                      0.0                      0.0                0.0   \n",
       "\n",
       "     ...    saldo_medio_var33_hace2  saldo_medio_var33_hace3  \\\n",
       "ID   ...                                                       \n",
       "1    ...                        0.0                      0.0   \n",
       "3    ...                        0.0                      0.0   \n",
       "4    ...                        0.0                      0.0   \n",
       "8    ...                        0.0                      0.0   \n",
       "10   ...                        0.0                      0.0   \n",
       "\n",
       "    saldo_medio_var33_ult1  saldo_medio_var33_ult3  saldo_medio_var44_hace2  \\\n",
       "ID                                                                            \n",
       "1                      0.0                     0.0                      0.0   \n",
       "3                      0.0                     0.0                      0.0   \n",
       "4                      0.0                     0.0                      0.0   \n",
       "8                      0.0                     0.0                      0.0   \n",
       "10                     0.0                     0.0                      0.0   \n",
       "\n",
       "    saldo_medio_var44_hace3  saldo_medio_var44_ult1  saldo_medio_var44_ult3  \\\n",
       "ID                                                                            \n",
       "1                       0.0                     0.0                     0.0   \n",
       "3                       0.0                     0.0                     0.0   \n",
       "4                       0.0                     0.0                     0.0   \n",
       "8                       0.0                     0.0                     0.0   \n",
       "10                      0.0                     0.0                     0.0   \n",
       "\n",
       "            var38  TARGET  \n",
       "ID                         \n",
       "1    39205.170000       0  \n",
       "3    49278.030000       0  \n",
       "4    67333.770000       0  \n",
       "8    64007.970000       0  \n",
       "10  117310.979016       0  \n",
       "\n",
       "[5 rows x 336 columns]"
      ]
     },
     "execution_count": 68,
     "metadata": {},
     "output_type": "execute_result"
    }
   ],
   "source": [
    "train.head()"
   ]
  },
  {
   "cell_type": "code",
   "execution_count": 69,
   "metadata": {
    "collapsed": false
   },
   "outputs": [
    {
     "name": "stdout",
     "output_type": "stream",
     "text": [
      "(76020, 336)\n",
      "(75818, 335)\n"
     ]
    }
   ],
   "source": [
    "print train.shape\n",
    "print test.shape"
   ]
  },
  {
   "cell_type": "markdown",
   "metadata": {},
   "source": [
    "Remove duplicate columns:"
   ]
  },
  {
   "cell_type": "code",
   "execution_count": 70,
   "metadata": {
    "collapsed": false
   },
   "outputs": [
    {
     "name": "stdout",
     "output_type": "stream",
     "text": [
      "<class 'pandas.sparse.frame.SparseDataFrame'>\n",
      "Int64Index: 76020 entries, 1 to 151838\n",
      "Columns: 307 entries, var3 to TARGET\n",
      "dtypes: float64(307)\n",
      "memory usage: 19.9 MB\n",
      "None\n",
      "<class 'pandas.sparse.frame.SparseDataFrame'>\n",
      "Int64Index: 75818 entries, 2 to 151837\n",
      "Columns: 306 entries, var3 to var38\n",
      "dtypes: float64(306)\n",
      "memory usage: 19.9 MB\n",
      "None\n"
     ]
    }
   ],
   "source": [
    "duplicateCols = []\n",
    "columns = train.columns\n",
    "for i in range(len(columns)-1):\n",
    "    v = train[columns[i]].values\n",
    "    for j in range(i+1,len(columns)):\n",
    "        if np.array_equal(v,train[columns[j]].values):\n",
    "            duplicateCols.append(columns[j])\n",
    "\n",
    "train.drop(duplicateCols,axis=1,inplace=True)\n",
    "test.drop(duplicateCols,axis=1, inplace=True)\n",
    "print(train.replace(0,np.nan).to_sparse().info())\n",
    "print(test.replace(0,np.nan).to_sparse().info())"
   ]
  },
  {
   "cell_type": "markdown",
   "metadata": {},
   "source": [
    "apply log to var38"
   ]
  },
  {
   "cell_type": "code",
   "execution_count": 71,
   "metadata": {
    "collapsed": false,
    "scrolled": false
   },
   "outputs": [],
   "source": [
    "train[\"var38\"] = np.log(train[\"var38\"])"
   ]
  },
  {
   "cell_type": "code",
   "execution_count": 72,
   "metadata": {
    "collapsed": false
   },
   "outputs": [
    {
     "data": {
      "text/plain": [
       "ID\n",
       "1     10.576564\n",
       "3     10.805234\n",
       "4     11.117417\n",
       "8     11.066763\n",
       "10    11.672584\n",
       "Name: var38, dtype: float64"
      ]
     },
     "execution_count": 72,
     "metadata": {},
     "output_type": "execute_result"
    }
   ],
   "source": [
    "train[\"var38\"].head()"
   ]
  },
  {
   "cell_type": "code",
   "execution_count": 73,
   "metadata": {
    "collapsed": false
   },
   "outputs": [
    {
     "data": {
      "text/plain": [
       "ID\n",
       "2    10.609850\n",
       "5    10.725176\n",
       "6    10.757774\n",
       "7    12.143658\n",
       "9    11.207076\n",
       "Name: var38, dtype: float64"
      ]
     },
     "execution_count": 73,
     "metadata": {},
     "output_type": "execute_result"
    }
   ],
   "source": [
    "test[\"var38\"] = np.log(test[\"var38\"])\n",
    "test[\"var38\"].head()"
   ]
  },
  {
   "cell_type": "markdown",
   "metadata": {},
   "source": [
    "encode categorical values\n",
    "\n",
    "var3: nationality\n",
    "\n",
    "var15: age\n"
   ]
  },
  {
   "cell_type": "code",
   "execution_count": 15,
   "metadata": {
    "collapsed": true
   },
   "outputs": [],
   "source": [
    "from sklearn import preprocessing"
   ]
  },
  {
   "cell_type": "code",
   "execution_count": 16,
   "metadata": {
    "collapsed": true
   },
   "outputs": [],
   "source": [
    "enc = preprocessing.OneHotEncoder()"
   ]
  },
  {
   "cell_type": "code",
   "execution_count": null,
   "metadata": {
    "collapsed": false
   },
   "outputs": [],
   "source": [
    "enc.transform(train[\"var3\"]).toarray()"
   ]
  },
  {
   "cell_type": "code",
   "execution_count": null,
   "metadata": {
    "collapsed": true
   },
   "outputs": [],
   "source": []
  },
  {
   "cell_type": "code",
   "execution_count": null,
   "metadata": {
    "collapsed": true
   },
   "outputs": [],
   "source": []
  },
  {
   "cell_type": "markdown",
   "metadata": {},
   "source": [
    "    fill missing values"
   ]
  },
  {
   "cell_type": "code",
   "execution_count": 74,
   "metadata": {
    "collapsed": true
   },
   "outputs": [],
   "source": [
    "train.loc[train[\"var3\"] == -999999, \"var3\"] =2\n",
    "test.loc[test[\"var3\"] == -999999, \"var3\"] =2"
   ]
  },
  {
   "cell_type": "code",
   "execution_count": null,
   "metadata": {
    "collapsed": true
   },
   "outputs": [],
   "source": []
  },
  {
   "cell_type": "code",
   "execution_count": null,
   "metadata": {
    "collapsed": true
   },
   "outputs": [],
   "source": []
  },
  {
   "cell_type": "code",
   "execution_count": 49,
   "metadata": {
    "collapsed": false
   },
   "outputs": [
    {
     "name": "stderr",
     "output_type": "stream",
     "text": [
      "/Public/anaconda/lib/python2.7/site-packages/sklearn/utils/validation.py:386: DeprecationWarning: Passing 1d arrays as data is deprecated in 0.17 and willraise ValueError in 0.19. Reshape your data either using X.reshape(-1, 1) if your data has a single feature or X.reshape(1, -1) if it contains a single sample.\n",
      "  DeprecationWarning)\n",
      "/Public/anaconda/lib/python2.7/site-packages/sklearn/utils/validation.py:386: DeprecationWarning: Passing 1d arrays as data is deprecated in 0.17 and willraise ValueError in 0.19. Reshape your data either using X.reshape(-1, 1) if your data has a single feature or X.reshape(1, -1) if it contains a single sample.\n",
      "  DeprecationWarning)\n",
      "/Public/anaconda/lib/python2.7/site-packages/sklearn/utils/validation.py:386: DeprecationWarning: Passing 1d arrays as data is deprecated in 0.17 and willraise ValueError in 0.19. Reshape your data either using X.reshape(-1, 1) if your data has a single feature or X.reshape(1, -1) if it contains a single sample.\n",
      "  DeprecationWarning)\n",
      "/Public/anaconda/lib/python2.7/site-packages/sklearn/utils/validation.py:386: DeprecationWarning: Passing 1d arrays as data is deprecated in 0.17 and willraise ValueError in 0.19. Reshape your data either using X.reshape(-1, 1) if your data has a single feature or X.reshape(1, -1) if it contains a single sample.\n",
      "  DeprecationWarning)\n"
     ]
    }
   ],
   "source": [
    "from sklearn.preprocessing import Imputer\n",
    "imp=Imputer(missing_values=-999999,strategy='most_frequent',axis=0)\n",
    "# train[train[\"var3\"] == -999999] = np.nan\n",
    "train[\"var3\"] = imp.fit_transform(train[\"var3\"]).transpose\n",
    "test[\"var3\"] = imp.fit_transform(test[\"var3\"]).transpose"
   ]
  },
  {
   "cell_type": "code",
   "execution_count": 106,
   "metadata": {
    "collapsed": false
   },
   "outputs": [
    {
     "data": {
      "text/plain": [
       "array([[  2.        ,  32.        ,   0.        , ...,   0.        ,\n",
       "          0.        ,  10.60984953],\n",
       "       [  2.        ,  35.        ,   0.        , ...,   0.        ,\n",
       "          0.        ,  10.72517569],\n",
       "       [  2.        ,  23.        ,   0.        , ...,   0.        ,\n",
       "          0.        ,  10.75777415],\n",
       "       ..., \n",
       "       [  2.        ,  24.        ,   0.        , ...,   0.        ,\n",
       "          0.        ,  12.02754251],\n",
       "       [  2.        ,  40.        ,   0.        , ...,   0.        ,\n",
       "          0.        ,  11.67258363],\n",
       "       [  2.        ,  23.        ,   0.        , ...,   0.        ,\n",
       "          0.        ,  11.67258363]])"
      ]
     },
     "execution_count": 106,
     "metadata": {},
     "output_type": "execute_result"
    }
   ],
   "source": [
    "imp.fit_transform(test)"
   ]
  },
  {
   "cell_type": "code",
   "execution_count": 17,
   "metadata": {
    "collapsed": false
   },
   "outputs": [
    {
     "data": {
      "text/html": [
       "<div>\n",
       "<table border=\"1\" class=\"dataframe\">\n",
       "  <thead>\n",
       "    <tr style=\"text-align: right;\">\n",
       "      <th></th>\n",
       "      <th>var3</th>\n",
       "      <th>var15</th>\n",
       "      <th>imp_ent_var16_ult1</th>\n",
       "      <th>imp_op_var39_comer_ult1</th>\n",
       "      <th>imp_op_var39_comer_ult3</th>\n",
       "      <th>imp_op_var40_comer_ult1</th>\n",
       "      <th>imp_op_var40_comer_ult3</th>\n",
       "      <th>imp_op_var40_efect_ult1</th>\n",
       "      <th>imp_op_var40_efect_ult3</th>\n",
       "      <th>imp_op_var40_ult1</th>\n",
       "      <th>...</th>\n",
       "      <th>saldo_medio_var29_ult3</th>\n",
       "      <th>saldo_medio_var33_hace2</th>\n",
       "      <th>saldo_medio_var33_hace3</th>\n",
       "      <th>saldo_medio_var33_ult1</th>\n",
       "      <th>saldo_medio_var33_ult3</th>\n",
       "      <th>saldo_medio_var44_hace2</th>\n",
       "      <th>saldo_medio_var44_hace3</th>\n",
       "      <th>saldo_medio_var44_ult1</th>\n",
       "      <th>saldo_medio_var44_ult3</th>\n",
       "      <th>var38</th>\n",
       "    </tr>\n",
       "    <tr>\n",
       "      <th>ID</th>\n",
       "      <th></th>\n",
       "      <th></th>\n",
       "      <th></th>\n",
       "      <th></th>\n",
       "      <th></th>\n",
       "      <th></th>\n",
       "      <th></th>\n",
       "      <th></th>\n",
       "      <th></th>\n",
       "      <th></th>\n",
       "      <th></th>\n",
       "      <th></th>\n",
       "      <th></th>\n",
       "      <th></th>\n",
       "      <th></th>\n",
       "      <th></th>\n",
       "      <th></th>\n",
       "      <th></th>\n",
       "      <th></th>\n",
       "      <th></th>\n",
       "      <th></th>\n",
       "    </tr>\n",
       "  </thead>\n",
       "  <tbody>\n",
       "    <tr>\n",
       "      <th>917</th>\n",
       "      <td>-999999</td>\n",
       "      <td>44</td>\n",
       "      <td>0.0</td>\n",
       "      <td>0.00</td>\n",
       "      <td>0.00</td>\n",
       "      <td>0.00</td>\n",
       "      <td>0.00</td>\n",
       "      <td>0.0</td>\n",
       "      <td>0.0</td>\n",
       "      <td>0.0</td>\n",
       "      <td>...</td>\n",
       "      <td>0.0</td>\n",
       "      <td>0.0</td>\n",
       "      <td>0.0</td>\n",
       "      <td>0.0</td>\n",
       "      <td>0.0</td>\n",
       "      <td>0.0</td>\n",
       "      <td>0.0</td>\n",
       "      <td>0.0</td>\n",
       "      <td>0.0</td>\n",
       "      <td>11.672584</td>\n",
       "    </tr>\n",
       "    <tr>\n",
       "      <th>1065</th>\n",
       "      <td>-999999</td>\n",
       "      <td>46</td>\n",
       "      <td>0.0</td>\n",
       "      <td>0.00</td>\n",
       "      <td>0.00</td>\n",
       "      <td>0.00</td>\n",
       "      <td>0.00</td>\n",
       "      <td>0.0</td>\n",
       "      <td>0.0</td>\n",
       "      <td>0.0</td>\n",
       "      <td>...</td>\n",
       "      <td>0.0</td>\n",
       "      <td>0.0</td>\n",
       "      <td>0.0</td>\n",
       "      <td>0.0</td>\n",
       "      <td>0.0</td>\n",
       "      <td>0.0</td>\n",
       "      <td>0.0</td>\n",
       "      <td>0.0</td>\n",
       "      <td>0.0</td>\n",
       "      <td>11.672584</td>\n",
       "    </tr>\n",
       "    <tr>\n",
       "      <th>1878</th>\n",
       "      <td>-999999</td>\n",
       "      <td>67</td>\n",
       "      <td>0.0</td>\n",
       "      <td>0.00</td>\n",
       "      <td>0.00</td>\n",
       "      <td>0.00</td>\n",
       "      <td>0.00</td>\n",
       "      <td>0.0</td>\n",
       "      <td>0.0</td>\n",
       "      <td>0.0</td>\n",
       "      <td>...</td>\n",
       "      <td>0.0</td>\n",
       "      <td>0.0</td>\n",
       "      <td>0.0</td>\n",
       "      <td>0.0</td>\n",
       "      <td>0.0</td>\n",
       "      <td>0.0</td>\n",
       "      <td>0.0</td>\n",
       "      <td>0.0</td>\n",
       "      <td>0.0</td>\n",
       "      <td>11.672584</td>\n",
       "    </tr>\n",
       "    <tr>\n",
       "      <th>5359</th>\n",
       "      <td>-999999</td>\n",
       "      <td>64</td>\n",
       "      <td>0.0</td>\n",
       "      <td>0.00</td>\n",
       "      <td>0.00</td>\n",
       "      <td>0.00</td>\n",
       "      <td>0.00</td>\n",
       "      <td>0.0</td>\n",
       "      <td>0.0</td>\n",
       "      <td>0.0</td>\n",
       "      <td>...</td>\n",
       "      <td>0.0</td>\n",
       "      <td>0.0</td>\n",
       "      <td>0.0</td>\n",
       "      <td>0.0</td>\n",
       "      <td>0.0</td>\n",
       "      <td>0.0</td>\n",
       "      <td>0.0</td>\n",
       "      <td>0.0</td>\n",
       "      <td>0.0</td>\n",
       "      <td>11.672584</td>\n",
       "    </tr>\n",
       "    <tr>\n",
       "      <th>7414</th>\n",
       "      <td>-999999</td>\n",
       "      <td>26</td>\n",
       "      <td>0.0</td>\n",
       "      <td>0.00</td>\n",
       "      <td>0.00</td>\n",
       "      <td>0.00</td>\n",
       "      <td>0.00</td>\n",
       "      <td>0.0</td>\n",
       "      <td>0.0</td>\n",
       "      <td>0.0</td>\n",
       "      <td>...</td>\n",
       "      <td>0.0</td>\n",
       "      <td>0.0</td>\n",
       "      <td>0.0</td>\n",
       "      <td>0.0</td>\n",
       "      <td>0.0</td>\n",
       "      <td>0.0</td>\n",
       "      <td>0.0</td>\n",
       "      <td>0.0</td>\n",
       "      <td>0.0</td>\n",
       "      <td>11.672584</td>\n",
       "    </tr>\n",
       "    <tr>\n",
       "      <th>7639</th>\n",
       "      <td>-999999</td>\n",
       "      <td>28</td>\n",
       "      <td>0.0</td>\n",
       "      <td>0.00</td>\n",
       "      <td>90.00</td>\n",
       "      <td>0.00</td>\n",
       "      <td>0.00</td>\n",
       "      <td>0.0</td>\n",
       "      <td>0.0</td>\n",
       "      <td>0.0</td>\n",
       "      <td>...</td>\n",
       "      <td>0.0</td>\n",
       "      <td>0.0</td>\n",
       "      <td>0.0</td>\n",
       "      <td>0.0</td>\n",
       "      <td>0.0</td>\n",
       "      <td>0.0</td>\n",
       "      <td>0.0</td>\n",
       "      <td>0.0</td>\n",
       "      <td>0.0</td>\n",
       "      <td>11.672584</td>\n",
       "    </tr>\n",
       "    <tr>\n",
       "      <th>9918</th>\n",
       "      <td>-999999</td>\n",
       "      <td>67</td>\n",
       "      <td>0.0</td>\n",
       "      <td>0.00</td>\n",
       "      <td>0.00</td>\n",
       "      <td>0.00</td>\n",
       "      <td>0.00</td>\n",
       "      <td>0.0</td>\n",
       "      <td>0.0</td>\n",
       "      <td>0.0</td>\n",
       "      <td>...</td>\n",
       "      <td>0.0</td>\n",
       "      <td>0.0</td>\n",
       "      <td>0.0</td>\n",
       "      <td>0.0</td>\n",
       "      <td>0.0</td>\n",
       "      <td>0.0</td>\n",
       "      <td>0.0</td>\n",
       "      <td>0.0</td>\n",
       "      <td>0.0</td>\n",
       "      <td>11.672584</td>\n",
       "    </tr>\n",
       "    <tr>\n",
       "      <th>11034</th>\n",
       "      <td>-999999</td>\n",
       "      <td>44</td>\n",
       "      <td>0.0</td>\n",
       "      <td>1800.24</td>\n",
       "      <td>2731.32</td>\n",
       "      <td>1259.76</td>\n",
       "      <td>1320.48</td>\n",
       "      <td>0.0</td>\n",
       "      <td>0.0</td>\n",
       "      <td>0.0</td>\n",
       "      <td>...</td>\n",
       "      <td>0.0</td>\n",
       "      <td>0.0</td>\n",
       "      <td>0.0</td>\n",
       "      <td>0.0</td>\n",
       "      <td>0.0</td>\n",
       "      <td>0.0</td>\n",
       "      <td>0.0</td>\n",
       "      <td>0.0</td>\n",
       "      <td>0.0</td>\n",
       "      <td>11.672584</td>\n",
       "    </tr>\n",
       "    <tr>\n",
       "      <th>13331</th>\n",
       "      <td>-999999</td>\n",
       "      <td>52</td>\n",
       "      <td>0.0</td>\n",
       "      <td>0.00</td>\n",
       "      <td>0.00</td>\n",
       "      <td>0.00</td>\n",
       "      <td>0.00</td>\n",
       "      <td>0.0</td>\n",
       "      <td>0.0</td>\n",
       "      <td>0.0</td>\n",
       "      <td>...</td>\n",
       "      <td>0.0</td>\n",
       "      <td>0.0</td>\n",
       "      <td>0.0</td>\n",
       "      <td>0.0</td>\n",
       "      <td>0.0</td>\n",
       "      <td>0.0</td>\n",
       "      <td>0.0</td>\n",
       "      <td>0.0</td>\n",
       "      <td>0.0</td>\n",
       "      <td>11.672584</td>\n",
       "    </tr>\n",
       "    <tr>\n",
       "      <th>15871</th>\n",
       "      <td>-999999</td>\n",
       "      <td>23</td>\n",
       "      <td>0.0</td>\n",
       "      <td>0.00</td>\n",
       "      <td>0.00</td>\n",
       "      <td>0.00</td>\n",
       "      <td>0.00</td>\n",
       "      <td>0.0</td>\n",
       "      <td>0.0</td>\n",
       "      <td>0.0</td>\n",
       "      <td>...</td>\n",
       "      <td>0.0</td>\n",
       "      <td>0.0</td>\n",
       "      <td>0.0</td>\n",
       "      <td>0.0</td>\n",
       "      <td>0.0</td>\n",
       "      <td>0.0</td>\n",
       "      <td>0.0</td>\n",
       "      <td>0.0</td>\n",
       "      <td>0.0</td>\n",
       "      <td>11.672584</td>\n",
       "    </tr>\n",
       "    <tr>\n",
       "      <th>15915</th>\n",
       "      <td>-999999</td>\n",
       "      <td>40</td>\n",
       "      <td>0.0</td>\n",
       "      <td>0.00</td>\n",
       "      <td>0.00</td>\n",
       "      <td>0.00</td>\n",
       "      <td>0.00</td>\n",
       "      <td>0.0</td>\n",
       "      <td>0.0</td>\n",
       "      <td>0.0</td>\n",
       "      <td>...</td>\n",
       "      <td>0.0</td>\n",
       "      <td>0.0</td>\n",
       "      <td>0.0</td>\n",
       "      <td>0.0</td>\n",
       "      <td>0.0</td>\n",
       "      <td>0.0</td>\n",
       "      <td>0.0</td>\n",
       "      <td>0.0</td>\n",
       "      <td>0.0</td>\n",
       "      <td>11.672584</td>\n",
       "    </tr>\n",
       "    <tr>\n",
       "      <th>16439</th>\n",
       "      <td>-999999</td>\n",
       "      <td>47</td>\n",
       "      <td>0.0</td>\n",
       "      <td>0.00</td>\n",
       "      <td>0.00</td>\n",
       "      <td>0.00</td>\n",
       "      <td>0.00</td>\n",
       "      <td>0.0</td>\n",
       "      <td>0.0</td>\n",
       "      <td>0.0</td>\n",
       "      <td>...</td>\n",
       "      <td>0.0</td>\n",
       "      <td>0.0</td>\n",
       "      <td>0.0</td>\n",
       "      <td>0.0</td>\n",
       "      <td>0.0</td>\n",
       "      <td>0.0</td>\n",
       "      <td>0.0</td>\n",
       "      <td>0.0</td>\n",
       "      <td>0.0</td>\n",
       "      <td>11.672584</td>\n",
       "    </tr>\n",
       "    <tr>\n",
       "      <th>16683</th>\n",
       "      <td>-999999</td>\n",
       "      <td>29</td>\n",
       "      <td>0.0</td>\n",
       "      <td>0.00</td>\n",
       "      <td>0.00</td>\n",
       "      <td>0.00</td>\n",
       "      <td>0.00</td>\n",
       "      <td>0.0</td>\n",
       "      <td>0.0</td>\n",
       "      <td>0.0</td>\n",
       "      <td>...</td>\n",
       "      <td>0.0</td>\n",
       "      <td>0.0</td>\n",
       "      <td>0.0</td>\n",
       "      <td>0.0</td>\n",
       "      <td>0.0</td>\n",
       "      <td>0.0</td>\n",
       "      <td>0.0</td>\n",
       "      <td>0.0</td>\n",
       "      <td>0.0</td>\n",
       "      <td>11.672584</td>\n",
       "    </tr>\n",
       "    <tr>\n",
       "      <th>17303</th>\n",
       "      <td>-999999</td>\n",
       "      <td>28</td>\n",
       "      <td>0.0</td>\n",
       "      <td>0.00</td>\n",
       "      <td>0.00</td>\n",
       "      <td>0.00</td>\n",
       "      <td>0.00</td>\n",
       "      <td>0.0</td>\n",
       "      <td>0.0</td>\n",
       "      <td>0.0</td>\n",
       "      <td>...</td>\n",
       "      <td>0.0</td>\n",
       "      <td>0.0</td>\n",
       "      <td>0.0</td>\n",
       "      <td>0.0</td>\n",
       "      <td>0.0</td>\n",
       "      <td>0.0</td>\n",
       "      <td>0.0</td>\n",
       "      <td>0.0</td>\n",
       "      <td>0.0</td>\n",
       "      <td>11.672584</td>\n",
       "    </tr>\n",
       "    <tr>\n",
       "      <th>18115</th>\n",
       "      <td>-999999</td>\n",
       "      <td>23</td>\n",
       "      <td>0.0</td>\n",
       "      <td>0.00</td>\n",
       "      <td>0.00</td>\n",
       "      <td>0.00</td>\n",
       "      <td>0.00</td>\n",
       "      <td>0.0</td>\n",
       "      <td>0.0</td>\n",
       "      <td>0.0</td>\n",
       "      <td>...</td>\n",
       "      <td>0.0</td>\n",
       "      <td>0.0</td>\n",
       "      <td>0.0</td>\n",
       "      <td>0.0</td>\n",
       "      <td>0.0</td>\n",
       "      <td>0.0</td>\n",
       "      <td>0.0</td>\n",
       "      <td>0.0</td>\n",
       "      <td>0.0</td>\n",
       "      <td>11.672584</td>\n",
       "    </tr>\n",
       "    <tr>\n",
       "      <th>18401</th>\n",
       "      <td>-999999</td>\n",
       "      <td>41</td>\n",
       "      <td>0.0</td>\n",
       "      <td>0.00</td>\n",
       "      <td>0.00</td>\n",
       "      <td>0.00</td>\n",
       "      <td>0.00</td>\n",
       "      <td>0.0</td>\n",
       "      <td>0.0</td>\n",
       "      <td>0.0</td>\n",
       "      <td>...</td>\n",
       "      <td>0.0</td>\n",
       "      <td>0.0</td>\n",
       "      <td>0.0</td>\n",
       "      <td>0.0</td>\n",
       "      <td>0.0</td>\n",
       "      <td>0.0</td>\n",
       "      <td>0.0</td>\n",
       "      <td>0.0</td>\n",
       "      <td>0.0</td>\n",
       "      <td>11.672584</td>\n",
       "    </tr>\n",
       "    <tr>\n",
       "      <th>18935</th>\n",
       "      <td>-999999</td>\n",
       "      <td>37</td>\n",
       "      <td>0.0</td>\n",
       "      <td>0.00</td>\n",
       "      <td>0.00</td>\n",
       "      <td>0.00</td>\n",
       "      <td>0.00</td>\n",
       "      <td>0.0</td>\n",
       "      <td>0.0</td>\n",
       "      <td>0.0</td>\n",
       "      <td>...</td>\n",
       "      <td>0.0</td>\n",
       "      <td>0.0</td>\n",
       "      <td>0.0</td>\n",
       "      <td>0.0</td>\n",
       "      <td>0.0</td>\n",
       "      <td>0.0</td>\n",
       "      <td>0.0</td>\n",
       "      <td>0.0</td>\n",
       "      <td>0.0</td>\n",
       "      <td>11.672584</td>\n",
       "    </tr>\n",
       "    <tr>\n",
       "      <th>19693</th>\n",
       "      <td>-999999</td>\n",
       "      <td>27</td>\n",
       "      <td>0.0</td>\n",
       "      <td>0.00</td>\n",
       "      <td>0.00</td>\n",
       "      <td>0.00</td>\n",
       "      <td>0.00</td>\n",
       "      <td>0.0</td>\n",
       "      <td>0.0</td>\n",
       "      <td>0.0</td>\n",
       "      <td>...</td>\n",
       "      <td>0.0</td>\n",
       "      <td>0.0</td>\n",
       "      <td>0.0</td>\n",
       "      <td>0.0</td>\n",
       "      <td>0.0</td>\n",
       "      <td>0.0</td>\n",
       "      <td>0.0</td>\n",
       "      <td>0.0</td>\n",
       "      <td>0.0</td>\n",
       "      <td>11.672584</td>\n",
       "    </tr>\n",
       "    <tr>\n",
       "      <th>20957</th>\n",
       "      <td>-999999</td>\n",
       "      <td>23</td>\n",
       "      <td>0.0</td>\n",
       "      <td>0.00</td>\n",
       "      <td>0.00</td>\n",
       "      <td>0.00</td>\n",
       "      <td>0.00</td>\n",
       "      <td>0.0</td>\n",
       "      <td>0.0</td>\n",
       "      <td>0.0</td>\n",
       "      <td>...</td>\n",
       "      <td>0.0</td>\n",
       "      <td>0.0</td>\n",
       "      <td>0.0</td>\n",
       "      <td>0.0</td>\n",
       "      <td>0.0</td>\n",
       "      <td>0.0</td>\n",
       "      <td>0.0</td>\n",
       "      <td>0.0</td>\n",
       "      <td>0.0</td>\n",
       "      <td>11.672584</td>\n",
       "    </tr>\n",
       "    <tr>\n",
       "      <th>22521</th>\n",
       "      <td>-999999</td>\n",
       "      <td>23</td>\n",
       "      <td>0.0</td>\n",
       "      <td>0.00</td>\n",
       "      <td>0.00</td>\n",
       "      <td>0.00</td>\n",
       "      <td>0.00</td>\n",
       "      <td>0.0</td>\n",
       "      <td>0.0</td>\n",
       "      <td>0.0</td>\n",
       "      <td>...</td>\n",
       "      <td>0.0</td>\n",
       "      <td>0.0</td>\n",
       "      <td>0.0</td>\n",
       "      <td>0.0</td>\n",
       "      <td>0.0</td>\n",
       "      <td>0.0</td>\n",
       "      <td>0.0</td>\n",
       "      <td>0.0</td>\n",
       "      <td>0.0</td>\n",
       "      <td>11.672584</td>\n",
       "    </tr>\n",
       "    <tr>\n",
       "      <th>22994</th>\n",
       "      <td>-999999</td>\n",
       "      <td>63</td>\n",
       "      <td>0.0</td>\n",
       "      <td>0.00</td>\n",
       "      <td>0.00</td>\n",
       "      <td>0.00</td>\n",
       "      <td>0.00</td>\n",
       "      <td>0.0</td>\n",
       "      <td>0.0</td>\n",
       "      <td>0.0</td>\n",
       "      <td>...</td>\n",
       "      <td>0.0</td>\n",
       "      <td>0.0</td>\n",
       "      <td>0.0</td>\n",
       "      <td>0.0</td>\n",
       "      <td>0.0</td>\n",
       "      <td>0.0</td>\n",
       "      <td>0.0</td>\n",
       "      <td>0.0</td>\n",
       "      <td>0.0</td>\n",
       "      <td>11.672584</td>\n",
       "    </tr>\n",
       "    <tr>\n",
       "      <th>23070</th>\n",
       "      <td>-999999</td>\n",
       "      <td>24</td>\n",
       "      <td>0.0</td>\n",
       "      <td>0.00</td>\n",
       "      <td>0.00</td>\n",
       "      <td>0.00</td>\n",
       "      <td>0.00</td>\n",
       "      <td>0.0</td>\n",
       "      <td>0.0</td>\n",
       "      <td>0.0</td>\n",
       "      <td>...</td>\n",
       "      <td>0.0</td>\n",
       "      <td>0.0</td>\n",
       "      <td>0.0</td>\n",
       "      <td>0.0</td>\n",
       "      <td>0.0</td>\n",
       "      <td>0.0</td>\n",
       "      <td>0.0</td>\n",
       "      <td>0.0</td>\n",
       "      <td>0.0</td>\n",
       "      <td>12.002443</td>\n",
       "    </tr>\n",
       "    <tr>\n",
       "      <th>25227</th>\n",
       "      <td>-999999</td>\n",
       "      <td>23</td>\n",
       "      <td>0.0</td>\n",
       "      <td>0.00</td>\n",
       "      <td>0.00</td>\n",
       "      <td>0.00</td>\n",
       "      <td>0.00</td>\n",
       "      <td>0.0</td>\n",
       "      <td>0.0</td>\n",
       "      <td>0.0</td>\n",
       "      <td>...</td>\n",
       "      <td>0.0</td>\n",
       "      <td>0.0</td>\n",
       "      <td>0.0</td>\n",
       "      <td>0.0</td>\n",
       "      <td>0.0</td>\n",
       "      <td>0.0</td>\n",
       "      <td>0.0</td>\n",
       "      <td>0.0</td>\n",
       "      <td>0.0</td>\n",
       "      <td>11.672584</td>\n",
       "    </tr>\n",
       "    <tr>\n",
       "      <th>25760</th>\n",
       "      <td>-999999</td>\n",
       "      <td>22</td>\n",
       "      <td>0.0</td>\n",
       "      <td>0.00</td>\n",
       "      <td>0.00</td>\n",
       "      <td>0.00</td>\n",
       "      <td>0.00</td>\n",
       "      <td>0.0</td>\n",
       "      <td>0.0</td>\n",
       "      <td>0.0</td>\n",
       "      <td>...</td>\n",
       "      <td>0.0</td>\n",
       "      <td>0.0</td>\n",
       "      <td>0.0</td>\n",
       "      <td>0.0</td>\n",
       "      <td>0.0</td>\n",
       "      <td>0.0</td>\n",
       "      <td>0.0</td>\n",
       "      <td>0.0</td>\n",
       "      <td>0.0</td>\n",
       "      <td>11.672584</td>\n",
       "    </tr>\n",
       "    <tr>\n",
       "      <th>25814</th>\n",
       "      <td>-999999</td>\n",
       "      <td>39</td>\n",
       "      <td>0.0</td>\n",
       "      <td>0.00</td>\n",
       "      <td>0.00</td>\n",
       "      <td>0.00</td>\n",
       "      <td>0.00</td>\n",
       "      <td>0.0</td>\n",
       "      <td>0.0</td>\n",
       "      <td>0.0</td>\n",
       "      <td>...</td>\n",
       "      <td>0.0</td>\n",
       "      <td>0.0</td>\n",
       "      <td>0.0</td>\n",
       "      <td>0.0</td>\n",
       "      <td>0.0</td>\n",
       "      <td>0.0</td>\n",
       "      <td>0.0</td>\n",
       "      <td>0.0</td>\n",
       "      <td>0.0</td>\n",
       "      <td>11.672584</td>\n",
       "    </tr>\n",
       "    <tr>\n",
       "      <th>25997</th>\n",
       "      <td>-999999</td>\n",
       "      <td>36</td>\n",
       "      <td>0.0</td>\n",
       "      <td>0.00</td>\n",
       "      <td>0.00</td>\n",
       "      <td>0.00</td>\n",
       "      <td>0.00</td>\n",
       "      <td>0.0</td>\n",
       "      <td>0.0</td>\n",
       "      <td>0.0</td>\n",
       "      <td>...</td>\n",
       "      <td>0.0</td>\n",
       "      <td>0.0</td>\n",
       "      <td>0.0</td>\n",
       "      <td>0.0</td>\n",
       "      <td>0.0</td>\n",
       "      <td>0.0</td>\n",
       "      <td>0.0</td>\n",
       "      <td>0.0</td>\n",
       "      <td>0.0</td>\n",
       "      <td>11.672584</td>\n",
       "    </tr>\n",
       "    <tr>\n",
       "      <th>27101</th>\n",
       "      <td>-999999</td>\n",
       "      <td>23</td>\n",
       "      <td>300.0</td>\n",
       "      <td>0.00</td>\n",
       "      <td>0.00</td>\n",
       "      <td>0.00</td>\n",
       "      <td>0.00</td>\n",
       "      <td>0.0</td>\n",
       "      <td>0.0</td>\n",
       "      <td>0.0</td>\n",
       "      <td>...</td>\n",
       "      <td>0.0</td>\n",
       "      <td>0.0</td>\n",
       "      <td>0.0</td>\n",
       "      <td>0.0</td>\n",
       "      <td>0.0</td>\n",
       "      <td>0.0</td>\n",
       "      <td>0.0</td>\n",
       "      <td>0.0</td>\n",
       "      <td>0.0</td>\n",
       "      <td>11.672584</td>\n",
       "    </tr>\n",
       "    <tr>\n",
       "      <th>27988</th>\n",
       "      <td>-999999</td>\n",
       "      <td>28</td>\n",
       "      <td>0.0</td>\n",
       "      <td>0.00</td>\n",
       "      <td>0.00</td>\n",
       "      <td>0.00</td>\n",
       "      <td>0.00</td>\n",
       "      <td>0.0</td>\n",
       "      <td>0.0</td>\n",
       "      <td>0.0</td>\n",
       "      <td>...</td>\n",
       "      <td>0.0</td>\n",
       "      <td>0.0</td>\n",
       "      <td>0.0</td>\n",
       "      <td>0.0</td>\n",
       "      <td>0.0</td>\n",
       "      <td>0.0</td>\n",
       "      <td>0.0</td>\n",
       "      <td>0.0</td>\n",
       "      <td>0.0</td>\n",
       "      <td>11.672584</td>\n",
       "    </tr>\n",
       "    <tr>\n",
       "      <th>28311</th>\n",
       "      <td>-999999</td>\n",
       "      <td>39</td>\n",
       "      <td>0.0</td>\n",
       "      <td>0.00</td>\n",
       "      <td>0.00</td>\n",
       "      <td>0.00</td>\n",
       "      <td>0.00</td>\n",
       "      <td>0.0</td>\n",
       "      <td>0.0</td>\n",
       "      <td>0.0</td>\n",
       "      <td>...</td>\n",
       "      <td>0.0</td>\n",
       "      <td>0.0</td>\n",
       "      <td>0.0</td>\n",
       "      <td>0.0</td>\n",
       "      <td>0.0</td>\n",
       "      <td>0.0</td>\n",
       "      <td>0.0</td>\n",
       "      <td>0.0</td>\n",
       "      <td>0.0</td>\n",
       "      <td>11.672584</td>\n",
       "    </tr>\n",
       "    <tr>\n",
       "      <th>30046</th>\n",
       "      <td>-999999</td>\n",
       "      <td>23</td>\n",
       "      <td>0.0</td>\n",
       "      <td>0.00</td>\n",
       "      <td>0.00</td>\n",
       "      <td>0.00</td>\n",
       "      <td>0.00</td>\n",
       "      <td>0.0</td>\n",
       "      <td>0.0</td>\n",
       "      <td>0.0</td>\n",
       "      <td>...</td>\n",
       "      <td>0.0</td>\n",
       "      <td>0.0</td>\n",
       "      <td>0.0</td>\n",
       "      <td>0.0</td>\n",
       "      <td>0.0</td>\n",
       "      <td>0.0</td>\n",
       "      <td>0.0</td>\n",
       "      <td>0.0</td>\n",
       "      <td>0.0</td>\n",
       "      <td>11.672584</td>\n",
       "    </tr>\n",
       "    <tr>\n",
       "      <th>...</th>\n",
       "      <td>...</td>\n",
       "      <td>...</td>\n",
       "      <td>...</td>\n",
       "      <td>...</td>\n",
       "      <td>...</td>\n",
       "      <td>...</td>\n",
       "      <td>...</td>\n",
       "      <td>...</td>\n",
       "      <td>...</td>\n",
       "      <td>...</td>\n",
       "      <td>...</td>\n",
       "      <td>...</td>\n",
       "      <td>...</td>\n",
       "      <td>...</td>\n",
       "      <td>...</td>\n",
       "      <td>...</td>\n",
       "      <td>...</td>\n",
       "      <td>...</td>\n",
       "      <td>...</td>\n",
       "      <td>...</td>\n",
       "      <td>...</td>\n",
       "    </tr>\n",
       "    <tr>\n",
       "      <th>109762</th>\n",
       "      <td>-999999</td>\n",
       "      <td>23</td>\n",
       "      <td>0.0</td>\n",
       "      <td>0.00</td>\n",
       "      <td>0.00</td>\n",
       "      <td>0.00</td>\n",
       "      <td>0.00</td>\n",
       "      <td>0.0</td>\n",
       "      <td>0.0</td>\n",
       "      <td>0.0</td>\n",
       "      <td>...</td>\n",
       "      <td>0.0</td>\n",
       "      <td>0.0</td>\n",
       "      <td>0.0</td>\n",
       "      <td>0.0</td>\n",
       "      <td>0.0</td>\n",
       "      <td>0.0</td>\n",
       "      <td>0.0</td>\n",
       "      <td>0.0</td>\n",
       "      <td>0.0</td>\n",
       "      <td>11.672584</td>\n",
       "    </tr>\n",
       "    <tr>\n",
       "      <th>110554</th>\n",
       "      <td>-999999</td>\n",
       "      <td>34</td>\n",
       "      <td>0.0</td>\n",
       "      <td>0.00</td>\n",
       "      <td>0.00</td>\n",
       "      <td>0.00</td>\n",
       "      <td>0.00</td>\n",
       "      <td>0.0</td>\n",
       "      <td>0.0</td>\n",
       "      <td>0.0</td>\n",
       "      <td>...</td>\n",
       "      <td>0.0</td>\n",
       "      <td>0.0</td>\n",
       "      <td>0.0</td>\n",
       "      <td>0.0</td>\n",
       "      <td>0.0</td>\n",
       "      <td>0.0</td>\n",
       "      <td>0.0</td>\n",
       "      <td>0.0</td>\n",
       "      <td>0.0</td>\n",
       "      <td>11.672584</td>\n",
       "    </tr>\n",
       "    <tr>\n",
       "      <th>110943</th>\n",
       "      <td>-999999</td>\n",
       "      <td>30</td>\n",
       "      <td>0.0</td>\n",
       "      <td>0.00</td>\n",
       "      <td>0.00</td>\n",
       "      <td>0.00</td>\n",
       "      <td>0.00</td>\n",
       "      <td>0.0</td>\n",
       "      <td>0.0</td>\n",
       "      <td>0.0</td>\n",
       "      <td>...</td>\n",
       "      <td>0.0</td>\n",
       "      <td>0.0</td>\n",
       "      <td>0.0</td>\n",
       "      <td>0.0</td>\n",
       "      <td>0.0</td>\n",
       "      <td>0.0</td>\n",
       "      <td>0.0</td>\n",
       "      <td>0.0</td>\n",
       "      <td>0.0</td>\n",
       "      <td>11.672584</td>\n",
       "    </tr>\n",
       "    <tr>\n",
       "      <th>111116</th>\n",
       "      <td>-999999</td>\n",
       "      <td>35</td>\n",
       "      <td>0.0</td>\n",
       "      <td>0.00</td>\n",
       "      <td>0.00</td>\n",
       "      <td>0.00</td>\n",
       "      <td>0.00</td>\n",
       "      <td>0.0</td>\n",
       "      <td>0.0</td>\n",
       "      <td>0.0</td>\n",
       "      <td>...</td>\n",
       "      <td>0.0</td>\n",
       "      <td>0.0</td>\n",
       "      <td>0.0</td>\n",
       "      <td>0.0</td>\n",
       "      <td>0.0</td>\n",
       "      <td>0.0</td>\n",
       "      <td>0.0</td>\n",
       "      <td>0.0</td>\n",
       "      <td>0.0</td>\n",
       "      <td>11.672584</td>\n",
       "    </tr>\n",
       "    <tr>\n",
       "      <th>112154</th>\n",
       "      <td>-999999</td>\n",
       "      <td>27</td>\n",
       "      <td>0.0</td>\n",
       "      <td>0.00</td>\n",
       "      <td>0.00</td>\n",
       "      <td>0.00</td>\n",
       "      <td>0.00</td>\n",
       "      <td>0.0</td>\n",
       "      <td>0.0</td>\n",
       "      <td>0.0</td>\n",
       "      <td>...</td>\n",
       "      <td>0.0</td>\n",
       "      <td>0.0</td>\n",
       "      <td>0.0</td>\n",
       "      <td>0.0</td>\n",
       "      <td>0.0</td>\n",
       "      <td>0.0</td>\n",
       "      <td>0.0</td>\n",
       "      <td>0.0</td>\n",
       "      <td>0.0</td>\n",
       "      <td>11.672584</td>\n",
       "    </tr>\n",
       "    <tr>\n",
       "      <th>113212</th>\n",
       "      <td>-999999</td>\n",
       "      <td>24</td>\n",
       "      <td>0.0</td>\n",
       "      <td>0.00</td>\n",
       "      <td>0.00</td>\n",
       "      <td>0.00</td>\n",
       "      <td>0.00</td>\n",
       "      <td>0.0</td>\n",
       "      <td>0.0</td>\n",
       "      <td>0.0</td>\n",
       "      <td>...</td>\n",
       "      <td>0.0</td>\n",
       "      <td>0.0</td>\n",
       "      <td>0.0</td>\n",
       "      <td>0.0</td>\n",
       "      <td>0.0</td>\n",
       "      <td>0.0</td>\n",
       "      <td>0.0</td>\n",
       "      <td>0.0</td>\n",
       "      <td>0.0</td>\n",
       "      <td>11.672584</td>\n",
       "    </tr>\n",
       "    <tr>\n",
       "      <th>114326</th>\n",
       "      <td>-999999</td>\n",
       "      <td>66</td>\n",
       "      <td>0.0</td>\n",
       "      <td>8.40</td>\n",
       "      <td>28.41</td>\n",
       "      <td>0.00</td>\n",
       "      <td>0.00</td>\n",
       "      <td>0.0</td>\n",
       "      <td>0.0</td>\n",
       "      <td>0.0</td>\n",
       "      <td>...</td>\n",
       "      <td>0.0</td>\n",
       "      <td>0.0</td>\n",
       "      <td>0.0</td>\n",
       "      <td>0.0</td>\n",
       "      <td>0.0</td>\n",
       "      <td>0.0</td>\n",
       "      <td>0.0</td>\n",
       "      <td>0.0</td>\n",
       "      <td>0.0</td>\n",
       "      <td>11.672584</td>\n",
       "    </tr>\n",
       "    <tr>\n",
       "      <th>114930</th>\n",
       "      <td>-999999</td>\n",
       "      <td>23</td>\n",
       "      <td>0.0</td>\n",
       "      <td>0.00</td>\n",
       "      <td>0.00</td>\n",
       "      <td>0.00</td>\n",
       "      <td>0.00</td>\n",
       "      <td>0.0</td>\n",
       "      <td>0.0</td>\n",
       "      <td>0.0</td>\n",
       "      <td>...</td>\n",
       "      <td>0.0</td>\n",
       "      <td>0.0</td>\n",
       "      <td>0.0</td>\n",
       "      <td>0.0</td>\n",
       "      <td>0.0</td>\n",
       "      <td>0.0</td>\n",
       "      <td>0.0</td>\n",
       "      <td>0.0</td>\n",
       "      <td>0.0</td>\n",
       "      <td>11.672584</td>\n",
       "    </tr>\n",
       "    <tr>\n",
       "      <th>115445</th>\n",
       "      <td>-999999</td>\n",
       "      <td>26</td>\n",
       "      <td>0.0</td>\n",
       "      <td>0.00</td>\n",
       "      <td>0.00</td>\n",
       "      <td>0.00</td>\n",
       "      <td>0.00</td>\n",
       "      <td>0.0</td>\n",
       "      <td>0.0</td>\n",
       "      <td>0.0</td>\n",
       "      <td>...</td>\n",
       "      <td>0.0</td>\n",
       "      <td>0.0</td>\n",
       "      <td>0.0</td>\n",
       "      <td>0.0</td>\n",
       "      <td>0.0</td>\n",
       "      <td>0.0</td>\n",
       "      <td>0.0</td>\n",
       "      <td>0.0</td>\n",
       "      <td>0.0</td>\n",
       "      <td>11.672584</td>\n",
       "    </tr>\n",
       "    <tr>\n",
       "      <th>116907</th>\n",
       "      <td>-999999</td>\n",
       "      <td>60</td>\n",
       "      <td>0.0</td>\n",
       "      <td>0.00</td>\n",
       "      <td>0.00</td>\n",
       "      <td>0.00</td>\n",
       "      <td>0.00</td>\n",
       "      <td>0.0</td>\n",
       "      <td>0.0</td>\n",
       "      <td>0.0</td>\n",
       "      <td>...</td>\n",
       "      <td>0.0</td>\n",
       "      <td>0.0</td>\n",
       "      <td>0.0</td>\n",
       "      <td>0.0</td>\n",
       "      <td>0.0</td>\n",
       "      <td>0.0</td>\n",
       "      <td>0.0</td>\n",
       "      <td>0.0</td>\n",
       "      <td>0.0</td>\n",
       "      <td>11.672584</td>\n",
       "    </tr>\n",
       "    <tr>\n",
       "      <th>118167</th>\n",
       "      <td>-999999</td>\n",
       "      <td>34</td>\n",
       "      <td>0.0</td>\n",
       "      <td>0.00</td>\n",
       "      <td>0.00</td>\n",
       "      <td>0.00</td>\n",
       "      <td>0.00</td>\n",
       "      <td>0.0</td>\n",
       "      <td>0.0</td>\n",
       "      <td>0.0</td>\n",
       "      <td>...</td>\n",
       "      <td>0.0</td>\n",
       "      <td>0.0</td>\n",
       "      <td>0.0</td>\n",
       "      <td>0.0</td>\n",
       "      <td>0.0</td>\n",
       "      <td>0.0</td>\n",
       "      <td>0.0</td>\n",
       "      <td>0.0</td>\n",
       "      <td>0.0</td>\n",
       "      <td>11.672584</td>\n",
       "    </tr>\n",
       "    <tr>\n",
       "      <th>119083</th>\n",
       "      <td>-999999</td>\n",
       "      <td>24</td>\n",
       "      <td>0.0</td>\n",
       "      <td>0.00</td>\n",
       "      <td>0.00</td>\n",
       "      <td>0.00</td>\n",
       "      <td>0.00</td>\n",
       "      <td>0.0</td>\n",
       "      <td>0.0</td>\n",
       "      <td>0.0</td>\n",
       "      <td>...</td>\n",
       "      <td>0.0</td>\n",
       "      <td>0.0</td>\n",
       "      <td>0.0</td>\n",
       "      <td>0.0</td>\n",
       "      <td>0.0</td>\n",
       "      <td>0.0</td>\n",
       "      <td>0.0</td>\n",
       "      <td>0.0</td>\n",
       "      <td>0.0</td>\n",
       "      <td>11.672584</td>\n",
       "    </tr>\n",
       "    <tr>\n",
       "      <th>119770</th>\n",
       "      <td>-999999</td>\n",
       "      <td>29</td>\n",
       "      <td>0.0</td>\n",
       "      <td>0.00</td>\n",
       "      <td>0.00</td>\n",
       "      <td>0.00</td>\n",
       "      <td>0.00</td>\n",
       "      <td>0.0</td>\n",
       "      <td>0.0</td>\n",
       "      <td>0.0</td>\n",
       "      <td>...</td>\n",
       "      <td>0.0</td>\n",
       "      <td>0.0</td>\n",
       "      <td>0.0</td>\n",
       "      <td>0.0</td>\n",
       "      <td>0.0</td>\n",
       "      <td>0.0</td>\n",
       "      <td>0.0</td>\n",
       "      <td>0.0</td>\n",
       "      <td>0.0</td>\n",
       "      <td>11.672584</td>\n",
       "    </tr>\n",
       "    <tr>\n",
       "      <th>120905</th>\n",
       "      <td>-999999</td>\n",
       "      <td>27</td>\n",
       "      <td>0.0</td>\n",
       "      <td>0.00</td>\n",
       "      <td>0.00</td>\n",
       "      <td>0.00</td>\n",
       "      <td>0.00</td>\n",
       "      <td>0.0</td>\n",
       "      <td>0.0</td>\n",
       "      <td>0.0</td>\n",
       "      <td>...</td>\n",
       "      <td>0.0</td>\n",
       "      <td>0.0</td>\n",
       "      <td>0.0</td>\n",
       "      <td>0.0</td>\n",
       "      <td>0.0</td>\n",
       "      <td>0.0</td>\n",
       "      <td>0.0</td>\n",
       "      <td>0.0</td>\n",
       "      <td>0.0</td>\n",
       "      <td>11.672584</td>\n",
       "    </tr>\n",
       "    <tr>\n",
       "      <th>124983</th>\n",
       "      <td>-999999</td>\n",
       "      <td>22</td>\n",
       "      <td>0.0</td>\n",
       "      <td>0.00</td>\n",
       "      <td>0.00</td>\n",
       "      <td>0.00</td>\n",
       "      <td>0.00</td>\n",
       "      <td>0.0</td>\n",
       "      <td>0.0</td>\n",
       "      <td>0.0</td>\n",
       "      <td>...</td>\n",
       "      <td>0.0</td>\n",
       "      <td>0.0</td>\n",
       "      <td>0.0</td>\n",
       "      <td>0.0</td>\n",
       "      <td>0.0</td>\n",
       "      <td>0.0</td>\n",
       "      <td>0.0</td>\n",
       "      <td>0.0</td>\n",
       "      <td>0.0</td>\n",
       "      <td>11.672584</td>\n",
       "    </tr>\n",
       "    <tr>\n",
       "      <th>125594</th>\n",
       "      <td>-999999</td>\n",
       "      <td>24</td>\n",
       "      <td>0.0</td>\n",
       "      <td>0.00</td>\n",
       "      <td>0.00</td>\n",
       "      <td>0.00</td>\n",
       "      <td>0.00</td>\n",
       "      <td>0.0</td>\n",
       "      <td>0.0</td>\n",
       "      <td>0.0</td>\n",
       "      <td>...</td>\n",
       "      <td>0.0</td>\n",
       "      <td>0.0</td>\n",
       "      <td>0.0</td>\n",
       "      <td>0.0</td>\n",
       "      <td>0.0</td>\n",
       "      <td>0.0</td>\n",
       "      <td>0.0</td>\n",
       "      <td>0.0</td>\n",
       "      <td>0.0</td>\n",
       "      <td>11.672584</td>\n",
       "    </tr>\n",
       "    <tr>\n",
       "      <th>126315</th>\n",
       "      <td>-999999</td>\n",
       "      <td>23</td>\n",
       "      <td>0.0</td>\n",
       "      <td>0.00</td>\n",
       "      <td>0.00</td>\n",
       "      <td>0.00</td>\n",
       "      <td>0.00</td>\n",
       "      <td>0.0</td>\n",
       "      <td>0.0</td>\n",
       "      <td>0.0</td>\n",
       "      <td>...</td>\n",
       "      <td>0.0</td>\n",
       "      <td>0.0</td>\n",
       "      <td>0.0</td>\n",
       "      <td>0.0</td>\n",
       "      <td>0.0</td>\n",
       "      <td>0.0</td>\n",
       "      <td>0.0</td>\n",
       "      <td>0.0</td>\n",
       "      <td>0.0</td>\n",
       "      <td>11.672584</td>\n",
       "    </tr>\n",
       "    <tr>\n",
       "      <th>126821</th>\n",
       "      <td>-999999</td>\n",
       "      <td>23</td>\n",
       "      <td>0.0</td>\n",
       "      <td>0.00</td>\n",
       "      <td>0.00</td>\n",
       "      <td>0.00</td>\n",
       "      <td>0.00</td>\n",
       "      <td>0.0</td>\n",
       "      <td>0.0</td>\n",
       "      <td>0.0</td>\n",
       "      <td>...</td>\n",
       "      <td>0.0</td>\n",
       "      <td>0.0</td>\n",
       "      <td>0.0</td>\n",
       "      <td>0.0</td>\n",
       "      <td>0.0</td>\n",
       "      <td>0.0</td>\n",
       "      <td>0.0</td>\n",
       "      <td>0.0</td>\n",
       "      <td>0.0</td>\n",
       "      <td>11.672584</td>\n",
       "    </tr>\n",
       "    <tr>\n",
       "      <th>128431</th>\n",
       "      <td>-999999</td>\n",
       "      <td>31</td>\n",
       "      <td>0.0</td>\n",
       "      <td>0.00</td>\n",
       "      <td>0.00</td>\n",
       "      <td>0.00</td>\n",
       "      <td>0.00</td>\n",
       "      <td>0.0</td>\n",
       "      <td>0.0</td>\n",
       "      <td>0.0</td>\n",
       "      <td>...</td>\n",
       "      <td>0.0</td>\n",
       "      <td>0.0</td>\n",
       "      <td>0.0</td>\n",
       "      <td>0.0</td>\n",
       "      <td>0.0</td>\n",
       "      <td>0.0</td>\n",
       "      <td>0.0</td>\n",
       "      <td>0.0</td>\n",
       "      <td>0.0</td>\n",
       "      <td>11.672584</td>\n",
       "    </tr>\n",
       "    <tr>\n",
       "      <th>130802</th>\n",
       "      <td>-999999</td>\n",
       "      <td>71</td>\n",
       "      <td>0.0</td>\n",
       "      <td>0.00</td>\n",
       "      <td>0.00</td>\n",
       "      <td>0.00</td>\n",
       "      <td>0.00</td>\n",
       "      <td>0.0</td>\n",
       "      <td>0.0</td>\n",
       "      <td>0.0</td>\n",
       "      <td>...</td>\n",
       "      <td>0.0</td>\n",
       "      <td>0.0</td>\n",
       "      <td>0.0</td>\n",
       "      <td>0.0</td>\n",
       "      <td>0.0</td>\n",
       "      <td>0.0</td>\n",
       "      <td>0.0</td>\n",
       "      <td>0.0</td>\n",
       "      <td>0.0</td>\n",
       "      <td>11.672584</td>\n",
       "    </tr>\n",
       "    <tr>\n",
       "      <th>131486</th>\n",
       "      <td>-999999</td>\n",
       "      <td>57</td>\n",
       "      <td>0.0</td>\n",
       "      <td>0.00</td>\n",
       "      <td>0.00</td>\n",
       "      <td>0.00</td>\n",
       "      <td>0.00</td>\n",
       "      <td>0.0</td>\n",
       "      <td>0.0</td>\n",
       "      <td>0.0</td>\n",
       "      <td>...</td>\n",
       "      <td>0.0</td>\n",
       "      <td>0.0</td>\n",
       "      <td>0.0</td>\n",
       "      <td>0.0</td>\n",
       "      <td>0.0</td>\n",
       "      <td>0.0</td>\n",
       "      <td>0.0</td>\n",
       "      <td>0.0</td>\n",
       "      <td>0.0</td>\n",
       "      <td>11.672584</td>\n",
       "    </tr>\n",
       "    <tr>\n",
       "      <th>134240</th>\n",
       "      <td>-999999</td>\n",
       "      <td>27</td>\n",
       "      <td>0.0</td>\n",
       "      <td>0.00</td>\n",
       "      <td>0.00</td>\n",
       "      <td>0.00</td>\n",
       "      <td>0.00</td>\n",
       "      <td>0.0</td>\n",
       "      <td>0.0</td>\n",
       "      <td>0.0</td>\n",
       "      <td>...</td>\n",
       "      <td>0.0</td>\n",
       "      <td>0.0</td>\n",
       "      <td>0.0</td>\n",
       "      <td>0.0</td>\n",
       "      <td>0.0</td>\n",
       "      <td>0.0</td>\n",
       "      <td>0.0</td>\n",
       "      <td>0.0</td>\n",
       "      <td>0.0</td>\n",
       "      <td>11.672584</td>\n",
       "    </tr>\n",
       "    <tr>\n",
       "      <th>135249</th>\n",
       "      <td>-999999</td>\n",
       "      <td>36</td>\n",
       "      <td>1800.0</td>\n",
       "      <td>0.00</td>\n",
       "      <td>0.00</td>\n",
       "      <td>0.00</td>\n",
       "      <td>0.00</td>\n",
       "      <td>0.0</td>\n",
       "      <td>0.0</td>\n",
       "      <td>0.0</td>\n",
       "      <td>...</td>\n",
       "      <td>0.0</td>\n",
       "      <td>0.0</td>\n",
       "      <td>0.0</td>\n",
       "      <td>0.0</td>\n",
       "      <td>0.0</td>\n",
       "      <td>0.0</td>\n",
       "      <td>0.0</td>\n",
       "      <td>0.0</td>\n",
       "      <td>0.0</td>\n",
       "      <td>11.672584</td>\n",
       "    </tr>\n",
       "    <tr>\n",
       "      <th>136603</th>\n",
       "      <td>-999999</td>\n",
       "      <td>24</td>\n",
       "      <td>0.0</td>\n",
       "      <td>0.00</td>\n",
       "      <td>0.00</td>\n",
       "      <td>0.00</td>\n",
       "      <td>0.00</td>\n",
       "      <td>0.0</td>\n",
       "      <td>0.0</td>\n",
       "      <td>0.0</td>\n",
       "      <td>...</td>\n",
       "      <td>0.0</td>\n",
       "      <td>0.0</td>\n",
       "      <td>0.0</td>\n",
       "      <td>0.0</td>\n",
       "      <td>0.0</td>\n",
       "      <td>0.0</td>\n",
       "      <td>0.0</td>\n",
       "      <td>0.0</td>\n",
       "      <td>0.0</td>\n",
       "      <td>11.672584</td>\n",
       "    </tr>\n",
       "    <tr>\n",
       "      <th>139422</th>\n",
       "      <td>-999999</td>\n",
       "      <td>48</td>\n",
       "      <td>0.0</td>\n",
       "      <td>0.00</td>\n",
       "      <td>0.00</td>\n",
       "      <td>0.00</td>\n",
       "      <td>0.00</td>\n",
       "      <td>0.0</td>\n",
       "      <td>0.0</td>\n",
       "      <td>0.0</td>\n",
       "      <td>...</td>\n",
       "      <td>0.0</td>\n",
       "      <td>0.0</td>\n",
       "      <td>0.0</td>\n",
       "      <td>0.0</td>\n",
       "      <td>0.0</td>\n",
       "      <td>0.0</td>\n",
       "      <td>0.0</td>\n",
       "      <td>0.0</td>\n",
       "      <td>0.0</td>\n",
       "      <td>11.672584</td>\n",
       "    </tr>\n",
       "    <tr>\n",
       "      <th>140398</th>\n",
       "      <td>-999999</td>\n",
       "      <td>23</td>\n",
       "      <td>0.0</td>\n",
       "      <td>0.00</td>\n",
       "      <td>0.00</td>\n",
       "      <td>0.00</td>\n",
       "      <td>0.00</td>\n",
       "      <td>0.0</td>\n",
       "      <td>0.0</td>\n",
       "      <td>0.0</td>\n",
       "      <td>...</td>\n",
       "      <td>0.0</td>\n",
       "      <td>0.0</td>\n",
       "      <td>0.0</td>\n",
       "      <td>0.0</td>\n",
       "      <td>0.0</td>\n",
       "      <td>0.0</td>\n",
       "      <td>0.0</td>\n",
       "      <td>0.0</td>\n",
       "      <td>0.0</td>\n",
       "      <td>11.672584</td>\n",
       "    </tr>\n",
       "    <tr>\n",
       "      <th>142350</th>\n",
       "      <td>-999999</td>\n",
       "      <td>23</td>\n",
       "      <td>0.0</td>\n",
       "      <td>0.00</td>\n",
       "      <td>0.00</td>\n",
       "      <td>0.00</td>\n",
       "      <td>0.00</td>\n",
       "      <td>0.0</td>\n",
       "      <td>0.0</td>\n",
       "      <td>0.0</td>\n",
       "      <td>...</td>\n",
       "      <td>0.0</td>\n",
       "      <td>0.0</td>\n",
       "      <td>0.0</td>\n",
       "      <td>0.0</td>\n",
       "      <td>0.0</td>\n",
       "      <td>0.0</td>\n",
       "      <td>0.0</td>\n",
       "      <td>0.0</td>\n",
       "      <td>0.0</td>\n",
       "      <td>11.672584</td>\n",
       "    </tr>\n",
       "    <tr>\n",
       "      <th>142407</th>\n",
       "      <td>-999999</td>\n",
       "      <td>31</td>\n",
       "      <td>0.0</td>\n",
       "      <td>0.00</td>\n",
       "      <td>0.00</td>\n",
       "      <td>0.00</td>\n",
       "      <td>0.00</td>\n",
       "      <td>0.0</td>\n",
       "      <td>0.0</td>\n",
       "      <td>0.0</td>\n",
       "      <td>...</td>\n",
       "      <td>0.0</td>\n",
       "      <td>0.0</td>\n",
       "      <td>0.0</td>\n",
       "      <td>0.0</td>\n",
       "      <td>0.0</td>\n",
       "      <td>0.0</td>\n",
       "      <td>0.0</td>\n",
       "      <td>0.0</td>\n",
       "      <td>0.0</td>\n",
       "      <td>11.672584</td>\n",
       "    </tr>\n",
       "    <tr>\n",
       "      <th>144095</th>\n",
       "      <td>-999999</td>\n",
       "      <td>41</td>\n",
       "      <td>0.0</td>\n",
       "      <td>0.00</td>\n",
       "      <td>0.00</td>\n",
       "      <td>0.00</td>\n",
       "      <td>0.00</td>\n",
       "      <td>0.0</td>\n",
       "      <td>0.0</td>\n",
       "      <td>0.0</td>\n",
       "      <td>...</td>\n",
       "      <td>0.0</td>\n",
       "      <td>0.0</td>\n",
       "      <td>0.0</td>\n",
       "      <td>0.0</td>\n",
       "      <td>0.0</td>\n",
       "      <td>0.0</td>\n",
       "      <td>0.0</td>\n",
       "      <td>0.0</td>\n",
       "      <td>0.0</td>\n",
       "      <td>11.672584</td>\n",
       "    </tr>\n",
       "    <tr>\n",
       "      <th>148198</th>\n",
       "      <td>-999999</td>\n",
       "      <td>43</td>\n",
       "      <td>0.0</td>\n",
       "      <td>0.00</td>\n",
       "      <td>0.00</td>\n",
       "      <td>0.00</td>\n",
       "      <td>0.00</td>\n",
       "      <td>0.0</td>\n",
       "      <td>0.0</td>\n",
       "      <td>0.0</td>\n",
       "      <td>...</td>\n",
       "      <td>0.0</td>\n",
       "      <td>0.0</td>\n",
       "      <td>0.0</td>\n",
       "      <td>0.0</td>\n",
       "      <td>0.0</td>\n",
       "      <td>0.0</td>\n",
       "      <td>0.0</td>\n",
       "      <td>0.0</td>\n",
       "      <td>0.0</td>\n",
       "      <td>11.672584</td>\n",
       "    </tr>\n",
       "  </tbody>\n",
       "</table>\n",
       "<p>120 rows × 306 columns</p>\n",
       "</div>"
      ],
      "text/plain": [
       "          var3  var15  imp_ent_var16_ult1  imp_op_var39_comer_ult1  \\\n",
       "ID                                                                   \n",
       "917    -999999     44                 0.0                     0.00   \n",
       "1065   -999999     46                 0.0                     0.00   \n",
       "1878   -999999     67                 0.0                     0.00   \n",
       "5359   -999999     64                 0.0                     0.00   \n",
       "7414   -999999     26                 0.0                     0.00   \n",
       "7639   -999999     28                 0.0                     0.00   \n",
       "9918   -999999     67                 0.0                     0.00   \n",
       "11034  -999999     44                 0.0                  1800.24   \n",
       "13331  -999999     52                 0.0                     0.00   \n",
       "15871  -999999     23                 0.0                     0.00   \n",
       "15915  -999999     40                 0.0                     0.00   \n",
       "16439  -999999     47                 0.0                     0.00   \n",
       "16683  -999999     29                 0.0                     0.00   \n",
       "17303  -999999     28                 0.0                     0.00   \n",
       "18115  -999999     23                 0.0                     0.00   \n",
       "18401  -999999     41                 0.0                     0.00   \n",
       "18935  -999999     37                 0.0                     0.00   \n",
       "19693  -999999     27                 0.0                     0.00   \n",
       "20957  -999999     23                 0.0                     0.00   \n",
       "22521  -999999     23                 0.0                     0.00   \n",
       "22994  -999999     63                 0.0                     0.00   \n",
       "23070  -999999     24                 0.0                     0.00   \n",
       "25227  -999999     23                 0.0                     0.00   \n",
       "25760  -999999     22                 0.0                     0.00   \n",
       "25814  -999999     39                 0.0                     0.00   \n",
       "25997  -999999     36                 0.0                     0.00   \n",
       "27101  -999999     23               300.0                     0.00   \n",
       "27988  -999999     28                 0.0                     0.00   \n",
       "28311  -999999     39                 0.0                     0.00   \n",
       "30046  -999999     23                 0.0                     0.00   \n",
       "...        ...    ...                 ...                      ...   \n",
       "109762 -999999     23                 0.0                     0.00   \n",
       "110554 -999999     34                 0.0                     0.00   \n",
       "110943 -999999     30                 0.0                     0.00   \n",
       "111116 -999999     35                 0.0                     0.00   \n",
       "112154 -999999     27                 0.0                     0.00   \n",
       "113212 -999999     24                 0.0                     0.00   \n",
       "114326 -999999     66                 0.0                     8.40   \n",
       "114930 -999999     23                 0.0                     0.00   \n",
       "115445 -999999     26                 0.0                     0.00   \n",
       "116907 -999999     60                 0.0                     0.00   \n",
       "118167 -999999     34                 0.0                     0.00   \n",
       "119083 -999999     24                 0.0                     0.00   \n",
       "119770 -999999     29                 0.0                     0.00   \n",
       "120905 -999999     27                 0.0                     0.00   \n",
       "124983 -999999     22                 0.0                     0.00   \n",
       "125594 -999999     24                 0.0                     0.00   \n",
       "126315 -999999     23                 0.0                     0.00   \n",
       "126821 -999999     23                 0.0                     0.00   \n",
       "128431 -999999     31                 0.0                     0.00   \n",
       "130802 -999999     71                 0.0                     0.00   \n",
       "131486 -999999     57                 0.0                     0.00   \n",
       "134240 -999999     27                 0.0                     0.00   \n",
       "135249 -999999     36              1800.0                     0.00   \n",
       "136603 -999999     24                 0.0                     0.00   \n",
       "139422 -999999     48                 0.0                     0.00   \n",
       "140398 -999999     23                 0.0                     0.00   \n",
       "142350 -999999     23                 0.0                     0.00   \n",
       "142407 -999999     31                 0.0                     0.00   \n",
       "144095 -999999     41                 0.0                     0.00   \n",
       "148198 -999999     43                 0.0                     0.00   \n",
       "\n",
       "        imp_op_var39_comer_ult3  imp_op_var40_comer_ult1  \\\n",
       "ID                                                         \n",
       "917                        0.00                     0.00   \n",
       "1065                       0.00                     0.00   \n",
       "1878                       0.00                     0.00   \n",
       "5359                       0.00                     0.00   \n",
       "7414                       0.00                     0.00   \n",
       "7639                      90.00                     0.00   \n",
       "9918                       0.00                     0.00   \n",
       "11034                   2731.32                  1259.76   \n",
       "13331                      0.00                     0.00   \n",
       "15871                      0.00                     0.00   \n",
       "15915                      0.00                     0.00   \n",
       "16439                      0.00                     0.00   \n",
       "16683                      0.00                     0.00   \n",
       "17303                      0.00                     0.00   \n",
       "18115                      0.00                     0.00   \n",
       "18401                      0.00                     0.00   \n",
       "18935                      0.00                     0.00   \n",
       "19693                      0.00                     0.00   \n",
       "20957                      0.00                     0.00   \n",
       "22521                      0.00                     0.00   \n",
       "22994                      0.00                     0.00   \n",
       "23070                      0.00                     0.00   \n",
       "25227                      0.00                     0.00   \n",
       "25760                      0.00                     0.00   \n",
       "25814                      0.00                     0.00   \n",
       "25997                      0.00                     0.00   \n",
       "27101                      0.00                     0.00   \n",
       "27988                      0.00                     0.00   \n",
       "28311                      0.00                     0.00   \n",
       "30046                      0.00                     0.00   \n",
       "...                         ...                      ...   \n",
       "109762                     0.00                     0.00   \n",
       "110554                     0.00                     0.00   \n",
       "110943                     0.00                     0.00   \n",
       "111116                     0.00                     0.00   \n",
       "112154                     0.00                     0.00   \n",
       "113212                     0.00                     0.00   \n",
       "114326                    28.41                     0.00   \n",
       "114930                     0.00                     0.00   \n",
       "115445                     0.00                     0.00   \n",
       "116907                     0.00                     0.00   \n",
       "118167                     0.00                     0.00   \n",
       "119083                     0.00                     0.00   \n",
       "119770                     0.00                     0.00   \n",
       "120905                     0.00                     0.00   \n",
       "124983                     0.00                     0.00   \n",
       "125594                     0.00                     0.00   \n",
       "126315                     0.00                     0.00   \n",
       "126821                     0.00                     0.00   \n",
       "128431                     0.00                     0.00   \n",
       "130802                     0.00                     0.00   \n",
       "131486                     0.00                     0.00   \n",
       "134240                     0.00                     0.00   \n",
       "135249                     0.00                     0.00   \n",
       "136603                     0.00                     0.00   \n",
       "139422                     0.00                     0.00   \n",
       "140398                     0.00                     0.00   \n",
       "142350                     0.00                     0.00   \n",
       "142407                     0.00                     0.00   \n",
       "144095                     0.00                     0.00   \n",
       "148198                     0.00                     0.00   \n",
       "\n",
       "        imp_op_var40_comer_ult3  imp_op_var40_efect_ult1  \\\n",
       "ID                                                         \n",
       "917                        0.00                      0.0   \n",
       "1065                       0.00                      0.0   \n",
       "1878                       0.00                      0.0   \n",
       "5359                       0.00                      0.0   \n",
       "7414                       0.00                      0.0   \n",
       "7639                       0.00                      0.0   \n",
       "9918                       0.00                      0.0   \n",
       "11034                   1320.48                      0.0   \n",
       "13331                      0.00                      0.0   \n",
       "15871                      0.00                      0.0   \n",
       "15915                      0.00                      0.0   \n",
       "16439                      0.00                      0.0   \n",
       "16683                      0.00                      0.0   \n",
       "17303                      0.00                      0.0   \n",
       "18115                      0.00                      0.0   \n",
       "18401                      0.00                      0.0   \n",
       "18935                      0.00                      0.0   \n",
       "19693                      0.00                      0.0   \n",
       "20957                      0.00                      0.0   \n",
       "22521                      0.00                      0.0   \n",
       "22994                      0.00                      0.0   \n",
       "23070                      0.00                      0.0   \n",
       "25227                      0.00                      0.0   \n",
       "25760                      0.00                      0.0   \n",
       "25814                      0.00                      0.0   \n",
       "25997                      0.00                      0.0   \n",
       "27101                      0.00                      0.0   \n",
       "27988                      0.00                      0.0   \n",
       "28311                      0.00                      0.0   \n",
       "30046                      0.00                      0.0   \n",
       "...                         ...                      ...   \n",
       "109762                     0.00                      0.0   \n",
       "110554                     0.00                      0.0   \n",
       "110943                     0.00                      0.0   \n",
       "111116                     0.00                      0.0   \n",
       "112154                     0.00                      0.0   \n",
       "113212                     0.00                      0.0   \n",
       "114326                     0.00                      0.0   \n",
       "114930                     0.00                      0.0   \n",
       "115445                     0.00                      0.0   \n",
       "116907                     0.00                      0.0   \n",
       "118167                     0.00                      0.0   \n",
       "119083                     0.00                      0.0   \n",
       "119770                     0.00                      0.0   \n",
       "120905                     0.00                      0.0   \n",
       "124983                     0.00                      0.0   \n",
       "125594                     0.00                      0.0   \n",
       "126315                     0.00                      0.0   \n",
       "126821                     0.00                      0.0   \n",
       "128431                     0.00                      0.0   \n",
       "130802                     0.00                      0.0   \n",
       "131486                     0.00                      0.0   \n",
       "134240                     0.00                      0.0   \n",
       "135249                     0.00                      0.0   \n",
       "136603                     0.00                      0.0   \n",
       "139422                     0.00                      0.0   \n",
       "140398                     0.00                      0.0   \n",
       "142350                     0.00                      0.0   \n",
       "142407                     0.00                      0.0   \n",
       "144095                     0.00                      0.0   \n",
       "148198                     0.00                      0.0   \n",
       "\n",
       "        imp_op_var40_efect_ult3  imp_op_var40_ult1    ...      \\\n",
       "ID                                                    ...       \n",
       "917                         0.0                0.0    ...       \n",
       "1065                        0.0                0.0    ...       \n",
       "1878                        0.0                0.0    ...       \n",
       "5359                        0.0                0.0    ...       \n",
       "7414                        0.0                0.0    ...       \n",
       "7639                        0.0                0.0    ...       \n",
       "9918                        0.0                0.0    ...       \n",
       "11034                       0.0                0.0    ...       \n",
       "13331                       0.0                0.0    ...       \n",
       "15871                       0.0                0.0    ...       \n",
       "15915                       0.0                0.0    ...       \n",
       "16439                       0.0                0.0    ...       \n",
       "16683                       0.0                0.0    ...       \n",
       "17303                       0.0                0.0    ...       \n",
       "18115                       0.0                0.0    ...       \n",
       "18401                       0.0                0.0    ...       \n",
       "18935                       0.0                0.0    ...       \n",
       "19693                       0.0                0.0    ...       \n",
       "20957                       0.0                0.0    ...       \n",
       "22521                       0.0                0.0    ...       \n",
       "22994                       0.0                0.0    ...       \n",
       "23070                       0.0                0.0    ...       \n",
       "25227                       0.0                0.0    ...       \n",
       "25760                       0.0                0.0    ...       \n",
       "25814                       0.0                0.0    ...       \n",
       "25997                       0.0                0.0    ...       \n",
       "27101                       0.0                0.0    ...       \n",
       "27988                       0.0                0.0    ...       \n",
       "28311                       0.0                0.0    ...       \n",
       "30046                       0.0                0.0    ...       \n",
       "...                         ...                ...    ...       \n",
       "109762                      0.0                0.0    ...       \n",
       "110554                      0.0                0.0    ...       \n",
       "110943                      0.0                0.0    ...       \n",
       "111116                      0.0                0.0    ...       \n",
       "112154                      0.0                0.0    ...       \n",
       "113212                      0.0                0.0    ...       \n",
       "114326                      0.0                0.0    ...       \n",
       "114930                      0.0                0.0    ...       \n",
       "115445                      0.0                0.0    ...       \n",
       "116907                      0.0                0.0    ...       \n",
       "118167                      0.0                0.0    ...       \n",
       "119083                      0.0                0.0    ...       \n",
       "119770                      0.0                0.0    ...       \n",
       "120905                      0.0                0.0    ...       \n",
       "124983                      0.0                0.0    ...       \n",
       "125594                      0.0                0.0    ...       \n",
       "126315                      0.0                0.0    ...       \n",
       "126821                      0.0                0.0    ...       \n",
       "128431                      0.0                0.0    ...       \n",
       "130802                      0.0                0.0    ...       \n",
       "131486                      0.0                0.0    ...       \n",
       "134240                      0.0                0.0    ...       \n",
       "135249                      0.0                0.0    ...       \n",
       "136603                      0.0                0.0    ...       \n",
       "139422                      0.0                0.0    ...       \n",
       "140398                      0.0                0.0    ...       \n",
       "142350                      0.0                0.0    ...       \n",
       "142407                      0.0                0.0    ...       \n",
       "144095                      0.0                0.0    ...       \n",
       "148198                      0.0                0.0    ...       \n",
       "\n",
       "        saldo_medio_var29_ult3  saldo_medio_var33_hace2  \\\n",
       "ID                                                        \n",
       "917                        0.0                      0.0   \n",
       "1065                       0.0                      0.0   \n",
       "1878                       0.0                      0.0   \n",
       "5359                       0.0                      0.0   \n",
       "7414                       0.0                      0.0   \n",
       "7639                       0.0                      0.0   \n",
       "9918                       0.0                      0.0   \n",
       "11034                      0.0                      0.0   \n",
       "13331                      0.0                      0.0   \n",
       "15871                      0.0                      0.0   \n",
       "15915                      0.0                      0.0   \n",
       "16439                      0.0                      0.0   \n",
       "16683                      0.0                      0.0   \n",
       "17303                      0.0                      0.0   \n",
       "18115                      0.0                      0.0   \n",
       "18401                      0.0                      0.0   \n",
       "18935                      0.0                      0.0   \n",
       "19693                      0.0                      0.0   \n",
       "20957                      0.0                      0.0   \n",
       "22521                      0.0                      0.0   \n",
       "22994                      0.0                      0.0   \n",
       "23070                      0.0                      0.0   \n",
       "25227                      0.0                      0.0   \n",
       "25760                      0.0                      0.0   \n",
       "25814                      0.0                      0.0   \n",
       "25997                      0.0                      0.0   \n",
       "27101                      0.0                      0.0   \n",
       "27988                      0.0                      0.0   \n",
       "28311                      0.0                      0.0   \n",
       "30046                      0.0                      0.0   \n",
       "...                        ...                      ...   \n",
       "109762                     0.0                      0.0   \n",
       "110554                     0.0                      0.0   \n",
       "110943                     0.0                      0.0   \n",
       "111116                     0.0                      0.0   \n",
       "112154                     0.0                      0.0   \n",
       "113212                     0.0                      0.0   \n",
       "114326                     0.0                      0.0   \n",
       "114930                     0.0                      0.0   \n",
       "115445                     0.0                      0.0   \n",
       "116907                     0.0                      0.0   \n",
       "118167                     0.0                      0.0   \n",
       "119083                     0.0                      0.0   \n",
       "119770                     0.0                      0.0   \n",
       "120905                     0.0                      0.0   \n",
       "124983                     0.0                      0.0   \n",
       "125594                     0.0                      0.0   \n",
       "126315                     0.0                      0.0   \n",
       "126821                     0.0                      0.0   \n",
       "128431                     0.0                      0.0   \n",
       "130802                     0.0                      0.0   \n",
       "131486                     0.0                      0.0   \n",
       "134240                     0.0                      0.0   \n",
       "135249                     0.0                      0.0   \n",
       "136603                     0.0                      0.0   \n",
       "139422                     0.0                      0.0   \n",
       "140398                     0.0                      0.0   \n",
       "142350                     0.0                      0.0   \n",
       "142407                     0.0                      0.0   \n",
       "144095                     0.0                      0.0   \n",
       "148198                     0.0                      0.0   \n",
       "\n",
       "        saldo_medio_var33_hace3  saldo_medio_var33_ult1  \\\n",
       "ID                                                        \n",
       "917                         0.0                     0.0   \n",
       "1065                        0.0                     0.0   \n",
       "1878                        0.0                     0.0   \n",
       "5359                        0.0                     0.0   \n",
       "7414                        0.0                     0.0   \n",
       "7639                        0.0                     0.0   \n",
       "9918                        0.0                     0.0   \n",
       "11034                       0.0                     0.0   \n",
       "13331                       0.0                     0.0   \n",
       "15871                       0.0                     0.0   \n",
       "15915                       0.0                     0.0   \n",
       "16439                       0.0                     0.0   \n",
       "16683                       0.0                     0.0   \n",
       "17303                       0.0                     0.0   \n",
       "18115                       0.0                     0.0   \n",
       "18401                       0.0                     0.0   \n",
       "18935                       0.0                     0.0   \n",
       "19693                       0.0                     0.0   \n",
       "20957                       0.0                     0.0   \n",
       "22521                       0.0                     0.0   \n",
       "22994                       0.0                     0.0   \n",
       "23070                       0.0                     0.0   \n",
       "25227                       0.0                     0.0   \n",
       "25760                       0.0                     0.0   \n",
       "25814                       0.0                     0.0   \n",
       "25997                       0.0                     0.0   \n",
       "27101                       0.0                     0.0   \n",
       "27988                       0.0                     0.0   \n",
       "28311                       0.0                     0.0   \n",
       "30046                       0.0                     0.0   \n",
       "...                         ...                     ...   \n",
       "109762                      0.0                     0.0   \n",
       "110554                      0.0                     0.0   \n",
       "110943                      0.0                     0.0   \n",
       "111116                      0.0                     0.0   \n",
       "112154                      0.0                     0.0   \n",
       "113212                      0.0                     0.0   \n",
       "114326                      0.0                     0.0   \n",
       "114930                      0.0                     0.0   \n",
       "115445                      0.0                     0.0   \n",
       "116907                      0.0                     0.0   \n",
       "118167                      0.0                     0.0   \n",
       "119083                      0.0                     0.0   \n",
       "119770                      0.0                     0.0   \n",
       "120905                      0.0                     0.0   \n",
       "124983                      0.0                     0.0   \n",
       "125594                      0.0                     0.0   \n",
       "126315                      0.0                     0.0   \n",
       "126821                      0.0                     0.0   \n",
       "128431                      0.0                     0.0   \n",
       "130802                      0.0                     0.0   \n",
       "131486                      0.0                     0.0   \n",
       "134240                      0.0                     0.0   \n",
       "135249                      0.0                     0.0   \n",
       "136603                      0.0                     0.0   \n",
       "139422                      0.0                     0.0   \n",
       "140398                      0.0                     0.0   \n",
       "142350                      0.0                     0.0   \n",
       "142407                      0.0                     0.0   \n",
       "144095                      0.0                     0.0   \n",
       "148198                      0.0                     0.0   \n",
       "\n",
       "        saldo_medio_var33_ult3  saldo_medio_var44_hace2  \\\n",
       "ID                                                        \n",
       "917                        0.0                      0.0   \n",
       "1065                       0.0                      0.0   \n",
       "1878                       0.0                      0.0   \n",
       "5359                       0.0                      0.0   \n",
       "7414                       0.0                      0.0   \n",
       "7639                       0.0                      0.0   \n",
       "9918                       0.0                      0.0   \n",
       "11034                      0.0                      0.0   \n",
       "13331                      0.0                      0.0   \n",
       "15871                      0.0                      0.0   \n",
       "15915                      0.0                      0.0   \n",
       "16439                      0.0                      0.0   \n",
       "16683                      0.0                      0.0   \n",
       "17303                      0.0                      0.0   \n",
       "18115                      0.0                      0.0   \n",
       "18401                      0.0                      0.0   \n",
       "18935                      0.0                      0.0   \n",
       "19693                      0.0                      0.0   \n",
       "20957                      0.0                      0.0   \n",
       "22521                      0.0                      0.0   \n",
       "22994                      0.0                      0.0   \n",
       "23070                      0.0                      0.0   \n",
       "25227                      0.0                      0.0   \n",
       "25760                      0.0                      0.0   \n",
       "25814                      0.0                      0.0   \n",
       "25997                      0.0                      0.0   \n",
       "27101                      0.0                      0.0   \n",
       "27988                      0.0                      0.0   \n",
       "28311                      0.0                      0.0   \n",
       "30046                      0.0                      0.0   \n",
       "...                        ...                      ...   \n",
       "109762                     0.0                      0.0   \n",
       "110554                     0.0                      0.0   \n",
       "110943                     0.0                      0.0   \n",
       "111116                     0.0                      0.0   \n",
       "112154                     0.0                      0.0   \n",
       "113212                     0.0                      0.0   \n",
       "114326                     0.0                      0.0   \n",
       "114930                     0.0                      0.0   \n",
       "115445                     0.0                      0.0   \n",
       "116907                     0.0                      0.0   \n",
       "118167                     0.0                      0.0   \n",
       "119083                     0.0                      0.0   \n",
       "119770                     0.0                      0.0   \n",
       "120905                     0.0                      0.0   \n",
       "124983                     0.0                      0.0   \n",
       "125594                     0.0                      0.0   \n",
       "126315                     0.0                      0.0   \n",
       "126821                     0.0                      0.0   \n",
       "128431                     0.0                      0.0   \n",
       "130802                     0.0                      0.0   \n",
       "131486                     0.0                      0.0   \n",
       "134240                     0.0                      0.0   \n",
       "135249                     0.0                      0.0   \n",
       "136603                     0.0                      0.0   \n",
       "139422                     0.0                      0.0   \n",
       "140398                     0.0                      0.0   \n",
       "142350                     0.0                      0.0   \n",
       "142407                     0.0                      0.0   \n",
       "144095                     0.0                      0.0   \n",
       "148198                     0.0                      0.0   \n",
       "\n",
       "        saldo_medio_var44_hace3  saldo_medio_var44_ult1  \\\n",
       "ID                                                        \n",
       "917                         0.0                     0.0   \n",
       "1065                        0.0                     0.0   \n",
       "1878                        0.0                     0.0   \n",
       "5359                        0.0                     0.0   \n",
       "7414                        0.0                     0.0   \n",
       "7639                        0.0                     0.0   \n",
       "9918                        0.0                     0.0   \n",
       "11034                       0.0                     0.0   \n",
       "13331                       0.0                     0.0   \n",
       "15871                       0.0                     0.0   \n",
       "15915                       0.0                     0.0   \n",
       "16439                       0.0                     0.0   \n",
       "16683                       0.0                     0.0   \n",
       "17303                       0.0                     0.0   \n",
       "18115                       0.0                     0.0   \n",
       "18401                       0.0                     0.0   \n",
       "18935                       0.0                     0.0   \n",
       "19693                       0.0                     0.0   \n",
       "20957                       0.0                     0.0   \n",
       "22521                       0.0                     0.0   \n",
       "22994                       0.0                     0.0   \n",
       "23070                       0.0                     0.0   \n",
       "25227                       0.0                     0.0   \n",
       "25760                       0.0                     0.0   \n",
       "25814                       0.0                     0.0   \n",
       "25997                       0.0                     0.0   \n",
       "27101                       0.0                     0.0   \n",
       "27988                       0.0                     0.0   \n",
       "28311                       0.0                     0.0   \n",
       "30046                       0.0                     0.0   \n",
       "...                         ...                     ...   \n",
       "109762                      0.0                     0.0   \n",
       "110554                      0.0                     0.0   \n",
       "110943                      0.0                     0.0   \n",
       "111116                      0.0                     0.0   \n",
       "112154                      0.0                     0.0   \n",
       "113212                      0.0                     0.0   \n",
       "114326                      0.0                     0.0   \n",
       "114930                      0.0                     0.0   \n",
       "115445                      0.0                     0.0   \n",
       "116907                      0.0                     0.0   \n",
       "118167                      0.0                     0.0   \n",
       "119083                      0.0                     0.0   \n",
       "119770                      0.0                     0.0   \n",
       "120905                      0.0                     0.0   \n",
       "124983                      0.0                     0.0   \n",
       "125594                      0.0                     0.0   \n",
       "126315                      0.0                     0.0   \n",
       "126821                      0.0                     0.0   \n",
       "128431                      0.0                     0.0   \n",
       "130802                      0.0                     0.0   \n",
       "131486                      0.0                     0.0   \n",
       "134240                      0.0                     0.0   \n",
       "135249                      0.0                     0.0   \n",
       "136603                      0.0                     0.0   \n",
       "139422                      0.0                     0.0   \n",
       "140398                      0.0                     0.0   \n",
       "142350                      0.0                     0.0   \n",
       "142407                      0.0                     0.0   \n",
       "144095                      0.0                     0.0   \n",
       "148198                      0.0                     0.0   \n",
       "\n",
       "        saldo_medio_var44_ult3      var38  \n",
       "ID                                         \n",
       "917                        0.0  11.672584  \n",
       "1065                       0.0  11.672584  \n",
       "1878                       0.0  11.672584  \n",
       "5359                       0.0  11.672584  \n",
       "7414                       0.0  11.672584  \n",
       "7639                       0.0  11.672584  \n",
       "9918                       0.0  11.672584  \n",
       "11034                      0.0  11.672584  \n",
       "13331                      0.0  11.672584  \n",
       "15871                      0.0  11.672584  \n",
       "15915                      0.0  11.672584  \n",
       "16439                      0.0  11.672584  \n",
       "16683                      0.0  11.672584  \n",
       "17303                      0.0  11.672584  \n",
       "18115                      0.0  11.672584  \n",
       "18401                      0.0  11.672584  \n",
       "18935                      0.0  11.672584  \n",
       "19693                      0.0  11.672584  \n",
       "20957                      0.0  11.672584  \n",
       "22521                      0.0  11.672584  \n",
       "22994                      0.0  11.672584  \n",
       "23070                      0.0  12.002443  \n",
       "25227                      0.0  11.672584  \n",
       "25760                      0.0  11.672584  \n",
       "25814                      0.0  11.672584  \n",
       "25997                      0.0  11.672584  \n",
       "27101                      0.0  11.672584  \n",
       "27988                      0.0  11.672584  \n",
       "28311                      0.0  11.672584  \n",
       "30046                      0.0  11.672584  \n",
       "...                        ...        ...  \n",
       "109762                     0.0  11.672584  \n",
       "110554                     0.0  11.672584  \n",
       "110943                     0.0  11.672584  \n",
       "111116                     0.0  11.672584  \n",
       "112154                     0.0  11.672584  \n",
       "113212                     0.0  11.672584  \n",
       "114326                     0.0  11.672584  \n",
       "114930                     0.0  11.672584  \n",
       "115445                     0.0  11.672584  \n",
       "116907                     0.0  11.672584  \n",
       "118167                     0.0  11.672584  \n",
       "119083                     0.0  11.672584  \n",
       "119770                     0.0  11.672584  \n",
       "120905                     0.0  11.672584  \n",
       "124983                     0.0  11.672584  \n",
       "125594                     0.0  11.672584  \n",
       "126315                     0.0  11.672584  \n",
       "126821                     0.0  11.672584  \n",
       "128431                     0.0  11.672584  \n",
       "130802                     0.0  11.672584  \n",
       "131486                     0.0  11.672584  \n",
       "134240                     0.0  11.672584  \n",
       "135249                     0.0  11.672584  \n",
       "136603                     0.0  11.672584  \n",
       "139422                     0.0  11.672584  \n",
       "140398                     0.0  11.672584  \n",
       "142350                     0.0  11.672584  \n",
       "142407                     0.0  11.672584  \n",
       "144095                     0.0  11.672584  \n",
       "148198                     0.0  11.672584  \n",
       "\n",
       "[120 rows x 306 columns]"
      ]
     },
     "execution_count": 17,
     "metadata": {},
     "output_type": "execute_result"
    }
   ],
   "source": [
    "test[test[\"var3\"]==-999999]"
   ]
  },
  {
   "cell_type": "code",
   "execution_count": 25,
   "metadata": {
    "collapsed": false
   },
   "outputs": [
    {
     "name": "stderr",
     "output_type": "stream",
     "text": [
      "/Public/anaconda/lib/python2.7/site-packages/sklearn/utils/validation.py:386: DeprecationWarning: Passing 1d arrays as data is deprecated in 0.17 and willraise ValueError in 0.19. Reshape your data either using X.reshape(-1, 1) if your data has a single feature or X.reshape(1, -1) if it contains a single sample.\n",
      "  DeprecationWarning)\n",
      "/Public/anaconda/lib/python2.7/site-packages/sklearn/utils/validation.py:386: DeprecationWarning: Passing 1d arrays as data is deprecated in 0.17 and willraise ValueError in 0.19. Reshape your data either using X.reshape(-1, 1) if your data has a single feature or X.reshape(1, -1) if it contains a single sample.\n",
      "  DeprecationWarning)\n"
     ]
    },
    {
     "data": {
      "text/plain": [
       "<function transpose>"
      ]
     },
     "execution_count": 25,
     "metadata": {},
     "output_type": "execute_result"
    }
   ],
   "source": [
    " imp.fit_transform(test[\"var3\"]).transpose"
   ]
  },
  {
   "cell_type": "code",
   "execution_count": 75,
   "metadata": {
    "collapsed": false
   },
   "outputs": [
    {
     "data": {
      "text/plain": [
       "ID\n",
       "2          2\n",
       "5          2\n",
       "6          2\n",
       "7          2\n",
       "9          2\n",
       "11         2\n",
       "12         2\n",
       "15         2\n",
       "16         2\n",
       "17         2\n",
       "19         2\n",
       "21         2\n",
       "22         2\n",
       "24         2\n",
       "27         2\n",
       "28         2\n",
       "30         2\n",
       "33         2\n",
       "35         2\n",
       "37         2\n",
       "38         2\n",
       "40         2\n",
       "41         2\n",
       "44         2\n",
       "46         2\n",
       "47         2\n",
       "48         2\n",
       "50         2\n",
       "52         1\n",
       "53         2\n",
       "          ..\n",
       "151772    75\n",
       "151773     2\n",
       "151776     2\n",
       "151777     2\n",
       "151780     2\n",
       "151781     2\n",
       "151782     2\n",
       "151784     2\n",
       "151785     2\n",
       "151786     2\n",
       "151788     2\n",
       "151789     2\n",
       "151790     2\n",
       "151791     2\n",
       "151803     2\n",
       "151812     2\n",
       "151814     2\n",
       "151817     2\n",
       "151819     2\n",
       "151822     2\n",
       "151823     2\n",
       "151824     2\n",
       "151826     2\n",
       "151827     2\n",
       "151828     2\n",
       "151831     2\n",
       "151832     2\n",
       "151833     2\n",
       "151834     2\n",
       "151837     2\n",
       "Name: var3, dtype: int64"
      ]
     },
     "execution_count": 75,
     "metadata": {},
     "output_type": "execute_result"
    }
   ],
   "source": [
    "test[\"var3\"]"
   ]
  },
  {
   "cell_type": "code",
   "execution_count": 26,
   "metadata": {
    "collapsed": false
   },
   "outputs": [
    {
     "name": "stderr",
     "output_type": "stream",
     "text": [
      "/Public/anaconda/lib/python2.7/site-packages/sklearn/utils/validation.py:386: DeprecationWarning: Passing 1d arrays as data is deprecated in 0.17 and willraise ValueError in 0.19. Reshape your data either using X.reshape(-1, 1) if your data has a single feature or X.reshape(1, -1) if it contains a single sample.\n",
      "  DeprecationWarning)\n",
      "/Public/anaconda/lib/python2.7/site-packages/sklearn/utils/validation.py:386: DeprecationWarning: Passing 1d arrays as data is deprecated in 0.17 and willraise ValueError in 0.19. Reshape your data either using X.reshape(-1, 1) if your data has a single feature or X.reshape(1, -1) if it contains a single sample.\n",
      "  DeprecationWarning)\n"
     ]
    }
   ],
   "source": [
    "test[\"var3\"] =imp.fit_transform(test[\"var3\"]).transpose\n",
    "# this is wrong"
   ]
  },
  {
   "cell_type": "code",
   "execution_count": 76,
   "metadata": {
    "collapsed": false
   },
   "outputs": [
    {
     "name": "stdout",
     "output_type": "stream",
     "text": [
      "Empty DataFrame\n",
      "Columns: [var3, var15, imp_ent_var16_ult1, imp_op_var39_comer_ult1, imp_op_var39_comer_ult3, imp_op_var40_comer_ult1, imp_op_var40_comer_ult3, imp_op_var40_efect_ult1, imp_op_var40_efect_ult3, imp_op_var40_ult1, imp_op_var41_comer_ult1, imp_op_var41_comer_ult3, imp_op_var41_efect_ult1, imp_op_var41_efect_ult3, imp_op_var41_ult1, imp_op_var39_efect_ult1, imp_op_var39_efect_ult3, imp_op_var39_ult1, imp_sal_var16_ult1, ind_var1_0, ind_var1, ind_var5_0, ind_var5, ind_var6_0, ind_var6, ind_var8_0, ind_var8, ind_var12_0, ind_var12, ind_var13_0, ind_var13_corto_0, ind_var13_corto, ind_var13_largo_0, ind_var13_largo, ind_var13_medio_0, ind_var13, ind_var14_0, ind_var14, ind_var17_0, ind_var17, ind_var18_0, ind_var19, ind_var20_0, ind_var20, ind_var24_0, ind_var24, ind_var25_cte, ind_var26_0, ind_var26_cte, ind_var25_0, ind_var30_0, ind_var30, ind_var31_0, ind_var31, ind_var32_cte, ind_var32_0, ind_var33_0, ind_var33, ind_var34_0, ind_var37_cte, ind_var37_0, ind_var39_0, ind_var40_0, ind_var40, ind_var41_0, ind_var44_0, ind_var44, num_var1_0, num_var1, num_var4, num_var5_0, num_var5, num_var6_0, num_var6, num_var8_0, num_var8, num_var12_0, num_var12, num_var13_0, num_var13_corto_0, num_var13_corto, num_var13_largo_0, num_var13_largo, num_var13_medio_0, num_var13, num_var14_0, num_var14, num_var17_0, num_var17, num_var18_0, num_var20_0, num_var20, num_var24_0, num_var24, num_var26_0, num_var25_0, num_op_var40_hace2, num_op_var40_hace3, num_op_var40_ult1, num_op_var40_ult3, ...]\n",
      "Index: []\n",
      "\n",
      "[0 rows x 306 columns]\n",
      "Empty DataFrame\n",
      "Columns: [var3, var15, imp_ent_var16_ult1, imp_op_var39_comer_ult1, imp_op_var39_comer_ult3, imp_op_var40_comer_ult1, imp_op_var40_comer_ult3, imp_op_var40_efect_ult1, imp_op_var40_efect_ult3, imp_op_var40_ult1, imp_op_var41_comer_ult1, imp_op_var41_comer_ult3, imp_op_var41_efect_ult1, imp_op_var41_efect_ult3, imp_op_var41_ult1, imp_op_var39_efect_ult1, imp_op_var39_efect_ult3, imp_op_var39_ult1, imp_sal_var16_ult1, ind_var1_0, ind_var1, ind_var5_0, ind_var5, ind_var6_0, ind_var6, ind_var8_0, ind_var8, ind_var12_0, ind_var12, ind_var13_0, ind_var13_corto_0, ind_var13_corto, ind_var13_largo_0, ind_var13_largo, ind_var13_medio_0, ind_var13, ind_var14_0, ind_var14, ind_var17_0, ind_var17, ind_var18_0, ind_var19, ind_var20_0, ind_var20, ind_var24_0, ind_var24, ind_var25_cte, ind_var26_0, ind_var26_cte, ind_var25_0, ind_var30_0, ind_var30, ind_var31_0, ind_var31, ind_var32_cte, ind_var32_0, ind_var33_0, ind_var33, ind_var34_0, ind_var37_cte, ind_var37_0, ind_var39_0, ind_var40_0, ind_var40, ind_var41_0, ind_var44_0, ind_var44, num_var1_0, num_var1, num_var4, num_var5_0, num_var5, num_var6_0, num_var6, num_var8_0, num_var8, num_var12_0, num_var12, num_var13_0, num_var13_corto_0, num_var13_corto, num_var13_largo_0, num_var13_largo, num_var13_medio_0, num_var13, num_var14_0, num_var14, num_var17_0, num_var17, num_var18_0, num_var20_0, num_var20, num_var24_0, num_var24, num_var26_0, num_var25_0, num_op_var40_hace2, num_op_var40_hace3, num_op_var40_ult1, num_op_var40_ult3, ...]\n",
      "Index: []\n",
      "\n",
      "[0 rows x 307 columns]\n"
     ]
    }
   ],
   "source": [
    "print test[test[\"var3\"] == -999999]\n",
    "print train[train[\"var3\"] == -999999]"
   ]
  },
  {
   "cell_type": "code",
   "execution_count": null,
   "metadata": {
    "collapsed": false
   },
   "outputs": [],
   "source": [
    "imp.fit_transform(train[\"var3\"])"
   ]
  },
  {
   "cell_type": "markdown",
   "metadata": {},
   "source": [
    "frequency count"
   ]
  },
  {
   "cell_type": "code",
   "execution_count": null,
   "metadata": {
    "collapsed": false
   },
   "outputs": [],
   "source": [
    "country_bin = np.arange(100)\n",
    "train_var3_hist_x,train_var3_hist_y = np.histogram(train[\"var3\"],country_bin)\n",
    "print train_var3_hist_x\n",
    "print train_var3_hist_y\n",
    "# plt.pyplot.plot(train_var3_hist_x,train_var3_hist_y)\n",
    "\n",
    "# country hist plot\n",
    "plt.hist(np.array(train[\"var3\"]),bins=100,range=(0,100))\n",
    "plt.show()\n",
    "\n",
    "# age hist plot\n",
    "plt.hist(np.array(train[\"var15\"]),bins=120,range=(0,120))\n",
    "plt.show()"
   ]
  },
  {
   "cell_type": "markdown",
   "metadata": {},
   "source": [
    "## Feature Engineering"
   ]
  },
  {
   "cell_type": "markdown",
   "metadata": {
    "collapsed": true
   },
   "source": [
    "handle sparle feature (potentially important and correlated to each other)"
   ]
  },
  {
   "cell_type": "code",
   "execution_count": 77,
   "metadata": {
    "collapsed": true
   },
   "outputs": [],
   "source": [
    "from sklearn import preprocessing\n",
    "from sklearn import feature_selection"
   ]
  },
  {
   "cell_type": "markdown",
   "metadata": {},
   "source": [
    "split data"
   ]
  },
  {
   "cell_type": "code",
   "execution_count": 78,
   "metadata": {
    "collapsed": false
   },
   "outputs": [
    {
     "name": "stdout",
     "output_type": "stream",
     "text": [
      "(76020, 307)\n",
      "(76020, 306)\n",
      "(53214, 306)\n",
      "(53214,)\n",
      "(22806, 306)\n",
      "(22806,)\n"
     ]
    }
   ],
   "source": [
    "from sklearn import cross_validation\n",
    "from sklearn.metrics import roc_auc_score\n",
    "x = train.iloc[:,:-1]\n",
    "y = train.TARGET\n",
    "x_train,x_test,y_train,y_test = cross_validation.train_test_split(x,y,test_size=0.3)\n",
    "print train.shape\n",
    "print x.shape\n",
    "# print y\n",
    "print x_train.shape\n",
    "print y_train.shape\n",
    "print x_test.shape\n",
    "print y_test.shape"
   ]
  },
  {
   "cell_type": "markdown",
   "metadata": {},
   "source": [
    "####  AUC"
   ]
  },
  {
   "cell_type": "code",
   "execution_count": null,
   "metadata": {
    "collapsed": false
   },
   "outputs": [],
   "source": [
    "from sklearn.metrics import roc_curve, auc\n",
    "import  matplotlib.pyplot as plot\n",
    "\n",
    "def plotAUC(x_test,y_test,y_score):\n",
    "    fpr=dict()\n",
    "    tpr=dict()\n",
    "    roc_auc = dict()\n",
    "#     y_score=model.predict_proba(x_test)\n",
    "    fpr[0],tpr[0],_= roc_curve(y_test,y_score[:,1])\n",
    "    roc_auc[0]= auc(fpr[0],tpr[0])\n",
    "\n",
    "\n",
    "    # Compute micro-average ROC curve and ROC area\n",
    "    fpr[\"micro\"], tpr[\"micro\"], _ = roc_curve(y_test.ravel(), y_score[:,0].ravel())\n",
    "    roc_auc[\"micro\"] = auc(fpr[\"micro\"], tpr[\"micro\"])\n",
    "\n",
    "\n",
    "    ##############################################################################\n",
    "    # Plot of a ROC curve for a specific class\n",
    "    plot.figure()\n",
    "    plot.plot(fpr[0], tpr[0], label='ROC curve (area = %0.2f)' % roc_auc[0])\n",
    "    plot.plot([0, 1], [0, 1], 'k--')\n",
    "    plot.xlim([0.0, 1.0])\n",
    "    plot.ylim([0.0, 1.05])\n",
    "    plot.xlabel('False Positive Rate')\n",
    "    plot.ylabel('True Positive Rate')\n",
    "    plot.title('Receiver operating characteristic')\n",
    "    plot.legend(loc=\"lower right\")\n",
    "    plot.show()"
   ]
  },
  {
   "cell_type": "markdown",
   "metadata": {},
   "source": [
    "### PCA\n"
   ]
  },
  {
   "cell_type": "markdown",
   "metadata": {
    "collapsed": true
   },
   "source": [
    "## xgboost "
   ]
  },
  {
   "cell_type": "code",
   "execution_count": 80,
   "metadata": {
    "collapsed": false
   },
   "outputs": [],
   "source": [
    "import xgboost as xg"
   ]
  },
  {
   "cell_type": "code",
   "execution_count": 81,
   "metadata": {
    "collapsed": false
   },
   "outputs": [],
   "source": [
    "xgb_model = xg.XGBClassifier(max_depth= 5,gamma=0,subsample= 0.6815,colsample_bytree= 0.701, nthread=4,  learning_rate=0.02)"
   ]
  },
  {
   "cell_type": "code",
   "execution_count": 82,
   "metadata": {
    "collapsed": false
   },
   "outputs": [
    {
     "data": {
      "text/plain": [
       "XGBClassifier(base_score=0.5, colsample_bylevel=1, colsample_bytree=0.701,\n",
       "       gamma=0, learning_rate=0.02, max_delta_step=0, max_depth=5,\n",
       "       min_child_weight=1, missing=None, n_estimators=100, nthread=4,\n",
       "       objective='binary:logistic', reg_alpha=0, reg_lambda=1,\n",
       "       scale_pos_weight=1, seed=0, silent=True, subsample=0.6815)"
      ]
     },
     "execution_count": 82,
     "metadata": {},
     "output_type": "execute_result"
    }
   ],
   "source": [
    "xgb_model.fit(x,y,eval_metric=\"auc\" )"
   ]
  },
  {
   "cell_type": "code",
   "execution_count": 83,
   "metadata": {
    "collapsed": false
   },
   "outputs": [
    {
     "data": {
      "text/plain": [
       "<matplotlib.axes._subplots.AxesSubplot at 0x119fdbbd0>"
      ]
     },
     "execution_count": 83,
     "metadata": {},
     "output_type": "execute_result"
    },
    {
     "data": {
      "image/png": "[encoded data removed]",
      "text/plain": [
       "<matplotlib.figure.Figure at 0x11fdcabd0>"
      ]
     },
     "metadata": {},
     "output_type": "display_data"
    }
   ],
   "source": [
    "ts=pd.Series(xgb_model.booster().get_fscore())\n",
    "# print ts\n",
    "ts.sort_values()[-15:].plot(kind=\"barh\", title=(\"features importance for xgboost\"),figsize=(12, 20))"
   ]
  },
  {
   "cell_type": "code",
   "execution_count": 84,
   "metadata": {
    "collapsed": false
   },
   "outputs": [],
   "source": [
    "y_predict = xgb_model.predict_proba(test)"
   ]
  },
  {
   "cell_type": "code",
   "execution_count": 85,
   "metadata": {
    "collapsed": false
   },
   "outputs": [
    {
     "name": "stdout",
     "output_type": "stream",
     "text": [
      "[[ 0.90243793  0.09756205]\n",
      " [ 0.8967253   0.1032747 ]\n",
      " [ 0.92666465  0.07333533]\n",
      " ..., \n",
      " [ 0.92700058  0.0729994 ]\n",
      " [ 0.88735747  0.1126425 ]\n",
      " [ 0.92744762  0.07255239]]\n"
     ]
    }
   ],
   "source": [
    "print y_predict"
   ]
  },
  {
   "cell_type": "code",
   "execution_count": 86,
   "metadata": {
    "collapsed": false,
    "scrolled": true
   },
   "outputs": [
    {
     "data": {
      "image/png": "[encoded data removed]",
      "text/plain": [
       "<matplotlib.figure.Figure at 0x11fdca490>"
      ]
     },
     "metadata": {},
     "output_type": "display_data"
    }
   ],
   "source": [
    "# plotAUC(x_test,y_test,xgb_model.predict_proba(test))\n",
    "plotAUC(x_test,y_test,xgb_model.predict_proba(x_test))"
   ]
  },
  {
   "cell_type": "code",
   "execution_count": 128,
   "metadata": {
    "collapsed": false
   },
   "outputs": [
    {
     "name": "stderr",
     "output_type": "stream",
     "text": [
      "/Public/anaconda/lib/python2.7/site-packages/ipykernel/__main__.py:4: FutureWarning: in the future, boolean array-likes will be handled as a boolean array index\n",
      "/Public/anaconda/lib/python2.7/site-packages/ipykernel/__main__.py:5: FutureWarning: in the future, boolean array-likes will be handled as a boolean array index\n",
      "/Public/anaconda/lib/python2.7/site-packages/ipykernel/__main__.py:6: FutureWarning: in the future, boolean array-likes will be handled as a boolean array index\n",
      "/Public/anaconda/lib/python2.7/site-packages/ipykernel/__main__.py:7: FutureWarning: in the future, boolean array-likes will be handled as a boolean array index\n",
      "/Public/anaconda/lib/python2.7/site-packages/ipykernel/__main__.py:8: FutureWarning: in the future, boolean array-likes will be handled as a boolean array index\n",
      "/Public/anaconda/lib/python2.7/site-packages/ipykernel/__main__.py:9: FutureWarning: in the future, boolean array-likes will be handled as a boolean array index\n",
      "/Public/anaconda/lib/python2.7/site-packages/ipykernel/__main__.py:10: FutureWarning: in the future, boolean array-likes will be handled as a boolean array index\n",
      "/Public/anaconda/lib/python2.7/site-packages/ipykernel/__main__.py:11: FutureWarning: in the future, boolean array-likes will be handled as a boolean array index\n",
      "/Public/anaconda/lib/python2.7/site-packages/ipykernel/__main__.py:12: FutureWarning: in the future, boolean array-likes will be handled as a boolean array index\n",
      "/Public/anaconda/lib/python2.7/site-packages/ipykernel/__main__.py:13: FutureWarning: in the future, boolean array-likes will be handled as a boolean array index\n",
      "/Public/anaconda/lib/python2.7/site-packages/ipykernel/__main__.py:14: FutureWarning: in the future, boolean array-likes will be handled as a boolean array index\n",
      "/Public/anaconda/lib/python2.7/site-packages/ipykernel/__main__.py:15: FutureWarning: in the future, boolean array-likes will be handled as a boolean array index\n",
      "/Public/anaconda/lib/python2.7/site-packages/ipykernel/__main__.py:16: FutureWarning: in the future, boolean array-likes will be handled as a boolean array index\n",
      "/Public/anaconda/lib/python2.7/site-packages/ipykernel/__main__.py:17: FutureWarning: in the future, boolean array-likes will be handled as a boolean array index\n"
     ]
    }
   ],
   "source": [
    "tc=test\n",
    "nv = tc['num_var33']+tc['saldo_medio_var33_ult3']+tc['saldo_medio_var44_hace2']+tc['saldo_medio_var44_hace3']+ tc['saldo_medio_var33_ult1']+tc['saldo_medio_var44_ult1']\n",
    "\n",
    "y_predict[nv > 0] = np.array([0, 1])\n",
    "y_predict[tc['var15'] < 23] =   np.array([0, 1])\n",
    "y_predict[tc['saldo_medio_var5_hace2'] > 160000] =   np.array([0, 1])\n",
    "y_predict[tc['saldo_var33'] > 0] =  np.array([0, 1])\n",
    "y_predict[tc['var38'] > 3988596] = np.array([0, 1])\n",
    "y_predict[tc['var21'] > 7500] =   np.array([0, 1])\n",
    "y_predict[tc['num_var30'] > 9] =  np.array([0, 1])\n",
    "y_predict[tc['num_var13_0'] > 6] =   np.array([0, 1])\n",
    "y_predict[tc['num_var33_0'] > 0] =   np.array([0, 1])\n",
    "y_predict[tc['imp_ent_var16_ult1'] > 51003] =   np.array([0, 1])\n",
    "y_predict[tc['imp_op_var39_comer_ult3'] > 13184] =  np.array([0, 1])\n",
    "y_predict[tc['saldo_medio_var5_ult3'] > 108251] =   np.array([0, 1])\n",
    "y_predict[(tc['var15']+tc['num_var45_hace3']+tc['num_var45_ult3']+tc['var36']) <= 24] =   np.array([0, 1])\n",
    "y_predict[tc['saldo_var5'] > 137615] =   np.array([0, 1])\n",
    "\n",
    "\n"
   ]
  },
  {
   "cell_type": "code",
   "execution_count": 129,
   "metadata": {
    "collapsed": false
   },
   "outputs": [
    {
     "name": "stdout",
     "output_type": "stream",
     "text": [
      "[[ 0.          1.        ]\n",
      " [ 0.          1.        ]\n",
      " [ 0.92666489  0.07333513]\n",
      " ..., \n",
      " [ 0.92700076  0.07299925]\n",
      " [ 0.88735849  0.11264154]\n",
      " [ 0.9274478   0.07255223]]\n"
     ]
    }
   ],
   "source": [
    "print y_predict "
   ]
  },
  {
   "cell_type": "code",
   "execution_count": 130,
   "metadata": {
    "collapsed": false
   },
   "outputs": [],
   "source": [
    "submission = pd.DataFrame({\"ID\":test.index,\"TARGET\":y_predict[:,1]})\n",
    "submission.to_csv(\"submission.csv\",index=False)"
   ]
  },
  {
   "cell_type": "code",
   "execution_count": 131,
   "metadata": {
    "collapsed": false
   },
   "outputs": [
    {
     "name": "stderr",
     "output_type": "stream",
     "text": [
      "/Public/anaconda/lib/python2.7/site-packages/ipykernel/__main__.py:1: FutureWarning: in the future, boolean array-likes will be handled as a boolean array index\n",
      "  if __name__ == '__main__':\n"
     ]
    },
    {
     "data": {
      "text/plain": [
       "array([[ 0.,  1.],\n",
       "       [ 0.,  1.],\n",
       "       [ 0.,  1.],\n",
       "       ..., \n",
       "       [ 0.,  1.],\n",
       "       [ 0.,  1.],\n",
       "       [ 0.,  1.]], dtype=float32)"
      ]
     },
     "execution_count": 131,
     "metadata": {},
     "output_type": "execute_result"
    }
   ],
   "source": [
    "y_predict[nv > 0]"
   ]
  },
  {
   "cell_type": "code",
   "execution_count": 132,
   "metadata": {
    "collapsed": false
   },
   "outputs": [
    {
     "data": {
      "text/plain": [
       "array([[ 0.        ,  1.        ],\n",
       "       [ 0.        ,  1.        ],\n",
       "       [ 0.92666489,  0.07333513],\n",
       "       ..., \n",
       "       [ 0.92700076,  0.07299925],\n",
       "       [ 0.88735849,  0.11264154],\n",
       "       [ 0.9274478 ,  0.07255223]], dtype=float32)"
      ]
     },
     "execution_count": 132,
     "metadata": {},
     "output_type": "execute_result"
    }
   ],
   "source": [
    "y_predict"
   ]
  },
  {
   "cell_type": "code",
   "execution_count": null,
   "metadata": {
    "collapsed": true
   },
   "outputs": [],
   "source": []
  },
  {
   "cell_type": "markdown",
   "metadata": {},
   "source": [
    "Step 1: Fix learning rate and number of estimators for tuning tree-based parameters"
   ]
  },
  {
   "cell_type": "markdown",
   "metadata": {},
   "source": [
    "xgboost use cv to get parameters"
   ]
  },
  {
   "cell_type": "code",
   "execution_count": 87,
   "metadata": {
    "collapsed": false
   },
   "outputs": [],
   "source": [
    "import pandas as pd \n",
    "import numpy as np \n",
    "import xgboost as xgb \n",
    "import matplotlib.pylab as plt \n",
    "%matplotlib inline\n",
    "from xgboost.sklearn import XGBClassifier\n",
    "\n",
    "from sklearn import cross_validation, metrics #Additional scklearn functions \n",
    "from sklearn.grid_search import GridSearchCV #Perforing grid search\n",
    "from matplotlib.pylab import rcParams \n",
    "rcParams['figure.figsize'] = 12, 4 \n",
    "\n",
    "target = 'TARGET' \n",
    "IDcol = 'ID'\n",
    "\n",
    "def modelfit (alg, dtrain, predictors, useTrainCV = True, cv_folds = 5, early_stopping_rounds = 50): \n",
    "\tif useTrainCV: \n",
    "\t\txgb_param = alg.get_xgb_params ()\n",
    "\t\txgtrain = xgb.DMatrix (dtrain [predictors].values, label = dtrain [target].values)\n",
    "\t\tcvresult = xgb.cv (xgb_param, xgtrain, num_boost_round = alg.get_params () ['n_estimators'], nfold = cv_folds, metrics = [\"auc\"], early_stopping_rounds = early_stopping_rounds, show_progress = True)\n",
    "\t\talg.set_params (n_estimators = cvresult.shape [0])\n",
    "\t# Fit the algorithm on the data\n",
    "\talg.fit (dtrain [predictors], dtrain [target], eval_metric = 'auc')\n",
    "\t# #Predict training set:\n",
    "\t\n",
    "\tdtrain_predictions = alg.predict (dtrain [predictors])\n",
    "\tdtrain_predprob = alg.predict_proba (dtrain [predictors]) [:, 1]\n",
    "\t# Print model report:\n",
    "\tprint \"\\nModel Report\"\n",
    "\tprint \"Accuracy : %.4g\" % metrics.accuracy_score (dtrain [target].values, dtrain_predictions)\n",
    "\tprint \"AUC Score (Train): %f\" % metrics.roc_auc_score (dtrain [target], dtrain_predprob)\n",
    "\tfeat_imp = pd.Series (alg.booster ().get_fscore ()).sort_values (ascending = False)\n",
    "\tfeat_imp.plot (kind = 'bar', title = 'Feature Importances')\n",
    "\tplt.ylabel ('Feature Importance Score')"
   ]
  },
  {
   "cell_type": "code",
   "execution_count": 88,
   "metadata": {
    "collapsed": true
   },
   "outputs": [],
   "source": [
    "predictors=train.iloc[:,:-1].columns"
   ]
  },
  {
   "cell_type": "code",
   "execution_count": 89,
   "metadata": {
    "collapsed": false
   },
   "outputs": [
    {
     "name": "stderr",
     "output_type": "stream",
     "text": [
      "Will train until cv error hasn't decreased in 50 rounds.\n",
      "[0]\tcv-test-auc:0.7653892+0.0435841418977\tcv-train-auc:0.7733554+0.0403142346801\n",
      "[1]\tcv-test-auc:0.7966078+0.0114347638262\tcv-train-auc:0.8079226+0.00556790163706\n",
      "[2]\tcv-test-auc:0.800172+0.00537420903948\tcv-train-auc:0.8131612+0.00749044258772\n",
      "[3]\tcv-test-auc:0.8070936+0.00697502179495\tcv-train-auc:0.8203136+0.0108916860329\n",
      "[4]\tcv-test-auc:0.8145856+0.00536062006115\tcv-train-auc:0.8286488+0.00674008710329\n",
      "[5]\tcv-test-auc:0.8166462+0.00853106369452\tcv-train-auc:0.832753+0.00359736803789\n",
      "[6]\tcv-test-auc:0.8202308+0.00797195680871\tcv-train-auc:0.8363722+0.00221091197473\n",
      "[7]\tcv-test-auc:0.8217732+0.00739220679906\tcv-train-auc:0.838475+0.00249365418613\n",
      "[8]\tcv-test-auc:0.8228646+0.00720143798418\tcv-train-auc:0.839361+0.00255761646851\n",
      "[9]\tcv-test-auc:0.8229734+0.00820047153766\tcv-train-auc:0.839329+0.00304975717066\n",
      "[10]\tcv-test-auc:0.8239406+0.00659436233763\tcv-train-auc:0.8413124+0.00214314559468\n",
      "[11]\tcv-test-auc:0.823829+0.00541492707245\tcv-train-auc:0.8413958+0.00347010745655\n",
      "[12]\tcv-test-auc:0.8228388+0.00618799254686\tcv-train-auc:0.840901+0.00340161961424\n",
      "[13]\tcv-test-auc:0.8248868+0.00641983300094\tcv-train-auc:0.8431232+0.00452964344734\n",
      "[14]\tcv-test-auc:0.82606+0.00529606597391\tcv-train-auc:0.8448166+0.00382241042276\n",
      "[15]\tcv-test-auc:0.8276578+0.00551885080066\tcv-train-auc:0.8464906+0.00341544981518\n",
      "[16]\tcv-test-auc:0.8291514+0.00645324593054\tcv-train-auc:0.848167+0.00252944689606\n",
      "[17]\tcv-test-auc:0.8298078+0.00665039924817\tcv-train-auc:0.8497528+0.00203572153302\n",
      "[18]\tcv-test-auc:0.8307854+0.00715290722993\tcv-train-auc:0.8509048+0.00118754846638\n",
      "[19]\tcv-test-auc:0.8313232+0.00696458987737\tcv-train-auc:0.851953+0.00091407155081\n",
      "[20]\tcv-test-auc:0.8318868+0.00677786383457\tcv-train-auc:0.852678+0.000791623395309\n",
      "[21]\tcv-test-auc:0.8314346+0.00670172767576\tcv-train-auc:0.852791+0.00128823677948\n",
      "[22]\tcv-test-auc:0.8319458+0.00679445374993\tcv-train-auc:0.853404+0.00096200540539\n",
      "[23]\tcv-test-auc:0.8320726+0.00689251273775\tcv-train-auc:0.8539558+0.00135304373913\n",
      "[24]\tcv-test-auc:0.8324314+0.0065308652903\tcv-train-auc:0.854395+0.00153559591039\n",
      "[25]\tcv-test-auc:0.8332916+0.00640998685178\tcv-train-auc:0.8554138+0.00138078085155\n",
      "[26]\tcv-test-auc:0.8336814+0.00660166350551\tcv-train-auc:0.8562118+0.0014523044309\n",
      "[27]\tcv-test-auc:0.8343708+0.0063350993173\tcv-train-auc:0.8569606+0.0014047548683\n",
      "[28]\tcv-test-auc:0.83475+0.00623154584353\tcv-train-auc:0.8573716+0.00167672879143\n",
      "[29]\tcv-test-auc:0.8353874+0.00597454114054\tcv-train-auc:0.8585548+0.00143484583144\n",
      "[30]\tcv-test-auc:0.8352968+0.00571948649443\tcv-train-auc:0.8593128+0.0013851491472\n",
      "[31]\tcv-test-auc:0.8357826+0.00583356921961\tcv-train-auc:0.8598366+0.00142505531121\n",
      "[32]\tcv-test-auc:0.836234+0.00548513915958\tcv-train-auc:0.860565+0.00149952725884\n",
      "[33]\tcv-test-auc:0.8364516+0.00562420051563\tcv-train-auc:0.8613084+0.00166209573731\n",
      "[34]\tcv-test-auc:0.836594+0.00569138974241\tcv-train-auc:0.862016+0.00154067907106\n",
      "[35]\tcv-test-auc:0.8369854+0.00560927976125\tcv-train-auc:0.8629158+0.00129199835913\n",
      "[36]\tcv-test-auc:0.8369298+0.0054195209161\tcv-train-auc:0.863542+0.00102104240852\n",
      "[37]\tcv-test-auc:0.8371374+0.00541944929306\tcv-train-auc:0.8643076+0.000951661830694\n",
      "[38]\tcv-test-auc:0.8371942+0.00544240444657\tcv-train-auc:0.864884+0.000919555979808\n",
      "[39]\tcv-test-auc:0.8376348+0.00543682103439\tcv-train-auc:0.8656246+0.000948136825569\n",
      "[40]\tcv-test-auc:0.8379498+0.00534507146444\tcv-train-auc:0.8662322+0.000938452215086\n",
      "[41]\tcv-test-auc:0.8380132+0.0053731323974\tcv-train-auc:0.8668868+0.000823316804153\n",
      "[42]\tcv-test-auc:0.8383618+0.00538968764958\tcv-train-auc:0.8673838+0.00089803238249\n",
      "[43]\tcv-test-auc:0.8384748+0.00525911092866\tcv-train-auc:0.8679732+0.0009088540917\n",
      "[44]\tcv-test-auc:0.8385926+0.00497202347541\tcv-train-auc:0.868475+0.000979766706926\n",
      "[45]\tcv-test-auc:0.838631+0.00496699538957\tcv-train-auc:0.8690858+0.000944974581669\n",
      "[46]\tcv-test-auc:0.8387476+0.00497179438835\tcv-train-auc:0.8696572+0.000847201841358\n",
      "[47]\tcv-test-auc:0.8387526+0.00508825044981\tcv-train-auc:0.8703528+0.000762590951953\n",
      "[48]\tcv-test-auc:0.8386912+0.00526446773758\tcv-train-auc:0.8709432+0.00076058277656\n",
      "[49]\tcv-test-auc:0.8388324+0.00525525183412\tcv-train-auc:0.871475+0.000820052437348\n",
      "[50]\tcv-test-auc:0.8387938+0.00534937609072\tcv-train-auc:0.8719582+0.000871218778494\n",
      "[51]\tcv-test-auc:0.83879+0.00537063344495\tcv-train-auc:0.8723878+0.000807061435084\n",
      "[52]\tcv-test-auc:0.8389596+0.00535448898029\tcv-train-auc:0.8728518+0.00078677935916\n",
      "[53]\tcv-test-auc:0.8388434+0.0052655030377\tcv-train-auc:0.8733486+0.000750790676554\n",
      "[54]\tcv-test-auc:0.8388602+0.00506780494494\tcv-train-auc:0.8738706+0.0007948072974\n",
      "[55]\tcv-test-auc:0.8387878+0.00519560234814\tcv-train-auc:0.874395+0.000816659537384\n",
      "[56]\tcv-test-auc:0.8388644+0.00524878441546\tcv-train-auc:0.8748444+0.000746917291271\n",
      "[57]\tcv-test-auc:0.8389066+0.00510011351246\tcv-train-auc:0.875265+0.000674330482775\n",
      "[58]\tcv-test-auc:0.8388392+0.00500612054989\tcv-train-auc:0.8756796+0.000750532237815\n",
      "[59]\tcv-test-auc:0.8387414+0.00501263916914\tcv-train-auc:0.8761114+0.000752148549158\n",
      "[60]\tcv-test-auc:0.838632+0.00494885194767\tcv-train-auc:0.8764798+0.000797860489058\n",
      "[61]\tcv-test-auc:0.838515+0.00493830926533\tcv-train-auc:0.8769104+0.000800779769974\n",
      "[62]\tcv-test-auc:0.8385144+0.00491336257974\tcv-train-auc:0.8773782+0.00084958140281\n",
      "[63]\tcv-test-auc:0.8385336+0.00488206630844\tcv-train-auc:0.8778374+0.000804362256698\n",
      "[64]\tcv-test-auc:0.8386326+0.0046658239401\tcv-train-auc:0.878452+0.000874201578585\n",
      "[65]\tcv-test-auc:0.838705+0.00452201313576\tcv-train-auc:0.878974+0.000891742563748\n",
      "[66]\tcv-test-auc:0.8387442+0.00450067574482\tcv-train-auc:0.8794164+0.000929340540383\n",
      "[67]\tcv-test-auc:0.8388478+0.00449969476298\tcv-train-auc:0.8797794+0.000962385494488\n",
      "[68]\tcv-test-auc:0.8388916+0.00442860694124\tcv-train-auc:0.8802364+0.000940333898145\n",
      "[69]\tcv-test-auc:0.8389654+0.00444550085367\tcv-train-auc:0.8807888+0.000860094273903\n",
      "[70]\tcv-test-auc:0.8389624+0.0044837581826\tcv-train-auc:0.8811706+0.00076162815074\n",
      "[71]\tcv-test-auc:0.8388732+0.00446446303154\tcv-train-auc:0.8816602+0.00092121993031\n",
      "[72]\tcv-test-auc:0.8389376+0.00445683540643\tcv-train-auc:0.8820232+0.000916331468411\n",
      "[73]\tcv-test-auc:0.839027+0.00443020992731\tcv-train-auc:0.8824878+0.000917869141\n",
      "[74]\tcv-test-auc:0.8390526+0.00440379661656\tcv-train-auc:0.8829072+0.000838795183582\n",
      "[75]\tcv-test-auc:0.8390222+0.0043722058689\tcv-train-auc:0.8833404+0.000836371352929\n",
      "[76]\tcv-test-auc:0.8390776+0.00438171028709\tcv-train-auc:0.8837176+0.000924748527979\n",
      "[77]\tcv-test-auc:0.8390752+0.00452696089667\tcv-train-auc:0.884035+0.00103311645036\n",
      "[78]\tcv-test-auc:0.8390844+0.00456043952268\tcv-train-auc:0.8843654+0.00110701754277\n",
      "[79]\tcv-test-auc:0.8390844+0.00459924570337\tcv-train-auc:0.8846912+0.00100528571063\n",
      "[80]\tcv-test-auc:0.8391296+0.00457623087704\tcv-train-auc:0.885085+0.000870641372782\n",
      "[81]\tcv-test-auc:0.8391076+0.00456724002435\tcv-train-auc:0.8853362+0.000793575554059\n",
      "[82]\tcv-test-auc:0.8390834+0.004531832327\tcv-train-auc:0.8855902+0.000863597915699\n",
      "[83]\tcv-test-auc:0.8390046+0.00457916318119\tcv-train-auc:0.8860564+0.000832738758555\n",
      "[84]\tcv-test-auc:0.8389406+0.00455213042871\tcv-train-auc:0.8863916+0.000880080132715\n",
      "[85]\tcv-test-auc:0.8388512+0.00463606934374\tcv-train-auc:0.886707+0.000856911197266\n",
      "[86]\tcv-test-auc:0.8386858+0.00465709954371\tcv-train-auc:0.887085+0.000978409934537\n",
      "[87]\tcv-test-auc:0.8386128+0.00467677484598\tcv-train-auc:0.88739+0.00112688118273\n",
      "[88]\tcv-test-auc:0.8385956+0.00479251794363\tcv-train-auc:0.8876256+0.00111654262794\n",
      "[89]\tcv-test-auc:0.8386058+0.00483645115348\tcv-train-auc:0.8878556+0.00104358317349\n",
      "[90]\tcv-test-auc:0.838605+0.00481767350492\tcv-train-auc:0.8882148+0.00117280610503\n",
      "[91]\tcv-test-auc:0.8385864+0.00475047351745\tcv-train-auc:0.888596+0.0010979437144\n",
      "[92]\tcv-test-auc:0.8386096+0.00481796287242\tcv-train-auc:0.8889006+0.00100351155449\n",
      "[93]\tcv-test-auc:0.8386724+0.00484285628942\tcv-train-auc:0.8891298+0.000987245744483\n",
      "[94]\tcv-test-auc:0.8385992+0.00478600269118\tcv-train-auc:0.8894618+0.000990194607135\n",
      "[95]\tcv-test-auc:0.8386322+0.00480874251338\tcv-train-auc:0.8897752+0.00101065531216\n",
      "[96]\tcv-test-auc:0.8386472+0.00482741012967\tcv-train-auc:0.8900386+0.000842932405356\n",
      "[97]\tcv-test-auc:0.8387658+0.0047560561561\tcv-train-auc:0.8903098+0.000890517018366\n",
      "[98]\tcv-test-auc:0.8388446+0.00475488845716\tcv-train-auc:0.8906608+0.000858570532921\n",
      "[99]\tcv-test-auc:0.8387344+0.00476030484738\tcv-train-auc:0.8910758+0.000944953628492\n",
      "[100]\tcv-test-auc:0.838785+0.00482460352775\tcv-train-auc:0.891345+0.000988910107138\n",
      "[101]\tcv-test-auc:0.8387586+0.00487174221814\tcv-train-auc:0.8915908+0.00106481799384\n",
      "[102]\tcv-test-auc:0.8387922+0.00483196777307\tcv-train-auc:0.8920452+0.000965762579519\n",
      "[103]\tcv-test-auc:0.8388102+0.00479808500967\tcv-train-auc:0.892427+0.00101877023906\n",
      "[104]\tcv-test-auc:0.8388068+0.00477816552246\tcv-train-auc:0.8926198+0.00100444360718\n",
      "[105]\tcv-test-auc:0.8388176+0.00477200119866\tcv-train-auc:0.8929088+0.000972620254776\n",
      "[106]\tcv-test-auc:0.8387644+0.00468147641669\tcv-train-auc:0.893176+0.0010449110967\n",
      "[107]\tcv-test-auc:0.838602+0.00466966962429\tcv-train-auc:0.893541+0.00100429418001\n",
      "[108]\tcv-test-auc:0.8386252+0.00458072912973\tcv-train-auc:0.8937566+0.0010067709968\n",
      "[109]\tcv-test-auc:0.8385714+0.00459709128036\tcv-train-auc:0.8940286+0.00103348586831\n",
      "[110]\tcv-test-auc:0.8385018+0.00459145046363\tcv-train-auc:0.894238+0.00103399323015\n",
      "[111]\tcv-test-auc:0.8384442+0.00452112408146\tcv-train-auc:0.8944956+0.00105932253823\n",
      "[112]\tcv-test-auc:0.8384104+0.00448998559463\tcv-train-auc:0.8947094+0.00102668468382\n",
      "[113]\tcv-test-auc:0.8383572+0.00452003218573\tcv-train-auc:0.8950144+0.000983113543799\n",
      "[114]\tcv-test-auc:0.8382772+0.00440317491817\tcv-train-auc:0.8952934+0.00100020129974\n",
      "[115]\tcv-test-auc:0.8382376+0.00450357789319\tcv-train-auc:0.8955592+0.00102908724606\n",
      "[116]\tcv-test-auc:0.8382434+0.0045275788055\tcv-train-auc:0.8958406+0.00107705015668\n",
      "[117]\tcv-test-auc:0.838145+0.00448446371376\tcv-train-auc:0.8959946+0.00108238118978\n",
      "[118]\tcv-test-auc:0.8381292+0.00451945215264\tcv-train-auc:0.896264+0.00108226891298\n",
      "[119]\tcv-test-auc:0.8381278+0.00449877825193\tcv-train-auc:0.8965098+0.00105384503605\n",
      "[120]\tcv-test-auc:0.8380538+0.00453790129465\tcv-train-auc:0.8967544+0.00111299211138\n",
      "[121]\tcv-test-auc:0.8379118+0.00454034612777\tcv-train-auc:0.8969724+0.0010288223559\n",
      "[122]\tcv-test-auc:0.8379308+0.00454818233583\tcv-train-auc:0.897307+0.00108238976344\n",
      "[123]\tcv-test-auc:0.8378744+0.00447818171136\tcv-train-auc:0.897428+0.00103982440825\n",
      "[124]\tcv-test-auc:0.837808+0.00443722760291\tcv-train-auc:0.8977428+0.00104018371454\n",
      "[125]\tcv-test-auc:0.8376824+0.00449625753711\tcv-train-auc:0.897945+0.00107615110463\n",
      "[126]\tcv-test-auc:0.8375598+0.00454226812947\tcv-train-auc:0.8981658+0.00112404686735\n",
      "[127]\tcv-test-auc:0.8376016+0.00452214363328\tcv-train-auc:0.8983492+0.00113867526539\n",
      "[128]\tcv-test-auc:0.8375454+0.00460073561944\tcv-train-auc:0.8985878+0.00123049053633\n",
      "[129]\tcv-test-auc:0.8375144+0.00467237937672\tcv-train-auc:0.8987158+0.00124438215995\n",
      "[130]\tcv-test-auc:0.837457+0.00479266201604\tcv-train-auc:0.8989544+0.00129672381022\n",
      "Stopping. Best iteration: 80\n"
     ]
    },
    {
     "name": "stdout",
     "output_type": "stream",
     "text": [
      "\n",
      "Model Report\n",
      "Accuracy : 0.961\n",
      "AUC Score (Train): 0.876629\n"
     ]
    },
    {
     "data": {
      "image/png": "[encoded data removed]",
      "text/plain": [
       "<matplotlib.figure.Figure at 0x11bb269d0>"
      ]
     },
     "metadata": {},
     "output_type": "display_data"
    }
   ],
   "source": [
    "xgb1=XGBClassifier(learning_rate =0.1, n_estimators=1000, max_depth=5, min_child_weight=1, gamma=0, subsample=0.8, colsample_bytree=0.8, objective= 'binary:logistic', nthread=4, scale_pos_weight=1, seed=27)\n",
    "# print xgb1.get_xgb_parames()\n",
    "\n",
    "modelfit(xgb1,train,predictors)"
   ]
  },
  {
   "cell_type": "markdown",
   "metadata": {},
   "source": [
    "    we get best num of estimators : 80"
   ]
  },
  {
   "cell_type": "code",
   "execution_count": 90,
   "metadata": {
    "collapsed": true
   },
   "outputs": [],
   "source": [
    "xgb_best_n_estimators = 80"
   ]
  },
  {
   "cell_type": "code",
   "execution_count": 91,
   "metadata": {
    "collapsed": false,
    "scrolled": false
   },
   "outputs": [
    {
     "name": "stdout",
     "output_type": "stream",
     "text": [
      "Index([u'var3', u'var15', u'imp_ent_var16_ult1', u'imp_op_var39_comer_ult1',\n",
      "       u'imp_op_var39_comer_ult3', u'imp_op_var40_comer_ult1',\n",
      "       u'imp_op_var40_comer_ult3', u'imp_op_var40_efect_ult1',\n",
      "       u'imp_op_var40_efect_ult3', u'imp_op_var40_ult1',\n",
      "       ...\n",
      "       u'saldo_medio_var33_hace2', u'saldo_medio_var33_hace3',\n",
      "       u'saldo_medio_var33_ult1', u'saldo_medio_var33_ult3',\n",
      "       u'saldo_medio_var44_hace2', u'saldo_medio_var44_hace3',\n",
      "       u'saldo_medio_var44_ult1', u'saldo_medio_var44_ult3', u'var38',\n",
      "       u'TARGET'],\n",
      "      dtype='object', length=307)\n",
      "Index([u'var3', u'var15', u'imp_ent_var16_ult1', u'imp_op_var39_comer_ult1',\n",
      "       u'imp_op_var39_comer_ult3', u'imp_op_var40_comer_ult1',\n",
      "       u'imp_op_var40_comer_ult3', u'imp_op_var40_efect_ult1',\n",
      "       u'imp_op_var40_efect_ult3', u'imp_op_var40_ult1',\n",
      "       ...\n",
      "       u'saldo_medio_var29_ult3', u'saldo_medio_var33_hace2',\n",
      "       u'saldo_medio_var33_hace3', u'saldo_medio_var33_ult1',\n",
      "       u'saldo_medio_var33_ult3', u'saldo_medio_var44_hace2',\n",
      "       u'saldo_medio_var44_hace3', u'saldo_medio_var44_ult1',\n",
      "       u'saldo_medio_var44_ult3', u'var38'],\n",
      "      dtype='object', length=306)\n"
     ]
    }
   ],
   "source": [
    "print train.columns\n",
    "print train.iloc[:,:-1].columns"
   ]
  },
  {
   "cell_type": "code",
   "execution_count": 92,
   "metadata": {
    "collapsed": false
   },
   "outputs": [],
   "source": [
    "param_test1 = {\n",
    "'max_depth':range(3,10,2),\n",
    "'min_child_weight':range(1,6,2)\n",
    "}\n",
    "\n",
    "gsearch1 = GridSearchCV(estimator = XGBClassifier( learning_rate =0.1, n_estimators=xgb_best_n_estimators, max_depth=5,\n",
    "min_child_weight=1, gamma=0, subsample=0.8, colsample_bytree=0.8,\n",
    "objective= 'binary:logistic', nthread=4, scale_pos_weight=1, seed=27), \n",
    "param_grid = param_test1, scoring='roc_auc',n_jobs=-1,iid=False, cv=5)"
   ]
  },
  {
   "cell_type": "code",
   "execution_count": null,
   "metadata": {
    "collapsed": false
   },
   "outputs": [],
   "source": [
    "gsearch1.fit(train[predictors],train[target])"
   ]
  },
  {
   "cell_type": "code",
   "execution_count": null,
   "metadata": {
    "collapsed": false
   },
   "outputs": [],
   "source": [
    "gsearch1.grid_scores_, gsearch1.best_params_, gsearch1.best_score_"
   ]
  },
  {
   "cell_type": "markdown",
   "metadata": {
    "collapsed": true
   },
   "source": [
    "find best max_depth:5, min_child_weight:3"
   ]
  },
  {
   "cell_type": "code",
   "execution_count": 21,
   "metadata": {
    "collapsed": true
   },
   "outputs": [],
   "source": [
    "best_xgb_max_depth = 5\n",
    "best_xgb_min_child_weight = 3"
   ]
  },
  {
   "cell_type": "markdown",
   "metadata": {
    "collapsed": true
   },
   "source": [
    "grid search in smaller range"
   ]
  },
  {
   "cell_type": "code",
   "execution_count": 65,
   "metadata": {
    "collapsed": false
   },
   "outputs": [
    {
     "data": {
      "text/plain": [
       "([mean: 0.83837, std: 0.00901, params: {'max_depth': 4, 'min_child_weight': 2},\n",
       "  mean: 0.83837, std: 0.00931, params: {'max_depth': 4, 'min_child_weight': 3},\n",
       "  mean: 0.83831, std: 0.01000, params: {'max_depth': 4, 'min_child_weight': 4},\n",
       "  mean: 0.83761, std: 0.00941, params: {'max_depth': 5, 'min_child_weight': 2},\n",
       "  mean: 0.83727, std: 0.00958, params: {'max_depth': 5, 'min_child_weight': 3},\n",
       "  mean: 0.83759, std: 0.00946, params: {'max_depth': 5, 'min_child_weight': 4},\n",
       "  mean: 0.83626, std: 0.01025, params: {'max_depth': 6, 'min_child_weight': 2},\n",
       "  mean: 0.83652, std: 0.00930, params: {'max_depth': 6, 'min_child_weight': 3},\n",
       "  mean: 0.83664, std: 0.00959, params: {'max_depth': 6, 'min_child_weight': 4}],\n",
       " {'max_depth': 4, 'min_child_weight': 3},\n",
       " 0.83837124786103934)"
      ]
     },
     "execution_count": 65,
     "metadata": {},
     "output_type": "execute_result"
    }
   ],
   "source": [
    "param_test2 = { 'max_depth':[4,5,6], 'min_child_weight':[2,3,4] } \n",
    "gsearch2 = GridSearchCV(estimator = XGBClassifier( learning_rate=0.1, n_estimators=xgb_best_n_estimators, max_depth=5, min_child_weight=3, gamma=0, subsample=0.8, colsample_bytree=0.8, objective= 'binary:logistic', nthread=4, scale_pos_weight=1,seed=27), param_grid = param_test2, scoring='roc_auc',n_jobs=1,iid=False, cv=5) \n",
    "gsearch2.fit(train[predictors],train[target]) \n",
    "gsearch2.grid_scores_, gsearch2.best_params_, gsearch2.best_score_"
   ]
  },
  {
   "cell_type": "markdown",
   "metadata": {},
   "source": [
    "We find better parameters in smaller range: 'max_depth': 4, 'min_child_weight': 3"
   ]
  },
  {
   "cell_type": "code",
   "execution_count": 22,
   "metadata": {
    "collapsed": true
   },
   "outputs": [],
   "source": [
    "best_xgb_max_depth = 4\n",
    "best_xgb_min_child_weight = 3"
   ]
  },
  {
   "cell_type": "code",
   "execution_count": null,
   "metadata": {
    "collapsed": true
   },
   "outputs": [],
   "source": [
    "tunning gamma"
   ]
  },
  {
   "cell_type": "code",
   "execution_count": null,
   "metadata": {
    "collapsed": false
   },
   "outputs": [],
   "source": [
    "param_test3= { 'gamma': [i/10.0 for i in range(0,5)]}\n",
    "gsearch3 = GridSearchCV(estimator=XGBClassifier(learning_rate=0.1,n_estimators=xgb_best_n_estimators,max_depth=best_xgb_max_depth,min_child_weight=best_xgb_min_child_weight,gamma=0,subsample= 0.8, colsample_bytree=0.8, objective='binary:logistic',nthread=4,scale_pos_weight=1,seed=27), param_grid=\n",
    "param_test3,scoring = 'roc_auc',n_jobs=1,iid=False,cv=5                )\n",
    "gsearch3.fit(train[predictors],train[target]) \n",
    "gsearch3.grid_scores_, gsearch3.best_params_, gsearch3.best_score_"
   ]
  },
  {
   "cell_type": "code",
   "execution_count": 25,
   "metadata": {
    "collapsed": false
   },
   "outputs": [
    {
     "data": {
      "text/plain": [
       "([mean: 0.83932, std: 0.00929, params: {'gamma': 0.0},\n",
       "  mean: 0.83915, std: 0.00895, params: {'gamma': 0.1},\n",
       "  mean: 0.83922, std: 0.00882, params: {'gamma': 0.2},\n",
       "  mean: 0.83912, std: 0.00894, params: {'gamma': 0.3},\n",
       "  mean: 0.83885, std: 0.00919, params: {'gamma': 0.4}],\n",
       " {'gamma': 0.0},\n",
       " 0.83932151180304582)"
      ]
     },
     "execution_count": 25,
     "metadata": {},
     "output_type": "execute_result"
    }
   ],
   "source": [
    "gsearch3.grid_scores_, gsearch3.best_params_, gsearch3.best_score_"
   ]
  },
  {
   "cell_type": "markdown",
   "metadata": {},
   "source": [
    "best gamma: 0"
   ]
  },
  {
   "cell_type": "code",
   "execution_count": 23,
   "metadata": {
    "collapsed": true
   },
   "outputs": [],
   "source": [
    "xgb_best_gamma=0"
   ]
  },
  {
   "cell_type": "code",
   "execution_count": null,
   "metadata": {
    "collapsed": true
   },
   "outputs": [],
   "source": []
  },
  {
   "cell_type": "code",
   "execution_count": null,
   "metadata": {
    "collapsed": false
   },
   "outputs": [],
   "source": [
    "param_test4 = { 'subsample':[i/10.0 for i in range(6,10)], 'colsample_bytree':[i/10.0 for i in range(6,10)] } \n",
    "gsearch4 = GridSearchCV(estimator = XGBClassifier( learning_rate =0.1, n_estimators=xgb_best_n_estimators, max_depth=best_xgb_max_depth, min_child_weight=best_xgb_min_child_weight, gamma=xgb_best_gamma, subsample=0.8, colsample_bytree=0.8, objective= 'binary:logistic', nthread=4, scale_pos_weight=1,seed=27), param_grid = param_test4, scoring='roc_auc',n_jobs=4,iid=False, cv=5) \n",
    "gsearch4.fit(train[predictors],train[target]) \n",
    "gsearch4.grid_scores_, gsearch4.best_params_, gsearch4.best_score_"
   ]
  },
  {
   "cell_type": "code",
   "execution_count": null,
   "metadata": {
    "collapsed": true
   },
   "outputs": [],
   "source": []
  },
  {
   "cell_type": "code",
   "execution_count": null,
   "metadata": {
    "collapsed": true
   },
   "outputs": [],
   "source": [
    "param_test5 = {\n",
    "'subsample':[i/100.0 for i in range(75,90,5)],\n",
    "'colsample_bytree':[i/100.0 for i in range(75,90,5)]\n",
    "}\n",
    "gsearch5 = GridSearchCV(estimator = XGBClassifier( learning_rate =0.1, n_estimators=xgb_best_n_estimators, max_depth=best_xgb_max_depth,\n",
    "min_child_weight=best_xgb_min_child_weight, gamma=xgb_best_gamma, subsample=0.8, colsample_bytree=0.8,\n",
    "objective= 'binary:logistic', nthread=4, scale_pos_weight=1,seed=27), \n",
    "param_grid = param_test5, scoring='roc_auc',n_jobs=4,iid=False, cv=5)\n",
    "gsearch5.fit(train[predictors],train[target])\n",
    "gsearch5.grid_scores_, gsearch5.best_params_, gsearch5.best_score_"
   ]
  },
  {
   "cell_type": "code",
   "execution_count": null,
   "metadata": {
    "collapsed": true
   },
   "outputs": [],
   "source": []
  },
  {
   "cell_type": "code",
   "execution_count": null,
   "metadata": {
    "collapsed": true
   },
   "outputs": [],
   "source": []
  },
  {
   "cell_type": "code",
   "execution_count": null,
   "metadata": {
    "collapsed": true
   },
   "outputs": [],
   "source": []
  },
  {
   "cell_type": "code",
   "execution_count": null,
   "metadata": {
    "collapsed": true
   },
   "outputs": [],
   "source": []
  },
  {
   "cell_type": "code",
   "execution_count": null,
   "metadata": {
    "collapsed": true
   },
   "outputs": [],
   "source": []
  },
  {
   "cell_type": "markdown",
   "metadata": {
    "collapsed": true
   },
   "source": [
    "find best regularization alpha"
   ]
  },
  {
   "cell_type": "code",
   "execution_count": 26,
   "metadata": {
    "collapsed": false
   },
   "outputs": [
    {
     "data": {
      "text/plain": [
       "([mean: 0.83932, std: 0.00929, params: {'reg_alpha': 1e-05},\n",
       "  mean: 0.83931, std: 0.00912, params: {'reg_alpha': 0.01},\n",
       "  mean: 0.83949, std: 0.00956, params: {'reg_alpha': 0.1},\n",
       "  mean: 0.83959, std: 0.00935, params: {'reg_alpha': 1},\n",
       "  mean: 0.82809, std: 0.00892, params: {'reg_alpha': 100}],\n",
       " {'reg_alpha': 1},\n",
       " 0.83958566172506066)"
      ]
     },
     "execution_count": 26,
     "metadata": {},
     "output_type": "execute_result"
    }
   ],
   "source": [
    "param_test6 = { 'reg_alpha':[1e-5, 1e-2, 0.1, 1, 100] } \n",
    "gsearch6 = GridSearchCV(estimator = XGBClassifier( learning_rate =0.1, n_estimators=xgb_best_n_estimators, max_depth=best_xgb_max_depth, min_child_weight=best_xgb_min_child_weight, gamma=xgb_best_gamma, subsample=0.8, colsample_bytree=0.8, objective= 'binary:logistic', nthread=4, scale_pos_weight=1,seed=27), param_grid = param_test6, scoring='roc_auc',n_jobs=4,iid=False, cv=5) \n",
    "gsearch6.fit(train[predictors],train[target]) \n",
    "gsearch6.grid_scores_, gsearch6.best_params_, gsearch6.best_score_"
   ]
  },
  {
   "cell_type": "markdown",
   "metadata": {
    "collapsed": true
   },
   "source": [
    "    find best alpha=1"
   ]
  },
  {
   "cell_type": "code",
   "execution_count": 27,
   "metadata": {
    "collapsed": true
   },
   "outputs": [],
   "source": [
    "xgb_best_alpha=1"
   ]
  },
  {
   "cell_type": "code",
   "execution_count": 23,
   "metadata": {
    "collapsed": false
   },
   "outputs": [
    {
     "data": {
      "text/plain": [
       "<function xgboost.training.cv>"
      ]
     },
     "execution_count": 23,
     "metadata": {},
     "output_type": "execute_result"
    }
   ],
   "source": [
    "xg.cv"
   ]
  },
  {
   "cell_type": "markdown",
   "metadata": {},
   "source": [
    "cross validation"
   ]
  },
  {
   "cell_type": "code",
   "execution_count": 35,
   "metadata": {
    "collapsed": true
   },
   "outputs": [],
   "source": [
    "from sklearn import cross_validation\n",
    "from sklearn.cross_validation import KFold\n",
    "from sklearn.grid_search import GridSearchCV"
   ]
  },
  {
   "cell_type": "code",
   "execution_count": null,
   "metadata": {
    "collapsed": true
   },
   "outputs": [],
   "source": []
  },
  {
   "cell_type": "code",
   "execution_count": null,
   "metadata": {
    "collapsed": true
   },
   "outputs": [],
   "source": []
  },
  {
   "cell_type": "code",
   "execution_count": null,
   "metadata": {
    "collapsed": true
   },
   "outputs": [],
   "source": []
  },
  {
   "cell_type": "code",
   "execution_count": null,
   "metadata": {
    "collapsed": true
   },
   "outputs": [],
   "source": []
  },
  {
   "cell_type": "code",
   "execution_count": null,
   "metadata": {
    "collapsed": true
   },
   "outputs": [],
   "source": []
  },
  {
   "cell_type": "markdown",
   "metadata": {},
   "source": [
    "## Ensemble\n",
    "run as many models as possbile, then use existing ensemble code "
   ]
  },
  {
   "cell_type": "code",
   "execution_count": null,
   "metadata": {
    "collapsed": true
   },
   "outputs": [],
   "source": []
  },
  {
   "cell_type": "markdown",
   "metadata": {},
   "source": [
    "### SVM\n",
    "need sub sample "
   ]
  },
  {
   "cell_type": "code",
   "execution_count": null,
   "metadata": {
    "collapsed": false
   },
   "outputs": [
    {
     "name": "stderr",
     "output_type": "stream",
     "text": [
      "/Public/anaconda/lib/python2.7/site-packages/IPython/html.py:14: ShimWarning: The `IPython.html` package has been deprecated. You should import from `notebook` instead. `IPython.html.widgets` has moved to `ipywidgets`.\n",
      "  \"`IPython.html.widgets` has moved to `ipywidgets`.\", ShimWarning)\n"
     ]
    }
   ],
   "source": [
    "import seaborn\n",
    "import pylab as pl\n",
    "from scipy import stats\n",
    "seaborn.set()"
   ]
  },
  {
   "cell_type": "code",
   "execution_count": null,
   "metadata": {
    "collapsed": false
   },
   "outputs": [],
   "source": [
    "from sklearn.svm import SVC\n",
    "# SVM is slow, use subsample\n",
    "clf = SVC()\n",
    "clf.fit(x,y)"
   ]
  },
  {
   "cell_type": "code",
   "execution_count": null,
   "metadata": {
    "collapsed": true
   },
   "outputs": [],
   "source": [
    "clf.predict_proba(test)"
   ]
  },
  {
   "cell_type": "code",
   "execution_count": null,
   "metadata": {
    "collapsed": true
   },
   "outputs": [],
   "source": []
  },
  {
   "cell_type": "code",
   "execution_count": null,
   "metadata": {
    "collapsed": true
   },
   "outputs": [],
   "source": []
  },
  {
   "cell_type": "markdown",
   "metadata": {
    "collapsed": true
   },
   "source": [
    "### Random forest"
   ]
  },
  {
   "cell_type": "code",
   "execution_count": 28,
   "metadata": {
    "collapsed": true
   },
   "outputs": [],
   "source": [
    "from sklearn.ensemble import RandomForestClassifier\n",
    "from sklearn.ensemble import ExtraTreesClassifier"
   ]
  },
  {
   "cell_type": "code",
   "execution_count": 34,
   "metadata": {
    "collapsed": true
   },
   "outputs": [],
   "source": [
    "clf = RandomForestClassifier(n_estimators=10,max_depth=None,min_samples_split=1,random_state=0)"
   ]
  },
  {
   "cell_type": "code",
   "execution_count": 35,
   "metadata": {
    "collapsed": false
   },
   "outputs": [
    {
     "data": {
      "text/plain": [
       "RandomForestClassifier(bootstrap=True, class_weight=None, criterion='gini',\n",
       "            max_depth=None, max_features='auto', max_leaf_nodes=None,\n",
       "            min_samples_leaf=1, min_samples_split=1,\n",
       "            min_weight_fraction_leaf=0.0, n_estimators=10, n_jobs=1,\n",
       "            oob_score=False, random_state=0, verbose=0, warm_start=False)"
      ]
     },
     "execution_count": 35,
     "metadata": {},
     "output_type": "execute_result"
    }
   ],
   "source": [
    "clf.fit(x,y)"
   ]
  },
  {
   "cell_type": "code",
   "execution_count": 36,
   "metadata": {
    "collapsed": false
   },
   "outputs": [
    {
     "data": {
      "text/plain": [
       "array([0, 0, 0, ..., 0, 0, 0])"
      ]
     },
     "execution_count": 36,
     "metadata": {},
     "output_type": "execute_result"
    }
   ],
   "source": [
    "clf.predict(test)"
   ]
  },
  {
   "cell_type": "code",
   "execution_count": 37,
   "metadata": {
    "collapsed": false
   },
   "outputs": [
    {
     "data": {
      "text/plain": [
       "array([[ 0.9,  0.1],\n",
       "       [ 1. ,  0. ],\n",
       "       [ 1. ,  0. ],\n",
       "       ..., \n",
       "       [ 1. ,  0. ],\n",
       "       [ 1. ,  0. ],\n",
       "       [ 1. ,  0. ]])"
      ]
     },
     "execution_count": 37,
     "metadata": {},
     "output_type": "execute_result"
    }
   ],
   "source": [
    "clf.predict_proba(test)"
   ]
  },
  {
   "cell_type": "code",
   "execution_count": null,
   "metadata": {
    "collapsed": true
   },
   "outputs": [],
   "source": []
  },
  {
   "cell_type": "markdown",
   "metadata": {},
   "source": [
    "### Neural networks"
   ]
  },
  {
   "cell_type": "code",
   "execution_count": null,
   "metadata": {
    "collapsed": true
   },
   "outputs": [],
   "source": []
  },
  {
   "cell_type": "markdown",
   "metadata": {
    "collapsed": true
   },
   "source": [
    "### Decision tree"
   ]
  },
  {
   "cell_type": "code",
   "execution_count": null,
   "metadata": {
    "collapsed": true
   },
   "outputs": [],
   "source": []
  },
  {
   "cell_type": "code",
   "execution_count": 17,
   "metadata": {
    "collapsed": false
   },
   "outputs": [],
   "source": [
    "from sklearn import tree\n",
    "clf= tree.DecisionTreeClassifier(max_features=50,max_depth=10);\n",
    "clf=clf.fit(x_train,y_train)"
   ]
  },
  {
   "cell_type": "code",
   "execution_count": 18,
   "metadata": {
    "collapsed": false
   },
   "outputs": [
    {
     "data": {
      "text/plain": [
       "array([0, 0, 0, ..., 0, 0, 0])"
      ]
     },
     "execution_count": 18,
     "metadata": {},
     "output_type": "execute_result"
    }
   ],
   "source": [
    "clf.predict(x_test)"
   ]
  },
  {
   "cell_type": "code",
   "execution_count": 19,
   "metadata": {
    "collapsed": false,
    "scrolled": true
   },
   "outputs": [
    {
     "data": {
      "text/plain": [
       "array([[ 0.98429752,  0.01570248],\n",
       "       [ 0.86592179,  0.13407821],\n",
       "       [ 0.98443552,  0.01556448],\n",
       "       ..., \n",
       "       [ 0.98443552,  0.01556448],\n",
       "       [ 0.9860262 ,  0.0139738 ],\n",
       "       [ 0.98533586,  0.01466414]])"
      ]
     },
     "execution_count": 19,
     "metadata": {},
     "output_type": "execute_result"
    }
   ],
   "source": [
    "clf.predict_proba(x_test)"
   ]
  },
  {
   "cell_type": "code",
   "execution_count": 20,
   "metadata": {
    "collapsed": false
   },
   "outputs": [
    {
     "data": {
      "text/plain": [
       "array([  3.37652108e-03,   2.23162804e-01,   7.16859896e-04,\n",
       "         5.45267591e-03,   6.75163737e-03,   0.00000000e+00,\n",
       "         0.00000000e+00,   0.00000000e+00,   0.00000000e+00,\n",
       "         3.86018704e-04,   0.00000000e+00,   1.91485127e-03,\n",
       "         1.18743997e-02,   8.18982174e-03,   2.40492443e-02,\n",
       "         5.23061610e-03,   7.78813460e-04,   1.70175905e-02,\n",
       "         3.19141879e-03,   0.00000000e+00,   0.00000000e+00,\n",
       "         0.00000000e+00,   0.00000000e+00,   0.00000000e+00,\n",
       "         0.00000000e+00,   0.00000000e+00,   0.00000000e+00,\n",
       "         0.00000000e+00,   0.00000000e+00,   0.00000000e+00,\n",
       "         0.00000000e+00,   0.00000000e+00,   0.00000000e+00,\n",
       "         0.00000000e+00,   0.00000000e+00,   0.00000000e+00,\n",
       "         0.00000000e+00,   0.00000000e+00,   3.35098973e-03,\n",
       "         0.00000000e+00,   0.00000000e+00,   0.00000000e+00,\n",
       "         0.00000000e+00,   0.00000000e+00,   0.00000000e+00,\n",
       "         0.00000000e+00,   0.00000000e+00,   0.00000000e+00,\n",
       "         0.00000000e+00,   0.00000000e+00,   0.00000000e+00,\n",
       "         0.00000000e+00,   0.00000000e+00,   0.00000000e+00,\n",
       "         0.00000000e+00,   0.00000000e+00,   0.00000000e+00,\n",
       "         0.00000000e+00,   0.00000000e+00,   0.00000000e+00,\n",
       "         0.00000000e+00,   0.00000000e+00,   0.00000000e+00,\n",
       "         0.00000000e+00,   2.35519933e-03,   0.00000000e+00,\n",
       "         0.00000000e+00,   0.00000000e+00,   0.00000000e+00,\n",
       "         8.27364549e-04,   0.00000000e+00,   0.00000000e+00,\n",
       "         0.00000000e+00,   0.00000000e+00,   0.00000000e+00,\n",
       "         0.00000000e+00,   0.00000000e+00,   0.00000000e+00,\n",
       "         0.00000000e+00,   0.00000000e+00,   0.00000000e+00,\n",
       "         0.00000000e+00,   0.00000000e+00,   0.00000000e+00,\n",
       "         0.00000000e+00,   2.83595132e-04,   0.00000000e+00,\n",
       "         0.00000000e+00,   0.00000000e+00,   0.00000000e+00,\n",
       "         0.00000000e+00,   0.00000000e+00,   0.00000000e+00,\n",
       "         0.00000000e+00,   0.00000000e+00,   0.00000000e+00,\n",
       "         0.00000000e+00,   0.00000000e+00,   1.07598964e-03,\n",
       "         7.84135929e-05,   3.40673472e-03,   0.00000000e+00,\n",
       "         3.27892486e-03,   5.92891850e-03,   3.67987901e-03,\n",
       "         9.60827150e-04,   9.37575714e-03,   2.04250803e-03,\n",
       "         2.06956538e-02,   1.00336462e-02,   0.00000000e+00,\n",
       "         0.00000000e+00,   0.00000000e+00,   0.00000000e+00,\n",
       "         0.00000000e+00,   0.00000000e+00,   1.65834104e-03,\n",
       "         3.67802750e-03,   0.00000000e+00,   0.00000000e+00,\n",
       "         0.00000000e+00,   0.00000000e+00,   4.25695239e-03,\n",
       "         0.00000000e+00,   0.00000000e+00,   0.00000000e+00,\n",
       "         0.00000000e+00,   0.00000000e+00,   1.73986665e-01,\n",
       "         0.00000000e+00,   1.17428015e-02,   0.00000000e+00,\n",
       "         0.00000000e+00,   0.00000000e+00,   0.00000000e+00,\n",
       "         1.13650580e-02,   0.00000000e+00,   0.00000000e+00,\n",
       "         0.00000000e+00,   0.00000000e+00,   0.00000000e+00,\n",
       "         4.30841537e-03,   4.17012055e-03,   1.67208475e-02,\n",
       "         0.00000000e+00,   0.00000000e+00,   0.00000000e+00,\n",
       "         0.00000000e+00,   3.50100828e-03,   3.11678869e-03,\n",
       "         1.14637469e-01,   0.00000000e+00,   5.10627007e-04,\n",
       "         0.00000000e+00,   0.00000000e+00,   2.23127295e-04,\n",
       "         0.00000000e+00,   0.00000000e+00,   0.00000000e+00,\n",
       "         0.00000000e+00,   0.00000000e+00,   0.00000000e+00,\n",
       "         0.00000000e+00,   0.00000000e+00,   0.00000000e+00,\n",
       "         0.00000000e+00,   0.00000000e+00,   0.00000000e+00,\n",
       "         0.00000000e+00,   0.00000000e+00,   0.00000000e+00,\n",
       "         0.00000000e+00,   0.00000000e+00,   0.00000000e+00,\n",
       "         3.06376204e-03,   0.00000000e+00,   0.00000000e+00,\n",
       "         0.00000000e+00,   0.00000000e+00,   0.00000000e+00,\n",
       "         0.00000000e+00,   0.00000000e+00,   0.00000000e+00,\n",
       "         3.73078501e-03,   0.00000000e+00,   0.00000000e+00,\n",
       "         0.00000000e+00,   0.00000000e+00,   1.91485127e-03,\n",
       "         3.96074144e-03,   0.00000000e+00,   0.00000000e+00,\n",
       "         0.00000000e+00,   0.00000000e+00,   0.00000000e+00,\n",
       "         0.00000000e+00,   0.00000000e+00,   0.00000000e+00,\n",
       "         0.00000000e+00,   0.00000000e+00,   0.00000000e+00,\n",
       "         0.00000000e+00,   4.52857186e-04,   0.00000000e+00,\n",
       "         0.00000000e+00,   5.62468352e-04,   0.00000000e+00,\n",
       "         0.00000000e+00,   0.00000000e+00,   0.00000000e+00,\n",
       "         0.00000000e+00,   0.00000000e+00,   0.00000000e+00,\n",
       "         0.00000000e+00,   8.97671532e-04,   0.00000000e+00,\n",
       "         0.00000000e+00,   3.16609007e-03,   7.97677721e-03,\n",
       "         3.96960055e-03,   1.73335836e-02,   1.25367882e-02,\n",
       "         1.09568054e-03,   9.41875820e-03,   1.40436084e-04,\n",
       "         0.00000000e+00,   0.00000000e+00,   0.00000000e+00,\n",
       "         0.00000000e+00,   0.00000000e+00,   0.00000000e+00,\n",
       "         0.00000000e+00,   0.00000000e+00,   1.89748269e-03,\n",
       "         0.00000000e+00,   7.32454194e-03,   4.40167111e-03,\n",
       "         5.42541194e-03,   0.00000000e+00,   0.00000000e+00,\n",
       "         0.00000000e+00,   0.00000000e+00,   1.48786145e-03,\n",
       "         0.00000000e+00,   3.82970255e-03,   8.03775011e-03,\n",
       "         2.00187520e-02,   0.00000000e+00,   0.00000000e+00,\n",
       "         0.00000000e+00,   0.00000000e+00,   0.00000000e+00,\n",
       "         0.00000000e+00,   0.00000000e+00,   0.00000000e+00,\n",
       "         0.00000000e+00,   0.00000000e+00,   0.00000000e+00,\n",
       "         0.00000000e+00,   0.00000000e+00,   0.00000000e+00,\n",
       "         0.00000000e+00,   0.00000000e+00,   1.40454715e-02,\n",
       "         1.40441629e-02,   2.52554852e-03,   3.47727430e-04,\n",
       "         2.18058017e-02,   1.06950740e-02,   1.25283362e-02,\n",
       "         1.30502421e-02,   3.44673229e-03,   0.00000000e+00,\n",
       "         9.45520481e-03,   1.27602934e-02,   0.00000000e+00,\n",
       "         0.00000000e+00,   9.36175972e-04,   0.00000000e+00,\n",
       "         1.14566742e-04,   0.00000000e+00,   0.00000000e+00,\n",
       "         0.00000000e+00,   0.00000000e+00,   0.00000000e+00,\n",
       "         0.00000000e+00,   0.00000000e+00,   0.00000000e+00,\n",
       "         0.00000000e+00,   0.00000000e+00,   0.00000000e+00,\n",
       "         0.00000000e+00,   0.00000000e+00,   0.00000000e+00,\n",
       "         0.00000000e+00,   0.00000000e+00,   0.00000000e+00,\n",
       "         0.00000000e+00,   0.00000000e+00,   0.00000000e+00,\n",
       "         0.00000000e+00,   0.00000000e+00,   0.00000000e+00,\n",
       "         0.00000000e+00,   0.00000000e+00,   2.82567145e-02])"
      ]
     },
     "execution_count": 20,
     "metadata": {},
     "output_type": "execute_result"
    }
   ],
   "source": [
    "clf.feature_importances_"
   ]
  },
  {
   "cell_type": "code",
   "execution_count": 22,
   "metadata": {
    "collapsed": false
   },
   "outputs": [
    {
     "data": {
      "text/plain": [
       "(76020, 50)"
      ]
     },
     "execution_count": 22,
     "metadata": {},
     "output_type": "execute_result"
    }
   ],
   "source": [
    "from sklearn.feature_selection import SelectFromModel\n",
    "model = SelectFromModel(clf,prefit=True)\n",
    "x_new = model.transform(x)\n",
    "x_new.shape"
   ]
  },
  {
   "cell_type": "code",
   "execution_count": null,
   "metadata": {
    "collapsed": true
   },
   "outputs": [],
   "source": []
  },
  {
   "cell_type": "code",
   "execution_count": null,
   "metadata": {
    "collapsed": true
   },
   "outputs": [],
   "source": []
  },
  {
   "cell_type": "code",
   "execution_count": null,
   "metadata": {
    "collapsed": false
   },
   "outputs": [],
   "source": [
    "from sklearn.metrics import roc_auc_score, auc\n",
    "# print len(clf.predict_proba(x_test))\n",
    "# auc(y_test,clf.predict_proba(x_test)[:,1])"
   ]
  },
  {
   "cell_type": "markdown",
   "metadata": {},
   "source": [
    "#### cross validation\n",
    "\n",
    "- - -\n",
    "objective function:\n",
    "\n",
    "$$Obj(\\Theta) = L(\\Theta) + \\Omega(\\Theta)$$\n",
    "$$\\min_{w,b,\\eta} \\frac{1}{2}w^Tw+C\\sum^n_{i=1}\\eta_i$$"
   ]
  },
  {
   "cell_type": "code",
   "execution_count": null,
   "metadata": {
    "collapsed": true
   },
   "outputs": [],
   "source": []
  },
  {
   "cell_type": "markdown",
   "metadata": {},
   "source": [
    "#### training curve\n",
    "• The Training Score shows how well a model fits the data it was trained on. This is not a good indication of model effectiveness\n",
    "\n",
    "• The Validation Score shows how well a model fits hold-out data. The most effective method is some form of cross-validation, where multiple hold-out sets are used.\n",
    "\n",
    "• Validation Curves are a plot of validation score and training score as a function of model complexity:\n",
    "\n",
    "• when the two curves are close, it indicates underfitting\n",
    "\n",
    "• when the two curves are separated, it indicates overfitting\n",
    "\n",
    "• the \"sweet spot\" is in the middle"
   ]
  },
  {
   "cell_type": "code",
   "execution_count": null,
   "metadata": {
    "collapsed": true
   },
   "outputs": [],
   "source": [
    "import matplotlib.pyplot as plt\n",
    "import numpy as np\n",
    "from sklearn.datasets import load_digits\n",
    "from sklearn.svm import SVC\n",
    "from sklearn.learning_curve import validation_curve\n",
    "\n",
    "def plot_validation_curve(estimator, title, X, y, ylim=None, cv=None,param_name=\"gamma\",scoring=\"accuracy\",\n",
    "                        n_jobs=1, param_range = np.logspace(-6, -1, 5)):\n",
    "\n",
    "    plt.figure()\n",
    "    plt.title(title)\n",
    "    if ylim is not None:\n",
    "        plt.ylim(*ylim)\n",
    "    plt.xlabel(\"Model complexity\")\n",
    "    plt.ylabel(\"Score\")\n",
    "    \n",
    "    train_scores, test_scores = validation_curve(\n",
    "        estimator, X, y, param_name=param_name, param_range=param_range,\n",
    "        cv=cv, scoring=scoring, n_jobs=n_jobs)\n",
    "    train_scores_mean = np.mean(train_scores, axis=1)\n",
    "    train_scores_std = np.std(train_scores, axis=1)\n",
    "    test_scores_mean = np.mean(test_scores, axis=1)\n",
    "    test_scores_std = np.std(test_scores, axis=1)\n",
    "\n",
    "    plt.title(\"Validation Curve\")\n",
    "    plt.xlabel(param_name)\n",
    "    plt.ylabel(\"Score\")\n",
    "    plt.ylim(0.0, 1.1)\n",
    "    plt.semilogx(param_range, train_scores_mean, label=\"Training score\", color=\"r\")\n",
    "    plt.fill_between(param_range, train_scores_mean - train_scores_std,\n",
    "                     train_scores_mean + train_scores_std, alpha=0.2, color=\"r\")\n",
    "    plt.semilogx(param_range, test_scores_mean, label=\"Cross-validation score\",\n",
    "                 color=\"g\")\n",
    "    plt.fill_between(param_range, test_scores_mean - test_scores_std,\n",
    "                     test_scores_mean + test_scores_std, alpha=0.2, color=\"g\")\n",
    "    plt.legend(loc=\"best\")\n",
    "    return plt\n"
   ]
  },
  {
   "cell_type": "code",
   "execution_count": null,
   "metadata": {
    "collapsed": true
   },
   "outputs": [],
   "source": [
    "from xgboost.sklearn import XGBClassifier\n",
    "title=\"Validation curve with XGBoost\"\n",
    "cv = cross_validation.ShuffleSplit(x.shape[0],n_iter=100,test_size=0.2,random_state=0)\n",
    "estimator1 =  XGBClassifier( n_estimators=xgb_best_n_estimators, max_depth = best_xgb_max_depth , min_child_weight = best_xgb_min_child_weight, reg_alpha=xgb_best_alpha)\n",
    "\n",
    "# print estimator1\n",
    "plot_validation_curve(estimator1,title,x,y,ylim=(0.7,1.01),cv=cv,n_jobs=4)\n",
    "plt.show()"
   ]
  },
  {
   "cell_type": "code",
   "execution_count": null,
   "metadata": {
    "collapsed": true
   },
   "outputs": [],
   "source": []
  },
  {
   "cell_type": "code",
   "execution_count": null,
   "metadata": {
    "collapsed": true
   },
   "outputs": [],
   "source": []
  },
  {
   "cell_type": "code",
   "execution_count": null,
   "metadata": {
    "collapsed": true
   },
   "outputs": [],
   "source": []
  },
  {
   "cell_type": "markdown",
   "metadata": {},
   "source": [
    "#### learning curve\n",
    "\n",
    "\n",
    "• Learning Curves are a plot of the validation score and training score as a function of Number of training samples\n",
    "\n",
    "• when the curves are close, it indicates underfitting, and adding more data will not generally improve the estimator.\n",
    "\n",
    "• when the curves are far apart, it indicates overfitting, and adding more data may increase the effectiveness of the model.\n",
    "\n"
   ]
  },
  {
   "cell_type": "code",
   "execution_count": null,
   "metadata": {
    "collapsed": false
   },
   "outputs": [],
   "source": [
    "print len(y_test)\n",
    "# print y_test\n",
    "print len(clf.predict_proba(x_test))\n",
    "print clf.predict_proba(x_test)"
   ]
  },
  {
   "cell_type": "code",
   "execution_count": null,
   "metadata": {
    "collapsed": false
   },
   "outputs": [],
   "source": [
    "plotAUC(x_test,y_test,clf.predict_proba(x_test))"
   ]
  },
  {
   "cell_type": "code",
   "execution_count": 29,
   "metadata": {
    "collapsed": false
   },
   "outputs": [],
   "source": [
    "from sklearn.learning_curve import learning_curve\n",
    "from sklearn.learning_curve import validation_curve\n",
    "import matplotlib.pyplot as plt\n",
    "import numpy as np"
   ]
  },
  {
   "cell_type": "code",
   "execution_count": 30,
   "metadata": {
    "collapsed": true
   },
   "outputs": [],
   "source": [
    "def plot_learning_curve(estimator, title, X, y, ylim=None, cv=None,\n",
    "                        n_jobs=1, train_sizes=np.linspace(.1, 1.0, 5)):\n",
    "    \"\"\"\n",
    "    Generate a simple plot of the test and traning learning curve.\n",
    "\n",
    "    Parameters\n",
    "    ----------\n",
    "    estimator : object type that implements the \"fit\" and \"predict\" methods\n",
    "        An object of that type which is cloned for each validation.\n",
    "\n",
    "    title : string\n",
    "        Title for the chart.\n",
    "\n",
    "    X : array-like, shape (n_samples, n_features)\n",
    "        Training vector, where n_samples is the number of samples and\n",
    "        n_features is the number of features.\n",
    "\n",
    "    y : array-like, shape (n_samples) or (n_samples, n_features), optional\n",
    "        Target relative to X for classification or regression;\n",
    "        None for unsupervised learning.\n",
    "\n",
    "    ylim : tuple, shape (ymin, ymax), optional\n",
    "        Defines minimum and maximum yvalues plotted.\n",
    "\n",
    "    cv : integer, cross-validation generator, optional\n",
    "        If an integer is passed, it is the number of folds (defaults to 3).\n",
    "        Specific cross-validation objects can be passed, see\n",
    "        sklearn.cross_validation module for the list of possible objects\n",
    "\n",
    "    n_jobs : integer, optional\n",
    "        Number of jobs to run in parallel (default 1).\n",
    "    \"\"\"\n",
    "    plt.figure()\n",
    "    plt.title(title)\n",
    "    if ylim is not None:\n",
    "        plt.ylim(*ylim)\n",
    "    plt.xlabel(\"Training examples\")\n",
    "    plt.ylabel(\"Score\")\n",
    "    train_sizes, train_scores, test_scores = learning_curve(\n",
    "        estimator, X, y, cv=cv, n_jobs=n_jobs, train_sizes=train_sizes)\n",
    "    train_scores_mean = np.mean(train_scores, axis=1)\n",
    "    train_scores_std = np.std(train_scores, axis=1)\n",
    "    test_scores_mean = np.mean(test_scores, axis=1)\n",
    "    test_scores_std = np.std(test_scores, axis=1)\n",
    "    plt.grid()\n",
    "\n",
    "    plt.fill_between(train_sizes, train_scores_mean - train_scores_std,\n",
    "                     train_scores_mean + train_scores_std, alpha=0.1,\n",
    "                     color=\"r\")\n",
    "    plt.fill_between(train_sizes, test_scores_mean - test_scores_std,\n",
    "                     test_scores_mean + test_scores_std, alpha=0.1, color=\"g\")\n",
    "    plt.plot(train_sizes, train_scores_mean, 'o-', color=\"r\",\n",
    "             label=\"Training score\")\n",
    "    plt.plot(train_sizes, test_scores_mean, 'o-', color=\"g\",\n",
    "             label=\"Cross-validation score\")\n",
    "\n",
    "    plt.legend(loc=\"best\")\n",
    "    return plt"
   ]
  },
  {
   "cell_type": "code",
   "execution_count": null,
   "metadata": {
    "collapsed": false
   },
   "outputs": [],
   "source": [
    "from xgboost.sklearn import XGBClassifier\n",
    "title=\"Learning curve with XGBoost\"\n",
    "cv = cross_validation.ShuffleSplit(x.shape[0],n_iter=100,test_size=0.2,random_state=0)\n",
    "estimator1 =  XGBClassifier( n_estimators=xgb_best_n_estimators, max_depth = best_xgb_max_depth , min_child_weight = best_xgb_min_child_weight, reg_alpha=xgb_best_alpha)\n",
    "\n",
    "# from sklearn.svm import SVC\n",
    "# estimator1 = SVC(gamma=0.001)\n",
    "\n",
    "# print estimator1\n",
    "plot_learning_curve(estimator1,title,x,y,ylim=(0.7,1.01),cv=cv,n_jobs=4)\n",
    "plt.show()"
   ]
  },
  {
   "cell_type": "markdown",
   "metadata": {},
   "source": [
    "#### gradient boost classifier ensemble"
   ]
  },
  {
   "cell_type": "code",
   "execution_count": 33,
   "metadata": {
    "collapsed": false
   },
   "outputs": [],
   "source": [
    "from sklearn.ensemble import GradientBoostingClassifier"
   ]
  },
  {
   "cell_type": "code",
   "execution_count": null,
   "metadata": {
    "collapsed": true
   },
   "outputs": [],
   "source": []
  },
  {
   "cell_type": "code",
   "execution_count": null,
   "metadata": {
    "collapsed": true
   },
   "outputs": [],
   "source": []
  },
  {
   "cell_type": "markdown",
   "metadata": {},
   "source": [
    "## Combination of ensembles"
   ]
  },
  {
   "cell_type": "code",
   "execution_count": null,
   "metadata": {
    "collapsed": true
   },
   "outputs": [],
   "source": []
  },
  {
   "cell_type": "code",
   "execution_count": null,
   "metadata": {
    "collapsed": true
   },
   "outputs": [],
   "source": []
  },
  {
   "cell_type": "code",
   "execution_count": null,
   "metadata": {
    "collapsed": true
   },
   "outputs": [],
   "source": []
  },
  {
   "cell_type": "code",
   "execution_count": null,
   "metadata": {
    "collapsed": true
   },
   "outputs": [],
   "source": []
  },
  {
   "cell_type": "code",
   "execution_count": null,
   "metadata": {
    "collapsed": true
   },
   "outputs": [],
   "source": []
  },
  {
   "cell_type": "code",
   "execution_count": null,
   "metadata": {
    "collapsed": true
   },
   "outputs": [],
   "source": []
  },
  {
   "cell_type": "code",
   "execution_count": null,
   "metadata": {
    "collapsed": true
   },
   "outputs": [],
   "source": []
  },
  {
   "cell_type": "code",
   "execution_count": null,
   "metadata": {
    "collapsed": true
   },
   "outputs": [],
   "source": []
  },
  {
   "cell_type": "code",
   "execution_count": null,
   "metadata": {
    "collapsed": true
   },
   "outputs": [],
   "source": []
  },
  {
   "cell_type": "code",
   "execution_count": null,
   "metadata": {
    "collapsed": true
   },
   "outputs": [],
   "source": []
  },
  {
   "cell_type": "code",
   "execution_count": null,
   "metadata": {
    "collapsed": true
   },
   "outputs": [],
   "source": []
  },
  {
   "cell_type": "code",
   "execution_count": null,
   "metadata": {
    "collapsed": true
   },
   "outputs": [],
   "source": []
  },
  {
   "cell_type": "markdown",
   "metadata": {},
   "source": [
    "preprocessing before submission"
   ]
  },
  {
   "cell_type": "markdown",
   "metadata": {},
   "source": [
    "# Under 23 year olds are always happy\n",
    "\n",
    " preds[var15 < 23] = 0\n",
    " \n",
    " preds[saldo_medio_var5_hace2 > 160000]=0\n",
    " \n",
    " preds[saldo_var33 > 0]=0\n",
    " \n",
    " preds[var38 > 3988596]=0\n",
    " \n",
    " preds[V21>7500]=0\n",
    " \n",
    " preds[nv > 0] = 0\n",
    " \n",
    "preds[tc['num_var30'] > 9] = 0\n",
    "\n",
    "preds[tc['num_var13_0'] > 6] = 0\n",
    "\n",
    "preds[tc['num_var33_0'] > 0] = 0\n",
    "\n",
    "preds[tc['imp_ent_var16_ult1'] > 51003] = 0\n",
    "\n",
    "preds[tc['imp_op_var39_comer_ult3'] > 13184] = 0\n",
    "\n",
    "preds[tc['saldo_medio_var5_ult3'] > 108251] = 0\n",
    "\n",
    "preds[(tc['var15']+tc['num_var45_hace3']+tc['num_var45_ult3']+tc['var36']) <= 24] = 0\n",
    "\n",
    "preds[tc['saldo_var5'] > 137615] = 0\n",
    "\n",
    " "
   ]
  },
  {
   "cell_type": "code",
   "execution_count": null,
   "metadata": {
    "collapsed": true
   },
   "outputs": [],
   "source": []
  }
 ],
 "metadata": {
  "kernelspec": {
   "display_name": "Python 2",
   "language": "python",
   "name": "python2"
  },
  "language_info": {
   "codemirror_mode": {
    "name": "ipython",
    "version": 2
   },
   "file_extension": ".py",
   "mimetype": "text/x-python",
   "name": "python",
   "nbconvert_exporter": "python",
   "pygments_lexer": "ipython2",
   "version": "2.7.11"
  }
 },
 "nbformat": 4,
 "nbformat_minor": 0
}
